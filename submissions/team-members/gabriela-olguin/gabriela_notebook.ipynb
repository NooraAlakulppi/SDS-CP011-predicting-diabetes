{
 "cells": [
  {
   "cell_type": "markdown",
   "metadata": {},
   "source": [
    "# 1. Predicting diabetes likelihood based on demographic and health data, using machine learning\n",
    "\n",
    "Approach:\n",
    "\n",
    "1. Problem definition\n",
    "2. Dictionary\n",
    "3. Importing libraraies and Data\n",
    "4. Exploratory Data Analysis\n",
    "5. Evaluation\n",
    "6. Features\n",
    "7. Modelling\n",
    "8. Experimentation\n",
    "9. Deploying in app"
   ]
  },
  {
   "cell_type": "markdown",
   "metadata": {},
   "source": [
    "## 1. Problem Definition\n",
    "> Given clinical parameters about a patient and their demographics, can we predict whether or not they are likley to have diabates?"
   ]
  },
  {
   "cell_type": "markdown",
   "metadata": {},
   "source": [
    " ## 2. Diabetes Dataset Data Dictionary \n",
    " \n",
    " Data Dictionary\n",
    "\n",
    "1. **year**: \n",
    "   - **Description**: The year in which the data was collected.\n",
    "   - **Type**: Integer\n",
    "\n",
    "2. **gender**: \n",
    "   - **Description**: The sex of the individual (1= Male; 0 = Female).\n",
    "   - **Type**: Categorical\n",
    "\n",
    "3. **age**: \n",
    "   - **Description**: The age of the individual in years.\n",
    "   - **Type**: Integer\n",
    "\n",
    "4. **location**: \n",
    "   - **Description**: The geographical area where the individual resides (e.g., city, state).\n",
    "   - **Type**: Categorical\n",
    "\n",
    "5. **race:AfricanAmerican**: \n",
    "   - **Description**: Indicates whether the individual identifies as African American (Yes/No).\n",
    "   - **Type**: Categorical\n",
    "\n",
    "6. **race:Asian**: \n",
    "   - **Description**: Indicates whether the individual identifies as Asian (Yes/No).\n",
    "   - **Type**: Categorical\n",
    "\n",
    "7. **race:Caucasian**: \n",
    "   - **Description**: Indicates whether the individual identifies as Caucasian (Yes/No).\n",
    "   - **Type**: Categorical\n",
    "\n",
    "8. **race:Hispanic**: \n",
    "   - **Description**: Indicates whether the individual identifies as Hispanic (Yes/No).\n",
    "   - **Type**: Categorical\n",
    "\n",
    "9. **race:Other**: \n",
    "   - **Description**: Indicates whether the individual identifies with a race not listed above (Yes/No).\n",
    "   - **Type**: Categorical\n",
    "\n",
    "10. **hypertension**: \n",
    "    - **Description**: Indicates if the individual has high blood pressure (Yes/No).\n",
    "    - **Type**: Categorical\n",
    "\n",
    "11. **heart_disease**: \n",
    "    - **Description**: Indicates if the individual has a history of heart disease (Yes/No).\n",
    "    - **Type**: Categorical\n",
    "\n",
    "12. **smoking_history**: \n",
    "    - **Description**: Indicates if the individual has a history of smoking (e.g., Never, Former, Current).\n",
    "    - **Type**: Categorical\n",
    "\n",
    "13. **bmi**: \n",
    "    - **Description**: Body Mass Index, a measure of body fat based on height and weight.\n",
    "    - **Type**: Float (decimal)\n",
    "\n",
    "14. **hbA1c_level**: \n",
    "    - **Description**: A measure of average blood sugar levels over the past 2-3 months, expressed as a percentage.\n",
    "    - **Type**: Float (decimal)\n",
    "\n",
    "15. **blood_glucose_level**: \n",
    "    - **Description**: The current level of glucose in the blood, typically measured in mg/dL.\n",
    "    - **Type**: Float (decimal)\n",
    "\n",
    "16. **diabetes**: \n",
    "    - **Description**: Indicates whether the individual has been diagnosed with diabetes (Yes/No).\n",
    "    - **Type**: Categorical\n",
    "\n",
    "### Purpose of the Dataset\n",
    "\n",
    "This dataset aims to collect and analyze various factors associated with diabetes and its related health conditions. By understanding the demographics, health history, and other relevant metrics, researchers and healthcare professionals can identify patterns and risk factors associated with diabetes.\n",
    "\n"
   ]
  },
  {
   "cell_type": "markdown",
   "metadata": {},
   "source": [
    "## 3. Importing dataset and libraries"
   ]
  },
  {
   "cell_type": "code",
   "execution_count": 1,
   "metadata": {},
   "outputs": [],
   "source": [
    "#Libraries\n",
    "\n",
    "import numpy as np\n",
    "import pandas as pd\n",
    "import matplotlib.pyplot as plt\n",
    "import seaborn as sns\n",
    "%matplotlib inline\n",
    "\n",
    "#Models from SKlearn\n",
    "from sklearn.linear_model import LogisticRegression\n",
    "from sklearn.neighbors import KNeighborsClassifier\n",
    "from sklearn.ensemble import RandomForestClassifier\n",
    "from sklearn import svm\n",
    "from sklearn.ensemble import GradientBoostingClassifier\n",
    "from sklearn.tree import DecisionTreeClassifier\n",
    "\n",
    "#Model Evaluations\n",
    "from sklearn.model_selection import train_test_split, cross_val_score\n",
    "from sklearn.model_selection import RandomizedSearchCV, GridSearchCV\n",
    "from sklearn.metrics import confusion_matrix, classification_report\n",
    "from sklearn.metrics import precision_score, recall_score, f1_score\n",
    "from sklearn.metrics import plot_roc_curve\n",
    "\n",
    "#Libraries for Streamlit app\n",
    "import numpy as np\n",
    "import streamlit as st\n",
    "#import plotly.express as px\n",
    "import joblib\n",
    "\n"
   ]
  },
  {
   "cell_type": "code",
   "execution_count": 2,
   "metadata": {},
   "outputs": [
    {
     "data": {
      "text/html": [
       "<div>\n",
       "<style scoped>\n",
       "    .dataframe tbody tr th:only-of-type {\n",
       "        vertical-align: middle;\n",
       "    }\n",
       "\n",
       "    .dataframe tbody tr th {\n",
       "        vertical-align: top;\n",
       "    }\n",
       "\n",
       "    .dataframe thead th {\n",
       "        text-align: right;\n",
       "    }\n",
       "</style>\n",
       "<table border=\"1\" class=\"dataframe\">\n",
       "  <thead>\n",
       "    <tr style=\"text-align: right;\">\n",
       "      <th></th>\n",
       "      <th>year</th>\n",
       "      <th>gender</th>\n",
       "      <th>age</th>\n",
       "      <th>location</th>\n",
       "      <th>race:AfricanAmerican</th>\n",
       "      <th>race:Asian</th>\n",
       "      <th>race:Caucasian</th>\n",
       "      <th>race:Hispanic</th>\n",
       "      <th>race:Other</th>\n",
       "      <th>hypertension</th>\n",
       "      <th>heart_disease</th>\n",
       "      <th>smoking_history</th>\n",
       "      <th>bmi</th>\n",
       "      <th>hbA1c_level</th>\n",
       "      <th>blood_glucose_level</th>\n",
       "      <th>diabetes</th>\n",
       "    </tr>\n",
       "  </thead>\n",
       "  <tbody>\n",
       "    <tr>\n",
       "      <th>0</th>\n",
       "      <td>2020</td>\n",
       "      <td>Female</td>\n",
       "      <td>32.0</td>\n",
       "      <td>Alabama</td>\n",
       "      <td>0</td>\n",
       "      <td>0</td>\n",
       "      <td>0</td>\n",
       "      <td>0</td>\n",
       "      <td>1</td>\n",
       "      <td>0</td>\n",
       "      <td>0</td>\n",
       "      <td>never</td>\n",
       "      <td>27.32</td>\n",
       "      <td>5.0</td>\n",
       "      <td>100</td>\n",
       "      <td>0</td>\n",
       "    </tr>\n",
       "    <tr>\n",
       "      <th>1</th>\n",
       "      <td>2015</td>\n",
       "      <td>Female</td>\n",
       "      <td>29.0</td>\n",
       "      <td>Alabama</td>\n",
       "      <td>0</td>\n",
       "      <td>1</td>\n",
       "      <td>0</td>\n",
       "      <td>0</td>\n",
       "      <td>0</td>\n",
       "      <td>0</td>\n",
       "      <td>0</td>\n",
       "      <td>never</td>\n",
       "      <td>19.95</td>\n",
       "      <td>5.0</td>\n",
       "      <td>90</td>\n",
       "      <td>0</td>\n",
       "    </tr>\n",
       "    <tr>\n",
       "      <th>2</th>\n",
       "      <td>2015</td>\n",
       "      <td>Male</td>\n",
       "      <td>18.0</td>\n",
       "      <td>Alabama</td>\n",
       "      <td>0</td>\n",
       "      <td>0</td>\n",
       "      <td>0</td>\n",
       "      <td>0</td>\n",
       "      <td>1</td>\n",
       "      <td>0</td>\n",
       "      <td>0</td>\n",
       "      <td>never</td>\n",
       "      <td>23.76</td>\n",
       "      <td>4.8</td>\n",
       "      <td>160</td>\n",
       "      <td>0</td>\n",
       "    </tr>\n",
       "    <tr>\n",
       "      <th>3</th>\n",
       "      <td>2015</td>\n",
       "      <td>Male</td>\n",
       "      <td>41.0</td>\n",
       "      <td>Alabama</td>\n",
       "      <td>0</td>\n",
       "      <td>0</td>\n",
       "      <td>1</td>\n",
       "      <td>0</td>\n",
       "      <td>0</td>\n",
       "      <td>0</td>\n",
       "      <td>0</td>\n",
       "      <td>never</td>\n",
       "      <td>27.32</td>\n",
       "      <td>4.0</td>\n",
       "      <td>159</td>\n",
       "      <td>0</td>\n",
       "    </tr>\n",
       "    <tr>\n",
       "      <th>4</th>\n",
       "      <td>2016</td>\n",
       "      <td>Female</td>\n",
       "      <td>52.0</td>\n",
       "      <td>Alabama</td>\n",
       "      <td>1</td>\n",
       "      <td>0</td>\n",
       "      <td>0</td>\n",
       "      <td>0</td>\n",
       "      <td>0</td>\n",
       "      <td>0</td>\n",
       "      <td>0</td>\n",
       "      <td>never</td>\n",
       "      <td>23.75</td>\n",
       "      <td>6.5</td>\n",
       "      <td>90</td>\n",
       "      <td>0</td>\n",
       "    </tr>\n",
       "    <tr>\n",
       "      <th>...</th>\n",
       "      <td>...</td>\n",
       "      <td>...</td>\n",
       "      <td>...</td>\n",
       "      <td>...</td>\n",
       "      <td>...</td>\n",
       "      <td>...</td>\n",
       "      <td>...</td>\n",
       "      <td>...</td>\n",
       "      <td>...</td>\n",
       "      <td>...</td>\n",
       "      <td>...</td>\n",
       "      <td>...</td>\n",
       "      <td>...</td>\n",
       "      <td>...</td>\n",
       "      <td>...</td>\n",
       "      <td>...</td>\n",
       "    </tr>\n",
       "    <tr>\n",
       "      <th>99995</th>\n",
       "      <td>2018</td>\n",
       "      <td>Female</td>\n",
       "      <td>33.0</td>\n",
       "      <td>Wyoming</td>\n",
       "      <td>0</td>\n",
       "      <td>0</td>\n",
       "      <td>0</td>\n",
       "      <td>0</td>\n",
       "      <td>1</td>\n",
       "      <td>0</td>\n",
       "      <td>0</td>\n",
       "      <td>never</td>\n",
       "      <td>21.21</td>\n",
       "      <td>6.5</td>\n",
       "      <td>90</td>\n",
       "      <td>0</td>\n",
       "    </tr>\n",
       "    <tr>\n",
       "      <th>99996</th>\n",
       "      <td>2016</td>\n",
       "      <td>Female</td>\n",
       "      <td>80.0</td>\n",
       "      <td>Wyoming</td>\n",
       "      <td>0</td>\n",
       "      <td>1</td>\n",
       "      <td>0</td>\n",
       "      <td>0</td>\n",
       "      <td>0</td>\n",
       "      <td>0</td>\n",
       "      <td>0</td>\n",
       "      <td>No Info</td>\n",
       "      <td>36.66</td>\n",
       "      <td>5.7</td>\n",
       "      <td>100</td>\n",
       "      <td>0</td>\n",
       "    </tr>\n",
       "    <tr>\n",
       "      <th>99997</th>\n",
       "      <td>2018</td>\n",
       "      <td>Male</td>\n",
       "      <td>46.0</td>\n",
       "      <td>Wyoming</td>\n",
       "      <td>0</td>\n",
       "      <td>1</td>\n",
       "      <td>0</td>\n",
       "      <td>0</td>\n",
       "      <td>0</td>\n",
       "      <td>0</td>\n",
       "      <td>0</td>\n",
       "      <td>ever</td>\n",
       "      <td>36.12</td>\n",
       "      <td>6.2</td>\n",
       "      <td>158</td>\n",
       "      <td>0</td>\n",
       "    </tr>\n",
       "    <tr>\n",
       "      <th>99998</th>\n",
       "      <td>2018</td>\n",
       "      <td>Female</td>\n",
       "      <td>51.0</td>\n",
       "      <td>Wyoming</td>\n",
       "      <td>1</td>\n",
       "      <td>0</td>\n",
       "      <td>0</td>\n",
       "      <td>0</td>\n",
       "      <td>0</td>\n",
       "      <td>0</td>\n",
       "      <td>0</td>\n",
       "      <td>not current</td>\n",
       "      <td>29.29</td>\n",
       "      <td>6.0</td>\n",
       "      <td>155</td>\n",
       "      <td>0</td>\n",
       "    </tr>\n",
       "    <tr>\n",
       "      <th>99999</th>\n",
       "      <td>2016</td>\n",
       "      <td>Male</td>\n",
       "      <td>13.0</td>\n",
       "      <td>Wyoming</td>\n",
       "      <td>0</td>\n",
       "      <td>0</td>\n",
       "      <td>0</td>\n",
       "      <td>1</td>\n",
       "      <td>0</td>\n",
       "      <td>0</td>\n",
       "      <td>0</td>\n",
       "      <td>No Info</td>\n",
       "      <td>17.16</td>\n",
       "      <td>5.0</td>\n",
       "      <td>90</td>\n",
       "      <td>0</td>\n",
       "    </tr>\n",
       "  </tbody>\n",
       "</table>\n",
       "<p>100000 rows × 16 columns</p>\n",
       "</div>"
      ],
      "text/plain": [
       "       year  gender   age location  race:AfricanAmerican  race:Asian  \\\n",
       "0      2020  Female  32.0  Alabama                     0           0   \n",
       "1      2015  Female  29.0  Alabama                     0           1   \n",
       "2      2015    Male  18.0  Alabama                     0           0   \n",
       "3      2015    Male  41.0  Alabama                     0           0   \n",
       "4      2016  Female  52.0  Alabama                     1           0   \n",
       "...     ...     ...   ...      ...                   ...         ...   \n",
       "99995  2018  Female  33.0  Wyoming                     0           0   \n",
       "99996  2016  Female  80.0  Wyoming                     0           1   \n",
       "99997  2018    Male  46.0  Wyoming                     0           1   \n",
       "99998  2018  Female  51.0  Wyoming                     1           0   \n",
       "99999  2016    Male  13.0  Wyoming                     0           0   \n",
       "\n",
       "       race:Caucasian  race:Hispanic  race:Other  hypertension  heart_disease  \\\n",
       "0                   0              0           1             0              0   \n",
       "1                   0              0           0             0              0   \n",
       "2                   0              0           1             0              0   \n",
       "3                   1              0           0             0              0   \n",
       "4                   0              0           0             0              0   \n",
       "...               ...            ...         ...           ...            ...   \n",
       "99995               0              0           1             0              0   \n",
       "99996               0              0           0             0              0   \n",
       "99997               0              0           0             0              0   \n",
       "99998               0              0           0             0              0   \n",
       "99999               0              1           0             0              0   \n",
       "\n",
       "      smoking_history    bmi  hbA1c_level  blood_glucose_level  diabetes  \n",
       "0               never  27.32          5.0                  100         0  \n",
       "1               never  19.95          5.0                   90         0  \n",
       "2               never  23.76          4.8                  160         0  \n",
       "3               never  27.32          4.0                  159         0  \n",
       "4               never  23.75          6.5                   90         0  \n",
       "...               ...    ...          ...                  ...       ...  \n",
       "99995           never  21.21          6.5                   90         0  \n",
       "99996         No Info  36.66          5.7                  100         0  \n",
       "99997            ever  36.12          6.2                  158         0  \n",
       "99998     not current  29.29          6.0                  155         0  \n",
       "99999         No Info  17.16          5.0                   90         0  \n",
       "\n",
       "[100000 rows x 16 columns]"
      ]
     },
     "execution_count": 2,
     "metadata": {},
     "output_type": "execute_result"
    }
   ],
   "source": [
    "#Loadind data\n",
    "df = pd.read_csv(r\"C:\\Users\\Dell\\Desktop\\SDS-Predicting_diabites\\SDS-CP011-predicting-diabetes\\data\\diabetes.csv\")\n",
    "df"
   ]
  },
  {
   "cell_type": "code",
   "execution_count": 85,
   "metadata": {},
   "outputs": [
    {
     "name": "stdout",
     "output_type": "stream",
     "text": [
      "       year  gender   age location  race:AfricanAmerican  race:Asian  \\\n",
      "0      2020  Female  32.0  Alabama                     0           0   \n",
      "1      2015  Female  29.0  Alabama                     0           1   \n",
      "2      2015    Male  18.0  Alabama                     0           0   \n",
      "3      2015    Male  41.0  Alabama                     0           0   \n",
      "4      2016  Female  52.0  Alabama                     1           0   \n",
      "...     ...     ...   ...      ...                   ...         ...   \n",
      "99995  2018  Female  33.0  Wyoming                     0           0   \n",
      "99996  2016  Female  80.0  Wyoming                     0           1   \n",
      "99997  2018    Male  46.0  Wyoming                     0           1   \n",
      "99998  2018  Female  51.0  Wyoming                     1           0   \n",
      "99999  2016    Male  13.0  Wyoming                     0           0   \n",
      "\n",
      "       race:Caucasian  race:Hispanic  race:Other  hypertension  heart_disease  \\\n",
      "0                   0              0           1             0              0   \n",
      "1                   0              0           0             0              0   \n",
      "2                   0              0           1             0              0   \n",
      "3                   1              0           0             0              0   \n",
      "4                   0              0           0             0              0   \n",
      "...               ...            ...         ...           ...            ...   \n",
      "99995               0              0           1             0              0   \n",
      "99996               0              0           0             0              0   \n",
      "99997               0              0           0             0              0   \n",
      "99998               0              0           0             0              0   \n",
      "99999               0              1           0             0              0   \n",
      "\n",
      "      smoking_history    bmi  hbA1c_level  blood_glucose_level  diabetes  \\\n",
      "0               never  27.32          5.0                  100         0   \n",
      "1               never  19.95          5.0                   90         0   \n",
      "2               never  23.76          4.8                  160         0   \n",
      "3               never  27.32          4.0                  159         0   \n",
      "4               never  23.75          6.5                   90         0   \n",
      "...               ...    ...          ...                  ...       ...   \n",
      "99995           never  21.21          6.5                   90         0   \n",
      "99996         No Info  36.66          5.7                  100         0   \n",
      "99997            ever  36.12          6.2                  158         0   \n",
      "99998     not current  29.29          6.0                  155         0   \n",
      "99999         No Info  17.16          5.0                   90         0   \n",
      "\n",
      "       smoking_binary  \n",
      "0                 0.0  \n",
      "1                 0.0  \n",
      "2                 0.0  \n",
      "3                 0.0  \n",
      "4                 0.0  \n",
      "...               ...  \n",
      "99995             0.0  \n",
      "99996             NaN  \n",
      "99997             0.0  \n",
      "99998             1.0  \n",
      "99999             NaN  \n",
      "\n",
      "[100000 rows x 17 columns]\n"
     ]
    }
   ],
   "source": [
    "# Function to categorize smoking history\n",
    "def categorize_smoking_history(value):\n",
    "    if value in ['current', 'former', 'not current']:\n",
    "        return 1\n",
    "    elif value in ['ever', 'never', 'no info']:\n",
    "        return 0\n",
    "    else:\n",
    "        return None  # Handle any unexpected values\n",
    "\n",
    "# Apply the function\n",
    "df['smoking_binary'] = df['smoking_history'].apply(categorize_smoking_history)\n",
    "\n",
    "\n",
    "# Apply the function\n",
    "df['smoking_binary'] = df['smoking_history'].apply(categorize_smoking_history)\n",
    "\n",
    "\n",
    "# Combine original dataframe with one-hot encoded columns\n",
    "df = pd.concat([df], axis=1)\n",
    "#df = df.drop(columns=['smoking_1.0'])\n",
    "print(df)\n"
   ]
  },
  {
   "cell_type": "code",
   "execution_count": 86,
   "metadata": {},
   "outputs": [
    {
     "data": {
      "text/plain": [
       "(100000, 17)"
      ]
     },
     "execution_count": 86,
     "metadata": {},
     "output_type": "execute_result"
    }
   ],
   "source": [
    "df.shape"
   ]
  },
  {
   "cell_type": "markdown",
   "metadata": {},
   "source": [
    "## 4. Exploratory data analysis  (EDA)"
   ]
  },
  {
   "cell_type": "code",
   "execution_count": 87,
   "metadata": {},
   "outputs": [
    {
     "data": {
      "text/plain": [
       "0    91500\n",
       "1     8500\n",
       "Name: diabetes, dtype: int64"
      ]
     },
     "execution_count": 87,
     "metadata": {},
     "output_type": "execute_result"
    }
   ],
   "source": [
    "#How many of each class are there\n",
    "df[\"diabetes\"].value_counts()\n",
    "#We have an unbalanced classification problem"
   ]
  },
  {
   "cell_type": "code",
   "execution_count": 88,
   "metadata": {},
   "outputs": [
    {
     "data": {
      "image/png": "[encoded data removed]",
      "text/plain": [
       "<Figure size 432x288 with 1 Axes>"
      ]
     },
     "metadata": {
      "needs_background": "light"
     },
     "output_type": "display_data"
    }
   ],
   "source": [
    "df[\"diabetes\"].value_counts().plot(kind=\"bar\", color=[\"royalblue\", \"lightgreen\"]);"
   ]
  },
  {
   "cell_type": "code",
   "execution_count": 89,
   "metadata": {},
   "outputs": [
    {
     "name": "stdout",
     "output_type": "stream",
     "text": [
      "<class 'pandas.core.frame.DataFrame'>\n",
      "RangeIndex: 100000 entries, 0 to 99999\n",
      "Data columns (total 17 columns):\n",
      " #   Column                Non-Null Count   Dtype  \n",
      "---  ------                --------------   -----  \n",
      " 0   year                  100000 non-null  int64  \n",
      " 1   gender                100000 non-null  object \n",
      " 2   age                   100000 non-null  float64\n",
      " 3   location              100000 non-null  object \n",
      " 4   race:AfricanAmerican  100000 non-null  int64  \n",
      " 5   race:Asian            100000 non-null  int64  \n",
      " 6   race:Caucasian        100000 non-null  int64  \n",
      " 7   race:Hispanic         100000 non-null  int64  \n",
      " 8   race:Other            100000 non-null  int64  \n",
      " 9   hypertension          100000 non-null  int64  \n",
      " 10  heart_disease         100000 non-null  int64  \n",
      " 11  smoking_history       100000 non-null  object \n",
      " 12  bmi                   100000 non-null  float64\n",
      " 13  hbA1c_level           100000 non-null  float64\n",
      " 14  blood_glucose_level   100000 non-null  int64  \n",
      " 15  diabetes              100000 non-null  int64  \n",
      " 16  smoking_binary        64184 non-null   float64\n",
      "dtypes: float64(4), int64(10), object(3)\n",
      "memory usage: 13.0+ MB\n"
     ]
    }
   ],
   "source": [
    "df.info()"
   ]
  },
  {
   "cell_type": "code",
   "execution_count": 90,
   "metadata": {},
   "outputs": [
    {
     "data": {
      "text/plain": [
       "year                        0\n",
       "gender                      0\n",
       "age                         0\n",
       "location                    0\n",
       "race:AfricanAmerican        0\n",
       "race:Asian                  0\n",
       "race:Caucasian              0\n",
       "race:Hispanic               0\n",
       "race:Other                  0\n",
       "hypertension                0\n",
       "heart_disease               0\n",
       "smoking_history             0\n",
       "bmi                         0\n",
       "hbA1c_level                 0\n",
       "blood_glucose_level         0\n",
       "diabetes                    0\n",
       "smoking_binary          35816\n",
       "dtype: int64"
      ]
     },
     "execution_count": 90,
     "metadata": {},
     "output_type": "execute_result"
    }
   ],
   "source": [
    "#Are there any missing values?\n",
    "df.isna().sum()"
   ]
  },
  {
   "cell_type": "markdown",
   "metadata": {},
   "source": [
    "There are no missing values in this dataset."
   ]
  },
  {
   "cell_type": "code",
   "execution_count": 91,
   "metadata": {},
   "outputs": [
    {
     "data": {
      "text/html": [
       "<div>\n",
       "<style scoped>\n",
       "    .dataframe tbody tr th:only-of-type {\n",
       "        vertical-align: middle;\n",
       "    }\n",
       "\n",
       "    .dataframe tbody tr th {\n",
       "        vertical-align: top;\n",
       "    }\n",
       "\n",
       "    .dataframe thead th {\n",
       "        text-align: right;\n",
       "    }\n",
       "</style>\n",
       "<table border=\"1\" class=\"dataframe\">\n",
       "  <thead>\n",
       "    <tr style=\"text-align: right;\">\n",
       "      <th></th>\n",
       "      <th>year</th>\n",
       "      <th>age</th>\n",
       "      <th>race:AfricanAmerican</th>\n",
       "      <th>race:Asian</th>\n",
       "      <th>race:Caucasian</th>\n",
       "      <th>race:Hispanic</th>\n",
       "      <th>race:Other</th>\n",
       "      <th>hypertension</th>\n",
       "      <th>heart_disease</th>\n",
       "      <th>bmi</th>\n",
       "      <th>hbA1c_level</th>\n",
       "      <th>blood_glucose_level</th>\n",
       "      <th>diabetes</th>\n",
       "      <th>smoking_binary</th>\n",
       "    </tr>\n",
       "  </thead>\n",
       "  <tbody>\n",
       "    <tr>\n",
       "      <th>count</th>\n",
       "      <td>100000.000000</td>\n",
       "      <td>100000.000000</td>\n",
       "      <td>100000.000000</td>\n",
       "      <td>100000.000000</td>\n",
       "      <td>100000.000000</td>\n",
       "      <td>100000.00000</td>\n",
       "      <td>100000.000000</td>\n",
       "      <td>100000.00000</td>\n",
       "      <td>100000.000000</td>\n",
       "      <td>100000.000000</td>\n",
       "      <td>100000.000000</td>\n",
       "      <td>100000.000000</td>\n",
       "      <td>100000.000000</td>\n",
       "      <td>64184.000000</td>\n",
       "    </tr>\n",
       "    <tr>\n",
       "      <th>mean</th>\n",
       "      <td>2018.360820</td>\n",
       "      <td>41.885856</td>\n",
       "      <td>0.202230</td>\n",
       "      <td>0.200150</td>\n",
       "      <td>0.198760</td>\n",
       "      <td>0.19888</td>\n",
       "      <td>0.199980</td>\n",
       "      <td>0.07485</td>\n",
       "      <td>0.039420</td>\n",
       "      <td>27.320767</td>\n",
       "      <td>5.527507</td>\n",
       "      <td>138.058060</td>\n",
       "      <td>0.085000</td>\n",
       "      <td>0.390829</td>\n",
       "    </tr>\n",
       "    <tr>\n",
       "      <th>std</th>\n",
       "      <td>1.345239</td>\n",
       "      <td>22.516840</td>\n",
       "      <td>0.401665</td>\n",
       "      <td>0.400114</td>\n",
       "      <td>0.399069</td>\n",
       "      <td>0.39916</td>\n",
       "      <td>0.399987</td>\n",
       "      <td>0.26315</td>\n",
       "      <td>0.194593</td>\n",
       "      <td>6.636783</td>\n",
       "      <td>1.070672</td>\n",
       "      <td>40.708136</td>\n",
       "      <td>0.278883</td>\n",
       "      <td>0.487940</td>\n",
       "    </tr>\n",
       "    <tr>\n",
       "      <th>min</th>\n",
       "      <td>2015.000000</td>\n",
       "      <td>0.080000</td>\n",
       "      <td>0.000000</td>\n",
       "      <td>0.000000</td>\n",
       "      <td>0.000000</td>\n",
       "      <td>0.00000</td>\n",
       "      <td>0.000000</td>\n",
       "      <td>0.00000</td>\n",
       "      <td>0.000000</td>\n",
       "      <td>10.010000</td>\n",
       "      <td>3.500000</td>\n",
       "      <td>80.000000</td>\n",
       "      <td>0.000000</td>\n",
       "      <td>0.000000</td>\n",
       "    </tr>\n",
       "    <tr>\n",
       "      <th>25%</th>\n",
       "      <td>2019.000000</td>\n",
       "      <td>24.000000</td>\n",
       "      <td>0.000000</td>\n",
       "      <td>0.000000</td>\n",
       "      <td>0.000000</td>\n",
       "      <td>0.00000</td>\n",
       "      <td>0.000000</td>\n",
       "      <td>0.00000</td>\n",
       "      <td>0.000000</td>\n",
       "      <td>23.630000</td>\n",
       "      <td>4.800000</td>\n",
       "      <td>100.000000</td>\n",
       "      <td>0.000000</td>\n",
       "      <td>0.000000</td>\n",
       "    </tr>\n",
       "    <tr>\n",
       "      <th>50%</th>\n",
       "      <td>2019.000000</td>\n",
       "      <td>43.000000</td>\n",
       "      <td>0.000000</td>\n",
       "      <td>0.000000</td>\n",
       "      <td>0.000000</td>\n",
       "      <td>0.00000</td>\n",
       "      <td>0.000000</td>\n",
       "      <td>0.00000</td>\n",
       "      <td>0.000000</td>\n",
       "      <td>27.320000</td>\n",
       "      <td>5.800000</td>\n",
       "      <td>140.000000</td>\n",
       "      <td>0.000000</td>\n",
       "      <td>0.000000</td>\n",
       "    </tr>\n",
       "    <tr>\n",
       "      <th>75%</th>\n",
       "      <td>2019.000000</td>\n",
       "      <td>60.000000</td>\n",
       "      <td>0.000000</td>\n",
       "      <td>0.000000</td>\n",
       "      <td>0.000000</td>\n",
       "      <td>0.00000</td>\n",
       "      <td>0.000000</td>\n",
       "      <td>0.00000</td>\n",
       "      <td>0.000000</td>\n",
       "      <td>29.580000</td>\n",
       "      <td>6.200000</td>\n",
       "      <td>159.000000</td>\n",
       "      <td>0.000000</td>\n",
       "      <td>1.000000</td>\n",
       "    </tr>\n",
       "    <tr>\n",
       "      <th>max</th>\n",
       "      <td>2022.000000</td>\n",
       "      <td>80.000000</td>\n",
       "      <td>1.000000</td>\n",
       "      <td>1.000000</td>\n",
       "      <td>1.000000</td>\n",
       "      <td>1.00000</td>\n",
       "      <td>1.000000</td>\n",
       "      <td>1.00000</td>\n",
       "      <td>1.000000</td>\n",
       "      <td>95.690000</td>\n",
       "      <td>9.000000</td>\n",
       "      <td>300.000000</td>\n",
       "      <td>1.000000</td>\n",
       "      <td>1.000000</td>\n",
       "    </tr>\n",
       "  </tbody>\n",
       "</table>\n",
       "</div>"
      ],
      "text/plain": [
       "                year            age  race:AfricanAmerican     race:Asian  \\\n",
       "count  100000.000000  100000.000000         100000.000000  100000.000000   \n",
       "mean     2018.360820      41.885856              0.202230       0.200150   \n",
       "std         1.345239      22.516840              0.401665       0.400114   \n",
       "min      2015.000000       0.080000              0.000000       0.000000   \n",
       "25%      2019.000000      24.000000              0.000000       0.000000   \n",
       "50%      2019.000000      43.000000              0.000000       0.000000   \n",
       "75%      2019.000000      60.000000              0.000000       0.000000   \n",
       "max      2022.000000      80.000000              1.000000       1.000000   \n",
       "\n",
       "       race:Caucasian  race:Hispanic     race:Other  hypertension  \\\n",
       "count   100000.000000   100000.00000  100000.000000  100000.00000   \n",
       "mean         0.198760        0.19888       0.199980       0.07485   \n",
       "std          0.399069        0.39916       0.399987       0.26315   \n",
       "min          0.000000        0.00000       0.000000       0.00000   \n",
       "25%          0.000000        0.00000       0.000000       0.00000   \n",
       "50%          0.000000        0.00000       0.000000       0.00000   \n",
       "75%          0.000000        0.00000       0.000000       0.00000   \n",
       "max          1.000000        1.00000       1.000000       1.00000   \n",
       "\n",
       "       heart_disease            bmi    hbA1c_level  blood_glucose_level  \\\n",
       "count  100000.000000  100000.000000  100000.000000        100000.000000   \n",
       "mean        0.039420      27.320767       5.527507           138.058060   \n",
       "std         0.194593       6.636783       1.070672            40.708136   \n",
       "min         0.000000      10.010000       3.500000            80.000000   \n",
       "25%         0.000000      23.630000       4.800000           100.000000   \n",
       "50%         0.000000      27.320000       5.800000           140.000000   \n",
       "75%         0.000000      29.580000       6.200000           159.000000   \n",
       "max         1.000000      95.690000       9.000000           300.000000   \n",
       "\n",
       "            diabetes  smoking_binary  \n",
       "count  100000.000000    64184.000000  \n",
       "mean        0.085000        0.390829  \n",
       "std         0.278883        0.487940  \n",
       "min         0.000000        0.000000  \n",
       "25%         0.000000        0.000000  \n",
       "50%         0.000000        0.000000  \n",
       "75%         0.000000        1.000000  \n",
       "max         1.000000        1.000000  "
      ]
     },
     "execution_count": 91,
     "metadata": {},
     "output_type": "execute_result"
    }
   ],
   "source": [
    "df.describe()"
   ]
  },
  {
   "cell_type": "markdown",
   "metadata": {},
   "source": [
    "# Diabetes Frequency according to gender"
   ]
  },
  {
   "cell_type": "code",
   "execution_count": 70,
   "metadata": {},
   "outputs": [
    {
     "data": {
      "text/plain": [
       "Female    58552\n",
       "Male      41430\n",
       "Other        18\n",
       "Name: gender, dtype: int64"
      ]
     },
     "execution_count": 70,
     "metadata": {},
     "output_type": "execute_result"
    }
   ],
   "source": [
    "df.gender.value_counts()"
   ]
  },
  {
   "cell_type": "code",
   "execution_count": 71,
   "metadata": {},
   "outputs": [
    {
     "data": {
      "text/html": [
       "<div>\n",
       "<style scoped>\n",
       "    .dataframe tbody tr th:only-of-type {\n",
       "        vertical-align: middle;\n",
       "    }\n",
       "\n",
       "    .dataframe tbody tr th {\n",
       "        vertical-align: top;\n",
       "    }\n",
       "\n",
       "    .dataframe thead th {\n",
       "        text-align: right;\n",
       "    }\n",
       "</style>\n",
       "<table border=\"1\" class=\"dataframe\">\n",
       "  <thead>\n",
       "    <tr style=\"text-align: right;\">\n",
       "      <th>gender</th>\n",
       "      <th>Female</th>\n",
       "      <th>Male</th>\n",
       "      <th>Other</th>\n",
       "    </tr>\n",
       "    <tr>\n",
       "      <th>diabetes</th>\n",
       "      <th></th>\n",
       "      <th></th>\n",
       "      <th></th>\n",
       "    </tr>\n",
       "  </thead>\n",
       "  <tbody>\n",
       "    <tr>\n",
       "      <th>0</th>\n",
       "      <td>54091</td>\n",
       "      <td>37391</td>\n",
       "      <td>18</td>\n",
       "    </tr>\n",
       "    <tr>\n",
       "      <th>1</th>\n",
       "      <td>4461</td>\n",
       "      <td>4039</td>\n",
       "      <td>0</td>\n",
       "    </tr>\n",
       "  </tbody>\n",
       "</table>\n",
       "</div>"
      ],
      "text/plain": [
       "gender    Female   Male  Other\n",
       "diabetes                      \n",
       "0          54091  37391     18\n",
       "1           4461   4039      0"
      ]
     },
     "execution_count": 71,
     "metadata": {},
     "output_type": "execute_result"
    }
   ],
   "source": [
    "#Compare target column with sex column\n",
    "pd.crosstab(df.diabetes, df.gender)"
   ]
  },
  {
   "cell_type": "code",
   "execution_count": 72,
   "metadata": {},
   "outputs": [
    {
     "data": {
      "image/png": "[encoded data removed]",
      "text/plain": [
       "<Figure size 720x432 with 1 Axes>"
      ]
     },
     "metadata": {
      "needs_background": "light"
     },
     "output_type": "display_data"
    }
   ],
   "source": [
    "# Create a plot cross tab\n",
    "pd.crosstab(df.diabetes, df.gender).plot(kind=\"bar\",\n",
    "                                   figsize = (10,6),\n",
    "                                   color=[\"royalblue\", \"lightgreen\"])\n",
    "\n",
    "plt.title(\"Diabetes Frequency by Gender\")\n",
    "plt.xlabel(\"0 = No disease, 1 = Disease\")\n",
    "plt.ylabel(\"Amount\")\n",
    "plt.legend([\"Female\", \"Male\"])\n",
    "plt.xticks;"
   ]
  },
  {
   "cell_type": "markdown",
   "metadata": {},
   "source": [
    "As for the current dayaset, there are more female than male patients who present diabetes. Now let's move on to the other variables."
   ]
  },
  {
   "cell_type": "markdown",
   "metadata": {},
   "source": [
    "# Diabetes Frequency according to age"
   ]
  },
  {
   "cell_type": "code",
   "execution_count": 92,
   "metadata": {},
   "outputs": [
    {
     "data": {
      "text/plain": [
       "80.00    5621\n",
       "51.00    1619\n",
       "47.00    1574\n",
       "48.00    1568\n",
       "53.00    1542\n",
       "         ... \n",
       "1.00       83\n",
       "0.48       83\n",
       "0.40       66\n",
       "0.16       59\n",
       "0.08       36\n",
       "Name: age, Length: 102, dtype: int64"
      ]
     },
     "execution_count": 92,
     "metadata": {},
     "output_type": "execute_result"
    }
   ],
   "source": [
    "df.age.value_counts()"
   ]
  },
  {
   "cell_type": "code",
   "execution_count": 93,
   "metadata": {},
   "outputs": [
    {
     "data": {
      "image/png": "[encoded data removed]",
      "text/plain": [
       "<Figure size 720x432 with 1 Axes>"
      ]
     },
     "metadata": {
      "needs_background": "light"
     },
     "output_type": "display_data"
    }
   ],
   "source": [
    "# Set up the figure and axis\n",
    "plt.figure(figsize=(10, 6))\n",
    "\n",
    "# Create the histogram\n",
    "plt.hist(df[df['diabetes'] == 1]['age'].dropna(), bins=15, alpha=0.6, color='blue', label='Diabetes Positive (1)')\n",
    "plt.hist(df[df['diabetes'] == 0]['age'].dropna(), bins=15, alpha=0.6, color='lightgreen', label='Diabetes Negative (0)')\n",
    "\n",
    "# Adding titles and labels\n",
    "plt.title('Age Distribution by Diabetes Status', fontsize=16)\n",
    "plt.xlabel('Age', fontsize=14)\n",
    "plt.ylabel('Frequency', fontsize=14)\n",
    "plt.legend()\n",
    "\n",
    "# Show the plot\n",
    "plt.grid(axis='y')\n",
    "plt.show()"
   ]
  },
  {
   "cell_type": "markdown",
   "metadata": {},
   "source": [
    "As per this firs exploratory analysis, the major concentration seems to be between the ages of 50 and 60, however age does not seem as a pivotal characteristic linked to diabetes. "
   ]
  },
  {
   "cell_type": "markdown",
   "metadata": {},
   "source": [
    "# Diabetes Frequency according to hypertension presence\n"
   ]
  },
  {
   "cell_type": "code",
   "execution_count": 94,
   "metadata": {},
   "outputs": [
    {
     "data": {
      "image/png": "[encoded data removed]",
      "text/plain": [
       "<Figure size 720x432 with 1 Axes>"
      ]
     },
     "metadata": {
      "needs_background": "light"
     },
     "output_type": "display_data"
    }
   ],
   "source": [
    "# Create a plot cross tab\n",
    "pd.crosstab(df.diabetes, df.hypertension).plot(kind=\"bar\",\n",
    "                                   figsize = (10,6),\n",
    "                                   color=[\"royalblue\", \"lightgreen\"])\n",
    "\n",
    "plt.title(\"Diabetes Frequency in hypertense patients\")\n",
    "plt.xlabel(\"0 = No disease, 1 = Disease\")\n",
    "plt.ylabel(\"Amount\")\n",
    "plt.legend([\"Hypertension\", \"No Hypertension\"])\n",
    "plt.xticks;"
   ]
  },
  {
   "cell_type": "markdown",
   "metadata": {},
   "source": [
    "Focusing on the patients that are positive to diabetes, it seems like a big part of them tend to present hypertension, however, at least based in this approach, these two paraemeters don't seem to corrarlete. \n",
    "\n",
    "Correlations will be explored later. "
   ]
  },
  {
   "cell_type": "markdown",
   "metadata": {},
   "source": [
    "# Diabetes Frequency according to heart_disease presence"
   ]
  },
  {
   "cell_type": "code",
   "execution_count": 95,
   "metadata": {},
   "outputs": [
    {
     "data": {
      "image/png": "[encoded data removed]",
      "text/plain": [
       "<Figure size 720x432 with 1 Axes>"
      ]
     },
     "metadata": {
      "needs_background": "light"
     },
     "output_type": "display_data"
    }
   ],
   "source": [
    "# Create a plot cross tab\n",
    "pd.crosstab(df.diabetes, df.heart_disease).plot(kind=\"bar\",\n",
    "                                   figsize = (10,6),\n",
    "                                   color=[\"royalblue\", \"lightgreen\"])\n",
    "\n",
    "plt.title(\"Diabetes Frequency in hypertense patients\")\n",
    "plt.xlabel(\"0 = No disease, 1 = Disease\")\n",
    "plt.ylabel(\"Amount\")\n",
    "plt.legend([\"Heart Disease\", \"No Heart Disease\"])\n",
    "plt.xticks;"
   ]
  },
  {
   "cell_type": "markdown",
   "metadata": {},
   "source": [
    "Focusing on the patients that are positive to diabetes, it seems like a big part of them tend to present heart disease, however, at least based in this approach, these two paraemeters don't seem to corrarlete. \n",
    "\n",
    "Correlations will be explored later."
   ]
  },
  {
   "cell_type": "markdown",
   "metadata": {},
   "source": [
    "# Age vs Heart Disease for Diabetes"
   ]
  },
  {
   "cell_type": "code",
   "execution_count": 96,
   "metadata": {},
   "outputs": [
    {
     "data": {
      "image/png": "[encoded data removed]",
      "text/plain": [
       "<Figure size 720x432 with 1 Axes>"
      ]
     },
     "metadata": {
      "needs_background": "light"
     },
     "output_type": "display_data"
    }
   ],
   "source": [
    "# Calculate average age for each combination of diabetes and heart disease\n",
    "average_age = df.groupby(['diabetes', 'heart_disease'])['age'].mean().unstack()\n",
    "\n",
    "# Create a horizontal bar plot\n",
    "average_age.plot(kind='barh', color=['royalblue', 'lightgreen'], figsize=(10, 6))\n",
    "\n",
    "# Add some helpful info\n",
    "plt.title(\"Average Age by Diabetes and Heart Disease Status\", fontsize=16)\n",
    "plt.xlabel(\"Average Age\", fontsize=14)\n",
    "plt.ylabel(\"Diabetes(0 = No, 1 = Yes)\", fontsize=14)\n",
    "plt.legend(title='Heart Disease', labels=['No Disease (0)', 'Disease (1)'])\n",
    "\n",
    "# Show the plot\n",
    "plt.show();\n"
   ]
  },
  {
   "cell_type": "markdown",
   "metadata": {},
   "source": [
    "According to this previous approach, people who present diabetes do not seem to have more heart disease issues than people who don't. In fact, both groups (healthy and sick people), seem to have the same chance to present heart disease. "
   ]
  },
  {
   "cell_type": "markdown",
   "metadata": {},
   "source": [
    "# Diabetes Frequency according to bmi"
   ]
  },
  {
   "cell_type": "code",
   "execution_count": 97,
   "metadata": {},
   "outputs": [
    {
     "data": {
      "image/png": "[encoded data removed]",
      "text/plain": [
       "<Figure size 720x432 with 1 Axes>"
      ]
     },
     "metadata": {
      "needs_background": "light"
     },
     "output_type": "display_data"
    }
   ],
   "source": [
    "plt.figure(figsize=(10, 6))\n",
    "\n",
    "# Create the histogram for BMI\n",
    "plt.hist(df[df['diabetes'] == 1]['bmi'].dropna(), bins=15, alpha=0.6, color='blue', label='Diabetes Positive (1)')\n",
    "plt.hist(df[df['diabetes'] == 0]['bmi'].dropna(), bins=15, alpha=0.6, color='lightgreen', label='Diabetes Negative (0)')\n",
    "\n",
    "# Adding titles and labels\n",
    "plt.title('BMI Distribution by Diabetes Status', fontsize=16)\n",
    "plt.xlabel('Body Mass Index (BMI)', fontsize=14)\n",
    "plt.ylabel('Frequency', fontsize=14)\n",
    "plt.legend()\n",
    "\n",
    "# Show the plot\n",
    "plt.grid(axis='y')\n",
    "plt.show()"
   ]
  },
  {
   "cell_type": "markdown",
   "metadata": {},
   "source": [
    "For this paraemeter, let's take into consideration the following:\n",
    "* Underweight: BMI less than 18.5 kg/m^2 \n",
    "* Healthy weight: BMI between 18.5 and 24.9 kg/m^2 \n",
    "* Overweight: BMI between 25 and 29.9 kg/m^2 \n",
    "* Obesity: BMI between 30 and 39.9 kg/m^2 \n",
    "* Severe obesity: BMI greater than or equal to 40 kg/m^2\n",
    "\n",
    "For this dataset, patients considered Obese and Overweight seem to be more likeley to test positive for diabetes. "
   ]
  },
  {
   "cell_type": "markdown",
   "metadata": {},
   "source": [
    "# Diabetes Frequency according to hbA1c_level"
   ]
  },
  {
   "cell_type": "code",
   "execution_count": 98,
   "metadata": {},
   "outputs": [
    {
     "data": {
      "image/png": "[encoded data removed]",
      "text/plain": [
       "<Figure size 720x432 with 1 Axes>"
      ]
     },
     "metadata": {
      "needs_background": "light"
     },
     "output_type": "display_data"
    }
   ],
   "source": [
    "plt.figure(figsize=(10, 6))\n",
    "\n",
    "# Create the histogram for hbA1c_level\n",
    "plt.hist(df[df['diabetes'] == 1]['hbA1c_level'].dropna(), bins=15, alpha=0.6, color='blue', label='Diabetes Positive (1)')\n",
    "plt.hist(df[df['diabetes'] == 0]['hbA1c_level'].dropna(), bins=15, alpha=0.6, color='lightgreen', label='Diabetes Negative (0)')\n",
    "\n",
    "# Adding titles and labels\n",
    "plt.title('Average blood sugar levels over the past 2-3 months by Diabetes Status', fontsize=16)\n",
    "plt.xlabel('Average blood sugar levels over the past 2-3 months (hbA1c_level)', fontsize=14)\n",
    "plt.ylabel('Frequency', fontsize=14)\n",
    "plt.legend()\n",
    "\n",
    "# Show the plot\n",
    "\n",
    "plt.show();"
   ]
  },
  {
   "cell_type": "markdown",
   "metadata": {},
   "source": [
    "For this paraemter let's take into consideration the following:\n",
    "\n",
    "HbA1c_level is a measure of average blood sugar levels over the past 2-3 months, expressed as a percentage and blood glucose levels. Taking this into consideration, for an HbA1c test to classify as normal, or in the non-diabetic range, the value must be below 5.7 %. Anyone with an HbA1c value of 5.7 % to 6.4 % is considered to be prediabetic, while diabetes can be diagnosed with a HbA1c of 6.5% or higher.\n",
    "\n",
    "Taking into consideration the previous information, a stronger correlation between this feature and diabetees can be expected, as opposed to the previous parameters analyzed so far.\n"
   ]
  },
  {
   "cell_type": "markdown",
   "metadata": {},
   "source": [
    " # Diabetes Frequency according to blood glucose level"
   ]
  },
  {
   "cell_type": "code",
   "execution_count": 99,
   "metadata": {},
   "outputs": [
    {
     "data": {
      "image/png": "[encoded data removed]",
      "text/plain": [
       "<Figure size 720x432 with 1 Axes>"
      ]
     },
     "metadata": {
      "needs_background": "light"
     },
     "output_type": "display_data"
    }
   ],
   "source": [
    "plt.figure(figsize=(10, 6))\n",
    "\n",
    "# Create the histogram for Glucose Level\n",
    "plt.hist(df[df['diabetes'] == 1]['blood_glucose_level'].dropna(), bins=15, alpha=0.6, color='blue', label='Diabetes Positive (1)')\n",
    "plt.hist(df[df['diabetes'] == 0]['blood_glucose_level'].dropna(), bins=15, alpha=0.6, color='lightgreen', label='Diabetes Negative (0)')\n",
    "\n",
    "# Adding titles and labels\n",
    "plt.title('Blood Glucose Level by Diabetes Status', fontsize=16)\n",
    "plt.xlabel('Blood Glucose Level', fontsize=14)\n",
    "plt.ylabel('Frequency', fontsize=14)\n",
    "plt.legend()\n",
    "\n",
    "# Show the plot\n",
    "\n",
    "plt.show();"
   ]
  },
  {
   "cell_type": "markdown",
   "metadata": {},
   "source": [
    "For this paraemter let's take into consideration the following:\n",
    "\n",
    "A normal fasting blood glucose level is between 70 and 100 mg/dL (3.9 and 5.6 mmol/L). A blood glucose level between 100 and 125 mg/dL (5.6 and 6.9 mmol/L) is considered prediabetes, and a level of 126 mg/dL (7.0 mmol/L) or higher on two separate tests is diagnosed as diabetes.\n",
    "\n",
    "Taking into consideration the previous information, a stronger correlation between this feature and diabetees can be expected, as opposed to the previous parameters (safe for hbA1C-level) analyzed so far."
   ]
  },
  {
   "cell_type": "code",
   "execution_count": 100,
   "metadata": {},
   "outputs": [
    {
     "data": {
      "image/png": "[encoded data removed]",
      "text/plain": [
       "<Figure size 720x432 with 1 Axes>"
      ]
     },
     "metadata": {
      "needs_background": "light"
     },
     "output_type": "display_data"
    }
   ],
   "source": [
    "# Diabetes Frequency vs smoking history\n",
    "# Create a plot cross tab\n",
    "pd.crosstab(df.diabetes, df.heart_disease).plot(kind=\"bar\",\n",
    "                                   figsize = (10,6),\n",
    "                                   color=[\"royalblue\", \"lightgreen\"])\n",
    "\n",
    "plt.title(\"Diabetes Frequency in smoking patients\")\n",
    "plt.xlabel(\"0 = No disease, 1 = Disease\")\n",
    "plt.ylabel(\"Amount\")\n",
    "plt.legend([\"Smoking\", \"No Smoking\"])\n",
    "plt.xticks;"
   ]
  },
  {
   "cell_type": "markdown",
   "metadata": {},
   "source": [
    "## 5. Features (Feature selection)"
   ]
  },
  {
   "cell_type": "markdown",
   "metadata": {},
   "source": [
    "Clasifying diabetes"
   ]
  },
  {
   "cell_type": "code",
   "execution_count": 102,
   "metadata": {},
   "outputs": [
    {
     "name": "stdout",
     "output_type": "stream",
     "text": [
      "       year  gender   age location  race:AfricanAmerican  race:Asian  \\\n",
      "0      2020  Female  32.0  Alabama                     0           0   \n",
      "1      2015  Female  29.0  Alabama                     0           1   \n",
      "2      2015    Male  18.0  Alabama                     0           0   \n",
      "3      2015    Male  41.0  Alabama                     0           0   \n",
      "4      2016  Female  52.0  Alabama                     1           0   \n",
      "...     ...     ...   ...      ...                   ...         ...   \n",
      "99995  2018  Female  33.0  Wyoming                     0           0   \n",
      "99996  2016  Female  80.0  Wyoming                     0           1   \n",
      "99997  2018    Male  46.0  Wyoming                     0           1   \n",
      "99998  2018  Female  51.0  Wyoming                     1           0   \n",
      "99999  2016    Male  13.0  Wyoming                     0           0   \n",
      "\n",
      "       race:Caucasian  race:Hispanic  race:Other  hypertension  heart_disease  \\\n",
      "0                   0              0           1             0              0   \n",
      "1                   0              0           0             0              0   \n",
      "2                   0              0           1             0              0   \n",
      "3                   1              0           0             0              0   \n",
      "4                   0              0           0             0              0   \n",
      "...               ...            ...         ...           ...            ...   \n",
      "99995               0              0           1             0              0   \n",
      "99996               0              0           0             0              0   \n",
      "99997               0              0           0             0              0   \n",
      "99998               0              0           0             0              0   \n",
      "99999               0              1           0             0              0   \n",
      "\n",
      "      smoking_history    bmi  hbA1c_level  blood_glucose_level  diabetes  \\\n",
      "0               never  27.32          5.0                  100         0   \n",
      "1               never  19.95          5.0                   90         0   \n",
      "2               never  23.76          4.8                  160         0   \n",
      "3               never  27.32          4.0                  159         0   \n",
      "4               never  23.75          6.5                   90         0   \n",
      "...               ...    ...          ...                  ...       ...   \n",
      "99995           never  21.21          6.5                   90         0   \n",
      "99996         No Info  36.66          5.7                  100         0   \n",
      "99997            ever  36.12          6.2                  158         0   \n",
      "99998     not current  29.29          6.0                  155         0   \n",
      "99999         No Info  17.16          5.0                   90         0   \n",
      "\n",
      "       smoking_binary  type_I  type_II  \n",
      "0                 0.0       0        0  \n",
      "1                 0.0       0        0  \n",
      "2                 0.0       1        0  \n",
      "3                 0.0       0        1  \n",
      "4                 0.0       0        1  \n",
      "...               ...     ...      ...  \n",
      "99995             0.0       0        1  \n",
      "99996             NaN       0        0  \n",
      "99997             0.0       0        1  \n",
      "99998             1.0       0        1  \n",
      "99999             NaN       0        0  \n",
      "\n",
      "[100000 rows x 19 columns]\n"
     ]
    }
   ],
   "source": [
    "\n",
    "# Function to classify diabetes type\n",
    "def classify_diabetes(row):\n",
    "    if row['blood_glucose_level'] >= 126 or row['hbA1c_level'] >= 6.5:\n",
    "        if row['age'] < 30:\n",
    "            return pd.Series([1, 0])  # Type I\n",
    "        else:\n",
    "            return pd.Series([0, 1])  # Type II\n",
    "    else:\n",
    "        return pd.Series([0, 0])  # No Diabetes\n",
    "\n",
    "# Apply classification and create two new columns\n",
    "df[['type_I', 'type_II']] = df.apply(classify_diabetes, axis=1)\n",
    "\n",
    "print(df)"
   ]
  },
  {
   "cell_type": "code",
   "execution_count": 103,
   "metadata": {},
   "outputs": [
    {
     "name": "stdout",
     "output_type": "stream",
     "text": [
      "Outliers based on Z-score:\n",
      "Empty DataFrame\n",
      "Columns: [year, gender, age, location, race:AfricanAmerican, race:Asian, race:Caucasian, race:Hispanic, race:Other, hypertension, heart_disease, smoking_history, bmi, hbA1c_level, blood_glucose_level, diabetes, smoking_binary, type_I, type_II, z_score]\n",
      "Index: []\n",
      "Outliers based on IQR:\n",
      "Empty DataFrame\n",
      "Columns: [year, gender, age, location, race:AfricanAmerican, race:Asian, race:Caucasian, race:Hispanic, race:Other, hypertension, heart_disease, smoking_history, bmi, hbA1c_level, blood_glucose_level, diabetes, smoking_binary, type_I, type_II, z_score]\n",
      "Index: []\n"
     ]
    },
    {
     "data": {
      "image/png": "[encoded data removed]",
      "text/plain": [
       "<Figure size 720x432 with 1 Axes>"
      ]
     },
     "metadata": {
      "needs_background": "light"
     },
     "output_type": "display_data"
    }
   ],
   "source": [
    "#Detecting outliers\n",
    "\n",
    "\n",
    "# Age\n",
    "# Calculate the Z-scores\n",
    "df['z_score'] = (df['age'] - df['age'].mean()) / df['age'].std()\n",
    "\n",
    "# Define a threshold for Z-score\n",
    "threshold = 3  # Commonly used threshold\n",
    "\n",
    "# Identify outliers\n",
    "outliers_z_score = df[np.abs(df['z_score']) > threshold]\n",
    "\n",
    "print(\"Outliers based on Z-score:\")\n",
    "print(outliers_z_score)\n",
    "\n",
    "# Calculate Q1 (25th percentile) and Q3 (75th percentile)\n",
    "Q1 = df['age'].quantile(0.25)\n",
    "Q3 = df['age'].quantile(0.75)\n",
    "IQR = Q3 - Q1\n",
    "\n",
    "# Define outlier boundaries\n",
    "lower_bound = Q1 - 1.5 * IQR\n",
    "upper_bound = Q3 + 1.5 * IQR\n",
    "\n",
    "# Identify outliers\n",
    "outliers_iqr = df[(df['age'] < lower_bound) | (df['age'] > upper_bound)]\n",
    "\n",
    "print(\"Outliers based on IQR:\")\n",
    "print(outliers_iqr)\n",
    "\n",
    "#Boxplot visualization\n",
    "\n",
    "plt.figure(figsize=(10, 6))\n",
    "sns.boxplot(x=df['age'])\n",
    "plt.title('Boxplot of Age')\n",
    "plt.xlabel('Age')\n",
    "plt.grid(True)\n",
    "plt.show()\n",
    "\n",
    "\n",
    "\n"
   ]
  },
  {
   "cell_type": "code",
   "execution_count": 104,
   "metadata": {},
   "outputs": [
    {
     "name": "stdout",
     "output_type": "stream",
     "text": [
      "count    100000.000000\n",
      "mean         41.885856\n",
      "std          22.516840\n",
      "min           0.080000\n",
      "25%          24.000000\n",
      "50%          43.000000\n",
      "75%          60.000000\n",
      "max          80.000000\n",
      "Name: age, dtype: float64\n"
     ]
    },
    {
     "data": {
      "image/png": "[encoded data removed]",
      "text/plain": [
       "<Figure size 720x432 with 1 Axes>"
      ]
     },
     "metadata": {
      "needs_background": "light"
     },
     "output_type": "display_data"
    }
   ],
   "source": [
    "# Check basic statistics\n",
    "print(df['age'].describe())\n",
    "\n",
    "# Check the distribution of age\n",
    "plt.figure(figsize=(10, 6))\n",
    "sns.histplot(df['age'], bins=30, kde=True)\n",
    "plt.title('Distribution of Age')\n",
    "plt.xlabel('Age')\n",
    "plt.ylabel('Frequency')\n",
    "plt.grid(True)\n",
    "plt.show()"
   ]
  },
  {
   "cell_type": "markdown",
   "metadata": {},
   "source": [
    "Age seems pretty uniform, being the mean for testing positive for diabetes 41 years old. No signs of outliers for Age variable."
   ]
  },
  {
   "cell_type": "code",
   "execution_count": 105,
   "metadata": {},
   "outputs": [
    {
     "name": "stdout",
     "output_type": "stream",
     "text": [
      "Outliers based on Z-score:\n",
      "       year  gender   age location  race:AfricanAmerican  race:Asian  \\\n",
      "14     2016  Female  64.0  Alabama                     0           0   \n",
      "67     2015  Female  42.0  Alabama                     0           1   \n",
      "182    2015  Female  62.0  Alabama                     0           0   \n",
      "305    2016  Female  38.0  Alabama                     0           0   \n",
      "320    2015  Female  29.0  Alabama                     0           1   \n",
      "...     ...     ...   ...      ...                   ...         ...   \n",
      "99675  2015    Male  15.0  Wyoming                     0           0   \n",
      "99686  2015  Female  36.0  Wyoming                     0           0   \n",
      "99739  2015    Male  52.0  Wyoming                     0           1   \n",
      "99828  2016  Female  59.0  Wyoming                     0           0   \n",
      "99970  2016  Female  58.0  Wyoming                     0           0   \n",
      "\n",
      "       race:Caucasian  race:Hispanic  race:Other  hypertension  heart_disease  \\\n",
      "14                  0              0           1             0              0   \n",
      "67                  0              0           0             0              0   \n",
      "182                 0              1           0             0              0   \n",
      "305                 1              0           0             0              0   \n",
      "320                 0              0           0             0              0   \n",
      "...               ...            ...         ...           ...            ...   \n",
      "99675               0              1           0             0              0   \n",
      "99686               1              0           0             0              0   \n",
      "99739               0              0           0             0              0   \n",
      "99828               1              0           0             0              0   \n",
      "99970               0              0           1             0              0   \n",
      "\n",
      "      smoking_history    bmi  hbA1c_level  blood_glucose_level  diabetes  \\\n",
      "14               ever  49.27          8.2                  140         1   \n",
      "67              never  48.06          5.0                  159         0   \n",
      "182           current  47.92          5.7                  160         0   \n",
      "305              ever  62.55          6.6                  160         0   \n",
      "320             never  47.92          6.0                  140         0   \n",
      "...               ...    ...          ...                  ...       ...   \n",
      "99675           never  47.90          4.5                  159         0   \n",
      "99686          former  56.48          5.7                  145         0   \n",
      "99739          former  50.10          6.0                  100         0   \n",
      "99828          former  50.80          6.2                  159         0   \n",
      "99970          former  50.31          5.0                  158         0   \n",
      "\n",
      "       smoking_binary  type_I  type_II   z_score  \n",
      "14                0.0       0        1  3.307209  \n",
      "67                0.0       0        1  3.124892  \n",
      "182               1.0       0        1  3.103798  \n",
      "305               0.0       0        1  5.308179  \n",
      "320               0.0       1        0  3.103798  \n",
      "...               ...     ...      ...       ...  \n",
      "99675             0.0       1        0  3.100784  \n",
      "99686             1.0       0        1  4.393579  \n",
      "99739             1.0       0        0  3.432270  \n",
      "99828             1.0       0        1  3.537743  \n",
      "99970             1.0       0        1  3.463912  \n",
      "\n",
      "[1294 rows x 20 columns]\n",
      "Outliers based on IQR:\n",
      "       year  gender   age location  race:AfricanAmerican  race:Asian  \\\n",
      "14     2016  Female  64.0  Alabama                     0           0   \n",
      "50     2016  Female  54.0  Alabama                     0           0   \n",
      "53     2016    Male  43.0  Alabama                     0           0   \n",
      "62     2015    Male  24.0  Alabama                     0           0   \n",
      "67     2015  Female  42.0  Alabama                     0           1   \n",
      "...     ...     ...   ...      ...                   ...         ...   \n",
      "99952  2016  Female  56.0  Wyoming                     0           0   \n",
      "99969  2016    Male  11.0  Wyoming                     0           0   \n",
      "99970  2016  Female  58.0  Wyoming                     0           0   \n",
      "99983  2016    Male   5.0  Wyoming                     0           0   \n",
      "99985  2018  Female  40.0  Wyoming                     1           0   \n",
      "\n",
      "       race:Caucasian  race:Hispanic  race:Other  hypertension  heart_disease  \\\n",
      "14                  0              0           1             0              0   \n",
      "50                  0              0           1             0              0   \n",
      "53                  1              0           0             0              0   \n",
      "62                  0              1           0             0              0   \n",
      "67                  0              0           0             0              0   \n",
      "...               ...            ...         ...           ...            ...   \n",
      "99952               1              0           0             0              0   \n",
      "99969               0              1           0             0              0   \n",
      "99970               0              0           1             0              0   \n",
      "99983               0              1           0             0              0   \n",
      "99985               0              0           0             1              0   \n",
      "\n",
      "      smoking_history    bmi  hbA1c_level  blood_glucose_level  diabetes  \\\n",
      "14               ever  49.27          8.2                  140         1   \n",
      "50             former  44.10          7.0                  159         1   \n",
      "53            No Info  40.17          5.8                   90         0   \n",
      "62            No Info  39.93          4.8                  145         0   \n",
      "67              never  48.06          5.0                  159         0   \n",
      "...               ...    ...          ...                  ...       ...   \n",
      "99952           never  45.52          6.6                  159         1   \n",
      "99969         No Info  13.90          5.7                  140         0   \n",
      "99970          former  50.31          5.0                  158         0   \n",
      "99983         No Info  14.55          6.6                  159         0   \n",
      "99985           never  42.09          4.0                  130         0   \n",
      "\n",
      "       smoking_binary  type_I  type_II   z_score  \n",
      "14                0.0       0        1  3.307209  \n",
      "50                1.0       0        1  2.528218  \n",
      "53                NaN       0        0  1.936063  \n",
      "62                NaN       1        0  1.899901  \n",
      "67                0.0       0        1  3.124892  \n",
      "...               ...     ...      ...       ...  \n",
      "99952             0.0       0        1  2.742177  \n",
      "99969             NaN       1        0 -2.022179  \n",
      "99970             1.0       0        1  3.463912  \n",
      "99983             NaN       1        0 -1.924240  \n",
      "99985             0.0       0        1  2.225360  \n",
      "\n",
      "[7086 rows x 20 columns]\n"
     ]
    },
    {
     "data": {
      "image/png": "[encoded data removed]",
      "text/plain": [
       "<Figure size 720x432 with 1 Axes>"
      ]
     },
     "metadata": {
      "needs_background": "light"
     },
     "output_type": "display_data"
    }
   ],
   "source": [
    "#Detecting outliers\n",
    "\n",
    "\n",
    "# BMI\n",
    "# Calculate the Z-scores\n",
    "df['z_score'] = (df['bmi'] - df['bmi'].mean()) / df['bmi'].std()\n",
    "\n",
    "# Define a threshold for Z-score\n",
    "threshold = 3  # Commonly used threshold\n",
    "\n",
    "# Identify outliers\n",
    "outliers_z_score = df[np.abs(df['z_score']) > threshold]\n",
    "\n",
    "print(\"Outliers based on Z-score:\")\n",
    "print(outliers_z_score)\n",
    "\n",
    "# Calculate Q1 (25th percentile) and Q3 (75th percentile)\n",
    "Q1 = df['bmi'].quantile(0.25)\n",
    "Q3 = df['bmi'].quantile(0.75)\n",
    "IQR = Q3 - Q1\n",
    "\n",
    "# Define outlier boundaries\n",
    "lower_bound = Q1 - 1.5 * IQR\n",
    "upper_bound = Q3 + 1.5 * IQR\n",
    "\n",
    "# Identify outliers\n",
    "outliers_iqr = df[(df['bmi'] < lower_bound) | (df['bmi'] > upper_bound)]\n",
    "\n",
    "print(\"Outliers based on IQR:\")\n",
    "print(outliers_iqr)\n",
    "\n",
    "#Boxplot visualization\n",
    "\n",
    "plt.figure(figsize=(10, 6))\n",
    "sns.boxplot(x=df['bmi'])\n",
    "plt.title('Boxplot of BMI (Body Mass Index)')\n",
    "plt.xlabel('BMI')\n",
    "plt.grid(True)\n",
    "plt.show()\n",
    "\n",
    "\n",
    "\n"
   ]
  },
  {
   "cell_type": "code",
   "execution_count": 106,
   "metadata": {},
   "outputs": [
    {
     "name": "stdout",
     "output_type": "stream",
     "text": [
      "count    100000.000000\n",
      "mean         27.320767\n",
      "std           6.636783\n",
      "min          10.010000\n",
      "25%          23.630000\n",
      "50%          27.320000\n",
      "75%          29.580000\n",
      "max          95.690000\n",
      "Name: bmi, dtype: float64\n"
     ]
    },
    {
     "data": {
      "image/png": "[encoded data removed]",
      "text/plain": [
       "<Figure size 720x432 with 1 Axes>"
      ]
     },
     "metadata": {
      "needs_background": "light"
     },
     "output_type": "display_data"
    }
   ],
   "source": [
    "# Check basic statistics\n",
    "print(df['bmi'].describe())\n",
    "\n",
    "# Check the distribution of BMI\n",
    "plt.figure(figsize=(10, 6))\n",
    "sns.histplot(df['bmi'], bins=30, kde=True)\n",
    "plt.title('Distribution of BMI')\n",
    "plt.xlabel('BMI')\n",
    "plt.ylabel('Frequency')\n",
    "plt.grid(True)\n",
    "plt.show()"
   ]
  },
  {
   "cell_type": "markdown",
   "metadata": {},
   "source": [
    "Body Mass Index does spresemt outliers, which is consisten with the given data in which we have positive and negative patients for diabetes. More concretly:\n",
    "\n",
    "Z-Score Method: Outliers are those with bmi < 7.40 or bmi > 47.24.\n",
    "IQR Method: Outliers are those with bmi < 14.70 or bmi > 38.50.\n",
    "\n",
    "And what doees this mean?\n",
    "\n",
    "- Low BMI (< 14.70):\n",
    "\n",
    "* Individuals with a BMI below this threshold may be underweight. This could indicate malnutrition,     eating disorders, or other health issues.\n",
    "* While low BMI is not directly linked to diabetes, some studies suggest that underweight individuals may have metabolic issues that could affect blood sugar regulation.\n",
    "\n",
    "However, it's crucial to consider overall health and lifestyle, as these factors can influence diabetes risk.\n",
    "\n",
    "- High BMI (> 47.24):\n",
    "\n",
    "* A BMI above this threshold typically indicates severe obesity. This is a significant risk factor for various health conditions, including type 2 diabetes.\n",
    "* High BMI often correlates with insulin resistance, a precursor to type 2 diabetes, meaning the body struggles to use insulin effectively.\n",
    "Individuals in this category may require more frequent monitoring for diabetes and related complications."
   ]
  },
  {
   "cell_type": "code",
   "execution_count": 107,
   "metadata": {},
   "outputs": [
    {
     "name": "stdout",
     "output_type": "stream",
     "text": [
      "Outliers based on Z-score:\n",
      "       year  gender   age location  race:AfricanAmerican  race:Asian  \\\n",
      "29     2016    Male  80.0  Alabama                     1           0   \n",
      "127    2016  Female  48.0  Alabama                     0           0   \n",
      "132    2016    Male  71.0  Alabama                     0           0   \n",
      "222    2016    Male  75.0  Alabama                     0           1   \n",
      "301    2015  Female  56.0  Alabama                     1           0   \n",
      "...     ...     ...   ...      ...                   ...         ...   \n",
      "99620  2015  Female  80.0  Wyoming                     0           1   \n",
      "99702  2015  Female  67.0  Wyoming                     0           0   \n",
      "99871  2018  Female  67.0  Wyoming                     0           0   \n",
      "99959  2016    Male  37.0  Wyoming                     0           0   \n",
      "99977  2016    Male  58.0  Wyoming                     0           0   \n",
      "\n",
      "       race:Caucasian  race:Hispanic  race:Other  hypertension  heart_disease  \\\n",
      "29                  0              0           0             0              0   \n",
      "127                 0              0           1             0              0   \n",
      "132                 0              1           0             0              1   \n",
      "222                 0              0           0             0              0   \n",
      "301                 0              0           0             0              1   \n",
      "...               ...            ...         ...           ...            ...   \n",
      "99620               0              0           0             0              0   \n",
      "99702               1              0           0             0              0   \n",
      "99871               0              0           1             1              0   \n",
      "99959               0              1           0             1              0   \n",
      "99977               0              0           1             1              0   \n",
      "\n",
      "      smoking_history    bmi  hbA1c_level  blood_glucose_level  diabetes  \\\n",
      "29             former  29.16          8.8                  140         1   \n",
      "127            former  27.32          9.0                  260         1   \n",
      "132            former  27.32          9.0                  280         1   \n",
      "222            former  28.69          9.0                  130         1   \n",
      "301           No Info  37.49          9.0                  300         1   \n",
      "...               ...    ...          ...                  ...       ...   \n",
      "99620           never  36.74          9.0                  130         1   \n",
      "99702         No Info  41.80          9.0                  155         1   \n",
      "99871           never  27.34          9.0                  160         1   \n",
      "99959           never  27.32          8.8                  145         1   \n",
      "99977           never  32.48          8.8                  155         1   \n",
      "\n",
      "       smoking_binary  type_I  type_II   z_score  \n",
      "29                1.0       0        1  3.056485  \n",
      "127               1.0       0        1  3.243283  \n",
      "132               1.0       0        1  3.243283  \n",
      "222               1.0       0        1  3.243283  \n",
      "301               NaN       0        1  3.243283  \n",
      "...               ...     ...      ...       ...  \n",
      "99620             0.0       0        1  3.243283  \n",
      "99702             NaN       0        1  3.243283  \n",
      "99871             0.0       0        1  3.243283  \n",
      "99959             0.0       0        1  3.056485  \n",
      "99977             0.0       0        1  3.056485  \n",
      "\n",
      "[1315 rows x 20 columns]\n",
      "Outliers based on IQR:\n",
      "       year  gender   age location  race:AfricanAmerican  race:Asian  \\\n",
      "29     2016    Male  80.0  Alabama                     1           0   \n",
      "127    2016  Female  48.0  Alabama                     0           0   \n",
      "132    2016    Male  71.0  Alabama                     0           0   \n",
      "222    2016    Male  75.0  Alabama                     0           1   \n",
      "301    2015  Female  56.0  Alabama                     1           0   \n",
      "...     ...     ...   ...      ...                   ...         ...   \n",
      "99620  2015  Female  80.0  Wyoming                     0           1   \n",
      "99702  2015  Female  67.0  Wyoming                     0           0   \n",
      "99871  2018  Female  67.0  Wyoming                     0           0   \n",
      "99959  2016    Male  37.0  Wyoming                     0           0   \n",
      "99977  2016    Male  58.0  Wyoming                     0           0   \n",
      "\n",
      "       race:Caucasian  race:Hispanic  race:Other  hypertension  heart_disease  \\\n",
      "29                  0              0           0             0              0   \n",
      "127                 0              0           1             0              0   \n",
      "132                 0              1           0             0              1   \n",
      "222                 0              0           0             0              0   \n",
      "301                 0              0           0             0              1   \n",
      "...               ...            ...         ...           ...            ...   \n",
      "99620               0              0           0             0              0   \n",
      "99702               1              0           0             0              0   \n",
      "99871               0              0           1             1              0   \n",
      "99959               0              1           0             1              0   \n",
      "99977               0              0           1             1              0   \n",
      "\n",
      "      smoking_history    bmi  hbA1c_level  blood_glucose_level  diabetes  \\\n",
      "29             former  29.16          8.8                  140         1   \n",
      "127            former  27.32          9.0                  260         1   \n",
      "132            former  27.32          9.0                  280         1   \n",
      "222            former  28.69          9.0                  130         1   \n",
      "301           No Info  37.49          9.0                  300         1   \n",
      "...               ...    ...          ...                  ...       ...   \n",
      "99620           never  36.74          9.0                  130         1   \n",
      "99702         No Info  41.80          9.0                  155         1   \n",
      "99871           never  27.34          9.0                  160         1   \n",
      "99959           never  27.32          8.8                  145         1   \n",
      "99977           never  32.48          8.8                  155         1   \n",
      "\n",
      "       smoking_binary  type_I  type_II   z_score  \n",
      "29                1.0       0        1  3.056485  \n",
      "127               1.0       0        1  3.243283  \n",
      "132               1.0       0        1  3.243283  \n",
      "222               1.0       0        1  3.243283  \n",
      "301               NaN       0        1  3.243283  \n",
      "...               ...     ...      ...       ...  \n",
      "99620             0.0       0        1  3.243283  \n",
      "99702             NaN       0        1  3.243283  \n",
      "99871             0.0       0        1  3.243283  \n",
      "99959             0.0       0        1  3.056485  \n",
      "99977             0.0       0        1  3.056485  \n",
      "\n",
      "[1315 rows x 20 columns]\n"
     ]
    },
    {
     "data": {
      "image/png": "[encoded data removed]",
      "text/plain": [
       "<Figure size 720x432 with 1 Axes>"
      ]
     },
     "metadata": {
      "needs_background": "light"
     },
     "output_type": "display_data"
    }
   ],
   "source": [
    "#Detecting outliers\n",
    "\n",
    "\n",
    "# hbA1c_level\n",
    "# Calculate the Z-scores\n",
    "df['z_score'] = (df['hbA1c_level'] - df['hbA1c_level'].mean()) / df['hbA1c_level'].std()\n",
    "\n",
    "# Define a threshold for Z-score\n",
    "threshold = 3  # Commonly used threshold\n",
    "\n",
    "# Identify outliers\n",
    "outliers_z_score = df[np.abs(df['z_score']) > threshold]\n",
    "\n",
    "print(\"Outliers based on Z-score:\")\n",
    "print(outliers_z_score)\n",
    "\n",
    "# Calculate Q1 (25th percentile) and Q3 (75th percentile)\n",
    "Q1 = df['hbA1c_level'].quantile(0.25)\n",
    "Q3 = df['hbA1c_level'].quantile(0.75)\n",
    "IQR = Q3 - Q1\n",
    "\n",
    "# Define outlier boundaries\n",
    "lower_bound = Q1 - 1.5 * IQR\n",
    "upper_bound = Q3 + 1.5 * IQR\n",
    "\n",
    "# Identify outliers\n",
    "outliers_iqr = df[(df['hbA1c_level'] < lower_bound) | (df['hbA1c_level'] > upper_bound)]\n",
    "\n",
    "print(\"Outliers based on IQR:\")\n",
    "print(outliers_iqr)\n",
    "\n",
    "#Boxplot visualization\n",
    "\n",
    "plt.figure(figsize=(10, 6))\n",
    "sns.boxplot(x=df['hbA1c_level'])\n",
    "plt.title('Boxplot of hbA1c_level')\n",
    "plt.xlabel('hbA1c_level')\n",
    "plt.grid(True)\n",
    "plt.show()\n",
    "\n",
    "\n",
    "\n"
   ]
  },
  {
   "cell_type": "code",
   "execution_count": 108,
   "metadata": {},
   "outputs": [
    {
     "name": "stdout",
     "output_type": "stream",
     "text": [
      "count    100000.000000\n",
      "mean          5.527507\n",
      "std           1.070672\n",
      "min           3.500000\n",
      "25%           4.800000\n",
      "50%           5.800000\n",
      "75%           6.200000\n",
      "max           9.000000\n",
      "Name: hbA1c_level, dtype: float64\n"
     ]
    },
    {
     "data": {
      "image/png": "[encoded data removed]",
      "text/plain": [
       "<Figure size 720x432 with 1 Axes>"
      ]
     },
     "metadata": {
      "needs_background": "light"
     },
     "output_type": "display_data"
    }
   ],
   "source": [
    "# Check basic statistics\n",
    "print(df['hbA1c_level'].describe())\n",
    "\n",
    "# Check the distribution of BMI\n",
    "plt.figure(figsize=(10, 6))\n",
    "sns.histplot(df['hbA1c_level'], bins=30, kde=True)\n",
    "plt.title('Distribution of hbA1c_level')\n",
    "plt.xlabel('hbA1c_level')\n",
    "plt.ylabel('Frequency')\n",
    "plt.grid(True)\n",
    "plt.show()"
   ]
  },
  {
   "cell_type": "markdown",
   "metadata": {},
   "source": [
    "For hbA1c_level feature we do have outliers, and we can summarize this as follows:\n",
    "\n",
    "Z-Score Method:\n",
    "Outliers are defined as hbA1c_level < 2.32 or hbA1c_level > 8.74.\n",
    "IQR Method:\n",
    "Outliers are defined as hbA1c_level < 2.70 or hbA1c_level > 8.30.\n",
    "\n",
    "And what does this mean for diabetes?\n",
    "\n",
    "- Low hbA1c Levels (< 2.32 or < 2.70):\n",
    "\n",
    "* Individuals with very low hbA1c levels may require further investigation to assess their overall health and metabolic status.\n",
    "* It’s essential to evaluate why the level is low, as this could pose other health risks.\n",
    "\n",
    "- High hbA1c Levels (> 8.30 or > 8.74):\n",
    "* High hbA1c levels indicate poor blood glucose control over time, which is a significant risk factor for the development of diabetes-related complications.\n",
    "* Levels above 8.0% generally suggest that an individual is not managing their diabetes effectively."
   ]
  },
  {
   "cell_type": "code",
   "execution_count": 109,
   "metadata": {},
   "outputs": [
    {
     "name": "stdout",
     "output_type": "stream",
     "text": [
      "Outliers based on Z-score:\n",
      "       year  gender   age location  race:AfricanAmerican  race:Asian  \\\n",
      "112    2016    Male  53.0  Alabama                     0           0   \n",
      "120    2015    Male  68.0  Alabama                     0           0   \n",
      "132    2016    Male  71.0  Alabama                     0           0   \n",
      "297    2015    Male  67.0  Alabama                     0           0   \n",
      "301    2015  Female  56.0  Alabama                     1           0   \n",
      "...     ...     ...   ...      ...                   ...         ...   \n",
      "99763  2015    Male  55.0  Wyoming                     1           0   \n",
      "99799  2016    Male  80.0  Wyoming                     0           1   \n",
      "99865  2018    Male  79.0  Wyoming                     0           0   \n",
      "99920  2016  Female  72.0  Wyoming                     0           1   \n",
      "99942  2016    Male  65.0  Wyoming                     0           0   \n",
      "\n",
      "       race:Caucasian  race:Hispanic  race:Other  hypertension  heart_disease  \\\n",
      "112                 0              1           0             0              0   \n",
      "120                 0              0           1             0              0   \n",
      "132                 0              1           0             0              1   \n",
      "297                 1              0           0             0              1   \n",
      "301                 0              0           0             0              1   \n",
      "...               ...            ...         ...           ...            ...   \n",
      "99763               0              0           0             0              0   \n",
      "99799               0              0           0             0              0   \n",
      "99865               0              1           0             0              0   \n",
      "99920               0              0           0             0              1   \n",
      "99942               0              1           0             0              0   \n",
      "\n",
      "      smoking_history    bmi  hbA1c_level  blood_glucose_level  diabetes  \\\n",
      "112             never  27.01          6.2                  280         1   \n",
      "120            former  34.28          7.0                  280         1   \n",
      "132            former  27.32          9.0                  280         1   \n",
      "297             never  27.32          6.8                  300         1   \n",
      "301           No Info  37.49          9.0                  300         1   \n",
      "...               ...    ...          ...                  ...       ...   \n",
      "99763           never  39.56          6.1                  300         1   \n",
      "99799           never  22.72          6.1                  280         1   \n",
      "99865           never  27.88          6.6                  300         1   \n",
      "99920          former  26.98          6.8                  280         1   \n",
      "99942            ever  27.32          8.2                  300         1   \n",
      "\n",
      "       smoking_binary  type_I  type_II   z_score  \n",
      "112               0.0       0        1  3.486820  \n",
      "120               1.0       0        1  3.486820  \n",
      "132               1.0       0        1  3.486820  \n",
      "297               0.0       0        1  3.978122  \n",
      "301               NaN       0        1  3.978122  \n",
      "...               ...     ...      ...       ...  \n",
      "99763             0.0       0        1  3.978122  \n",
      "99799             0.0       0        1  3.486820  \n",
      "99865             0.0       0        1  3.978122  \n",
      "99920             1.0       0        1  3.486820  \n",
      "99942             0.0       0        1  3.978122  \n",
      "\n",
      "[1403 rows x 20 columns]\n",
      "Outliers based on IQR:\n",
      "       year  gender   age location  race:AfricanAmerican  race:Asian  \\\n",
      "112    2016    Male  53.0  Alabama                     0           0   \n",
      "120    2015    Male  68.0  Alabama                     0           0   \n",
      "127    2016  Female  48.0  Alabama                     0           0   \n",
      "132    2016    Male  71.0  Alabama                     0           0   \n",
      "297    2015    Male  67.0  Alabama                     0           0   \n",
      "...     ...     ...   ...      ...                   ...         ...   \n",
      "99799  2016    Male  80.0  Wyoming                     0           1   \n",
      "99865  2018    Male  79.0  Wyoming                     0           0   \n",
      "99920  2016  Female  72.0  Wyoming                     0           1   \n",
      "99942  2016    Male  65.0  Wyoming                     0           0   \n",
      "99953  2016  Female  55.0  Wyoming                     0           0   \n",
      "\n",
      "       race:Caucasian  race:Hispanic  race:Other  hypertension  heart_disease  \\\n",
      "112                 0              1           0             0              0   \n",
      "120                 0              0           1             0              0   \n",
      "127                 0              0           1             0              0   \n",
      "132                 0              1           0             0              1   \n",
      "297                 1              0           0             0              1   \n",
      "...               ...            ...         ...           ...            ...   \n",
      "99799               0              0           0             0              0   \n",
      "99865               0              1           0             0              0   \n",
      "99920               0              0           0             0              1   \n",
      "99942               0              1           0             0              0   \n",
      "99953               0              0           1             0              0   \n",
      "\n",
      "      smoking_history    bmi  hbA1c_level  blood_glucose_level  diabetes  \\\n",
      "112             never  27.01          6.2                  280         1   \n",
      "120            former  34.28          7.0                  280         1   \n",
      "127            former  27.32          9.0                  260         1   \n",
      "132            former  27.32          9.0                  280         1   \n",
      "297             never  27.32          6.8                  300         1   \n",
      "...               ...    ...          ...                  ...       ...   \n",
      "99799           never  22.72          6.1                  280         1   \n",
      "99865           never  27.88          6.6                  300         1   \n",
      "99920          former  26.98          6.8                  280         1   \n",
      "99942            ever  27.32          8.2                  300         1   \n",
      "99953          former  25.51          6.6                  260         1   \n",
      "\n",
      "       smoking_binary  type_I  type_II   z_score  \n",
      "112               0.0       0        1  3.486820  \n",
      "120               1.0       0        1  3.486820  \n",
      "127               1.0       0        1  2.995518  \n",
      "132               1.0       0        1  3.486820  \n",
      "297               0.0       0        1  3.978122  \n",
      "...               ...     ...      ...       ...  \n",
      "99799             0.0       0        1  3.486820  \n",
      "99865             0.0       0        1  3.978122  \n",
      "99920             1.0       0        1  3.486820  \n",
      "99942             0.0       0        1  3.978122  \n",
      "99953             1.0       0        1  2.995518  \n",
      "\n",
      "[2038 rows x 20 columns]\n"
     ]
    },
    {
     "data": {
      "image/png": "[encoded data removed]",
      "text/plain": [
       "<Figure size 720x432 with 1 Axes>"
      ]
     },
     "metadata": {
      "needs_background": "light"
     },
     "output_type": "display_data"
    }
   ],
   "source": [
    "#Detecting outliers\n",
    "\n",
    "\n",
    "# blood_glucose_level \n",
    "# Calculate the Z-scores\n",
    "df['z_score'] = (df['blood_glucose_level'] - df['blood_glucose_level'].mean()) / df['blood_glucose_level'].std()\n",
    "\n",
    "# Define a threshold for Z-score\n",
    "threshold = 3  # Commonly used threshold\n",
    "\n",
    "# Identify outliers\n",
    "outliers_z_score = df[np.abs(df['z_score']) > threshold]\n",
    "\n",
    "print(\"Outliers based on Z-score:\")\n",
    "print(outliers_z_score)\n",
    "\n",
    "# Calculate Q1 (25th percentile) and Q3 (75th percentile)\n",
    "Q1 = df['blood_glucose_level'].quantile(0.25)\n",
    "Q3 = df['blood_glucose_level'].quantile(0.75)\n",
    "IQR = Q3 - Q1\n",
    "\n",
    "# Define outlier boundaries\n",
    "lower_bound = Q1 - 1.5 * IQR\n",
    "upper_bound = Q3 + 1.5 * IQR\n",
    "\n",
    "# Identify outliers\n",
    "outliers_iqr = df[(df['blood_glucose_level'] < lower_bound) | (df['blood_glucose_level'] > upper_bound)]\n",
    "\n",
    "print(\"Outliers based on IQR:\")\n",
    "print(outliers_iqr)\n",
    "\n",
    "#Boxplot visualization\n",
    "\n",
    "plt.figure(figsize=(10, 6))\n",
    "sns.boxplot(x=df['blood_glucose_level'])\n",
    "plt.title('Boxplot of blood_glucose_level')\n",
    "plt.xlabel('blood_glucose_level')\n",
    "plt.grid(True)\n",
    "plt.show()\n",
    "\n",
    "\n",
    "\n"
   ]
  },
  {
   "cell_type": "code",
   "execution_count": 110,
   "metadata": {},
   "outputs": [
    {
     "name": "stdout",
     "output_type": "stream",
     "text": [
      "count    100000.000000\n",
      "mean        138.058060\n",
      "std          40.708136\n",
      "min          80.000000\n",
      "25%         100.000000\n",
      "50%         140.000000\n",
      "75%         159.000000\n",
      "max         300.000000\n",
      "Name: blood_glucose_level, dtype: float64\n"
     ]
    },
    {
     "data": {
      "image/png": "[encoded data removed]",
      "text/plain": [
       "<Figure size 720x432 with 1 Axes>"
      ]
     },
     "metadata": {
      "needs_background": "light"
     },
     "output_type": "display_data"
    }
   ],
   "source": [
    "# Check basic statistics\n",
    "print(df['blood_glucose_level'].describe())\n",
    "\n",
    "# Check the distribution of BMI\n",
    "plt.figure(figsize=(10, 6))\n",
    "sns.histplot(df['blood_glucose_level'], bins=30, kde=True)\n",
    "plt.title('Distribution of blood glucose level')\n",
    "plt.xlabel('blood_glucose_level')\n",
    "plt.ylabel('Frequency')\n",
    "plt.grid(True)\n",
    "plt.show()"
   ]
  },
  {
   "cell_type": "markdown",
   "metadata": {},
   "source": [
    "For blood glucose level we do have outliers:\n",
    "\n",
    "Z-Score Method:\n",
    "Outliers are defined as blood_glucose_level < 15.93 or blood_glucose_level > 260.19.\n",
    "IQR Method:\n",
    "Outliers are defined as blood_glucose_level < 11.50 or blood_glucose_level > 247.50.\n",
    "\n",
    "This means that patients with:\n",
    "\n",
    "- Blood Glucose Levels < 15.93 (Z-Score) / < 11.50 (IQR):\n",
    "\n",
    "* Have extremely low blood glucose levels, which can indicate hypoglycemia. This condition is characterized by dangerously low glucose levels in the blood, which can lead to symptoms such as dizziness, confusion, sweating, rapid heartbeat, and even loss of consciousness.\n",
    "\n",
    "- Blood Glucose Levels > 260.19 (Z-Score) / > 247.50 (IQR):\n",
    "\n",
    "* Have elevated blood glucose which suggests hyperglycemia (a key indicator of poorly controlled diabetes).\n",
    "* Chronic hyperglycemia can lead to serious complications, including:\n",
    "  * Diabetic ketoacidosis (DKA), especially in type 1 diabetes\n",
    "  * Long-term complications such as cardiovascular disease, kidney damage, neuropathy, and retinopathy"
   ]
  },
  {
   "cell_type": "code",
   "execution_count": 111,
   "metadata": {},
   "outputs": [
    {
     "data": {
      "text/html": [
       "<div>\n",
       "<style scoped>\n",
       "    .dataframe tbody tr th:only-of-type {\n",
       "        vertical-align: middle;\n",
       "    }\n",
       "\n",
       "    .dataframe tbody tr th {\n",
       "        vertical-align: top;\n",
       "    }\n",
       "\n",
       "    .dataframe thead th {\n",
       "        text-align: right;\n",
       "    }\n",
       "</style>\n",
       "<table border=\"1\" class=\"dataframe\">\n",
       "  <thead>\n",
       "    <tr style=\"text-align: right;\">\n",
       "      <th></th>\n",
       "      <th>year</th>\n",
       "      <th>age</th>\n",
       "      <th>race:AfricanAmerican</th>\n",
       "      <th>race:Asian</th>\n",
       "      <th>race:Caucasian</th>\n",
       "      <th>race:Hispanic</th>\n",
       "      <th>race:Other</th>\n",
       "      <th>hypertension</th>\n",
       "      <th>heart_disease</th>\n",
       "      <th>bmi</th>\n",
       "      <th>hbA1c_level</th>\n",
       "      <th>blood_glucose_level</th>\n",
       "      <th>diabetes</th>\n",
       "      <th>smoking_binary</th>\n",
       "      <th>type_I</th>\n",
       "      <th>type_II</th>\n",
       "      <th>z_score</th>\n",
       "    </tr>\n",
       "  </thead>\n",
       "  <tbody>\n",
       "    <tr>\n",
       "      <th>year</th>\n",
       "      <td>1.000000</td>\n",
       "      <td>-0.003304</td>\n",
       "      <td>-0.004291</td>\n",
       "      <td>-0.007224</td>\n",
       "      <td>0.010587</td>\n",
       "      <td>0.004153</td>\n",
       "      <td>-0.003172</td>\n",
       "      <td>-0.003806</td>\n",
       "      <td>0.001820</td>\n",
       "      <td>-0.001861</td>\n",
       "      <td>-0.000465</td>\n",
       "      <td>0.002968</td>\n",
       "      <td>-0.003464</td>\n",
       "      <td>0.003807</td>\n",
       "      <td>0.002701</td>\n",
       "      <td>0.001719</td>\n",
       "      <td>0.002968</td>\n",
       "    </tr>\n",
       "    <tr>\n",
       "      <th>age</th>\n",
       "      <td>-0.003304</td>\n",
       "      <td>1.000000</td>\n",
       "      <td>-0.002183</td>\n",
       "      <td>0.003787</td>\n",
       "      <td>0.003790</td>\n",
       "      <td>0.001962</td>\n",
       "      <td>-0.007336</td>\n",
       "      <td>0.251171</td>\n",
       "      <td>0.233354</td>\n",
       "      <td>0.337396</td>\n",
       "      <td>0.101354</td>\n",
       "      <td>0.110672</td>\n",
       "      <td>0.258008</td>\n",
       "      <td>0.135161</td>\n",
       "      <td>-0.663144</td>\n",
       "      <td>0.604033</td>\n",
       "      <td>0.110672</td>\n",
       "    </tr>\n",
       "    <tr>\n",
       "      <th>race:AfricanAmerican</th>\n",
       "      <td>-0.004291</td>\n",
       "      <td>-0.002183</td>\n",
       "      <td>1.000000</td>\n",
       "      <td>-0.251859</td>\n",
       "      <td>-0.250765</td>\n",
       "      <td>-0.250860</td>\n",
       "      <td>-0.251725</td>\n",
       "      <td>-0.001201</td>\n",
       "      <td>-0.000664</td>\n",
       "      <td>-0.001249</td>\n",
       "      <td>0.001312</td>\n",
       "      <td>0.002292</td>\n",
       "      <td>0.004378</td>\n",
       "      <td>-0.003473</td>\n",
       "      <td>0.003526</td>\n",
       "      <td>0.000646</td>\n",
       "      <td>0.002292</td>\n",
       "    </tr>\n",
       "    <tr>\n",
       "      <th>race:Asian</th>\n",
       "      <td>-0.007224</td>\n",
       "      <td>0.003787</td>\n",
       "      <td>-0.251859</td>\n",
       "      <td>1.000000</td>\n",
       "      <td>-0.249148</td>\n",
       "      <td>-0.249241</td>\n",
       "      <td>-0.250102</td>\n",
       "      <td>0.003977</td>\n",
       "      <td>0.006166</td>\n",
       "      <td>0.005240</td>\n",
       "      <td>-0.000473</td>\n",
       "      <td>0.000171</td>\n",
       "      <td>0.003739</td>\n",
       "      <td>-0.003736</td>\n",
       "      <td>-0.001669</td>\n",
       "      <td>-0.000704</td>\n",
       "      <td>0.000171</td>\n",
       "    </tr>\n",
       "    <tr>\n",
       "      <th>race:Caucasian</th>\n",
       "      <td>0.010587</td>\n",
       "      <td>0.003790</td>\n",
       "      <td>-0.250765</td>\n",
       "      <td>-0.249148</td>\n",
       "      <td>1.000000</td>\n",
       "      <td>-0.248159</td>\n",
       "      <td>-0.249015</td>\n",
       "      <td>0.000503</td>\n",
       "      <td>-0.001225</td>\n",
       "      <td>-0.002114</td>\n",
       "      <td>-0.004033</td>\n",
       "      <td>0.004121</td>\n",
       "      <td>-0.001749</td>\n",
       "      <td>0.000830</td>\n",
       "      <td>-0.002210</td>\n",
       "      <td>0.005257</td>\n",
       "      <td>0.004121</td>\n",
       "    </tr>\n",
       "    <tr>\n",
       "      <th>race:Hispanic</th>\n",
       "      <td>0.004153</td>\n",
       "      <td>0.001962</td>\n",
       "      <td>-0.250860</td>\n",
       "      <td>-0.249241</td>\n",
       "      <td>-0.248159</td>\n",
       "      <td>1.000000</td>\n",
       "      <td>-0.249109</td>\n",
       "      <td>0.001369</td>\n",
       "      <td>-0.000771</td>\n",
       "      <td>0.002363</td>\n",
       "      <td>0.000446</td>\n",
       "      <td>-0.002684</td>\n",
       "      <td>-0.001301</td>\n",
       "      <td>0.006628</td>\n",
       "      <td>-0.001855</td>\n",
       "      <td>0.000476</td>\n",
       "      <td>-0.002684</td>\n",
       "    </tr>\n",
       "    <tr>\n",
       "      <th>race:Other</th>\n",
       "      <td>-0.003172</td>\n",
       "      <td>-0.007336</td>\n",
       "      <td>-0.251725</td>\n",
       "      <td>-0.250102</td>\n",
       "      <td>-0.249015</td>\n",
       "      <td>-0.249109</td>\n",
       "      <td>1.000000</td>\n",
       "      <td>-0.004641</td>\n",
       "      <td>-0.003510</td>\n",
       "      <td>-0.004236</td>\n",
       "      <td>0.002735</td>\n",
       "      <td>-0.003905</td>\n",
       "      <td>-0.005095</td>\n",
       "      <td>-0.000217</td>\n",
       "      <td>0.002185</td>\n",
       "      <td>-0.005664</td>\n",
       "      <td>-0.003905</td>\n",
       "    </tr>\n",
       "    <tr>\n",
       "      <th>hypertension</th>\n",
       "      <td>-0.003806</td>\n",
       "      <td>0.251171</td>\n",
       "      <td>-0.001201</td>\n",
       "      <td>0.003977</td>\n",
       "      <td>0.000503</td>\n",
       "      <td>0.001369</td>\n",
       "      <td>-0.004641</td>\n",
       "      <td>1.000000</td>\n",
       "      <td>0.121262</td>\n",
       "      <td>0.147666</td>\n",
       "      <td>0.080939</td>\n",
       "      <td>0.084429</td>\n",
       "      <td>0.197823</td>\n",
       "      <td>0.021965</td>\n",
       "      <td>-0.153537</td>\n",
       "      <td>0.160790</td>\n",
       "      <td>0.084429</td>\n",
       "    </tr>\n",
       "    <tr>\n",
       "      <th>heart_disease</th>\n",
       "      <td>0.001820</td>\n",
       "      <td>0.233354</td>\n",
       "      <td>-0.000664</td>\n",
       "      <td>0.006166</td>\n",
       "      <td>-0.001225</td>\n",
       "      <td>-0.000771</td>\n",
       "      <td>-0.003510</td>\n",
       "      <td>0.121262</td>\n",
       "      <td>1.000000</td>\n",
       "      <td>0.061198</td>\n",
       "      <td>0.067589</td>\n",
       "      <td>0.070066</td>\n",
       "      <td>0.171727</td>\n",
       "      <td>0.064714</td>\n",
       "      <td>-0.114119</td>\n",
       "      <td>0.117154</td>\n",
       "      <td>0.070066</td>\n",
       "    </tr>\n",
       "    <tr>\n",
       "      <th>bmi</th>\n",
       "      <td>-0.001861</td>\n",
       "      <td>0.337396</td>\n",
       "      <td>-0.001249</td>\n",
       "      <td>0.005240</td>\n",
       "      <td>-0.002114</td>\n",
       "      <td>0.002363</td>\n",
       "      <td>-0.004236</td>\n",
       "      <td>0.147666</td>\n",
       "      <td>0.061198</td>\n",
       "      <td>1.000000</td>\n",
       "      <td>0.082997</td>\n",
       "      <td>0.091261</td>\n",
       "      <td>0.214357</td>\n",
       "      <td>0.048321</td>\n",
       "      <td>-0.296383</td>\n",
       "      <td>0.283743</td>\n",
       "      <td>0.091261</td>\n",
       "    </tr>\n",
       "    <tr>\n",
       "      <th>hbA1c_level</th>\n",
       "      <td>-0.000465</td>\n",
       "      <td>0.101354</td>\n",
       "      <td>0.001312</td>\n",
       "      <td>-0.000473</td>\n",
       "      <td>-0.004033</td>\n",
       "      <td>0.000446</td>\n",
       "      <td>0.002735</td>\n",
       "      <td>0.080939</td>\n",
       "      <td>0.067589</td>\n",
       "      <td>0.082997</td>\n",
       "      <td>1.000000</td>\n",
       "      <td>0.166733</td>\n",
       "      <td>0.400660</td>\n",
       "      <td>0.020089</td>\n",
       "      <td>-0.019177</td>\n",
       "      <td>0.175847</td>\n",
       "      <td>0.166733</td>\n",
       "    </tr>\n",
       "    <tr>\n",
       "      <th>blood_glucose_level</th>\n",
       "      <td>0.002968</td>\n",
       "      <td>0.110672</td>\n",
       "      <td>0.002292</td>\n",
       "      <td>0.000171</td>\n",
       "      <td>0.004121</td>\n",
       "      <td>-0.002684</td>\n",
       "      <td>-0.003905</td>\n",
       "      <td>0.084429</td>\n",
       "      <td>0.070066</td>\n",
       "      <td>0.091261</td>\n",
       "      <td>0.166733</td>\n",
       "      <td>1.000000</td>\n",
       "      <td>0.419558</td>\n",
       "      <td>0.024349</td>\n",
       "      <td>0.143642</td>\n",
       "      <td>0.441713</td>\n",
       "      <td>1.000000</td>\n",
       "    </tr>\n",
       "    <tr>\n",
       "      <th>diabetes</th>\n",
       "      <td>-0.003464</td>\n",
       "      <td>0.258008</td>\n",
       "      <td>0.004378</td>\n",
       "      <td>0.003739</td>\n",
       "      <td>-0.001749</td>\n",
       "      <td>-0.001301</td>\n",
       "      <td>-0.005095</td>\n",
       "      <td>0.197823</td>\n",
       "      <td>0.171727</td>\n",
       "      <td>0.214357</td>\n",
       "      <td>0.400660</td>\n",
       "      <td>0.419558</td>\n",
       "      <td>1.000000</td>\n",
       "      <td>0.048437</td>\n",
       "      <td>-0.149877</td>\n",
       "      <td>0.270845</td>\n",
       "      <td>0.419558</td>\n",
       "    </tr>\n",
       "    <tr>\n",
       "      <th>smoking_binary</th>\n",
       "      <td>0.003807</td>\n",
       "      <td>0.135161</td>\n",
       "      <td>-0.003473</td>\n",
       "      <td>-0.003736</td>\n",
       "      <td>0.000830</td>\n",
       "      <td>0.006628</td>\n",
       "      <td>-0.000217</td>\n",
       "      <td>0.021965</td>\n",
       "      <td>0.064714</td>\n",
       "      <td>0.048321</td>\n",
       "      <td>0.020089</td>\n",
       "      <td>0.024349</td>\n",
       "      <td>0.048437</td>\n",
       "      <td>1.000000</td>\n",
       "      <td>-0.095233</td>\n",
       "      <td>0.080242</td>\n",
       "      <td>0.024349</td>\n",
       "    </tr>\n",
       "    <tr>\n",
       "      <th>type_I</th>\n",
       "      <td>0.002701</td>\n",
       "      <td>-0.663144</td>\n",
       "      <td>0.003526</td>\n",
       "      <td>-0.001669</td>\n",
       "      <td>-0.002210</td>\n",
       "      <td>-0.001855</td>\n",
       "      <td>0.002185</td>\n",
       "      <td>-0.153537</td>\n",
       "      <td>-0.114119</td>\n",
       "      <td>-0.296383</td>\n",
       "      <td>-0.019177</td>\n",
       "      <td>0.143642</td>\n",
       "      <td>-0.149877</td>\n",
       "      <td>-0.095233</td>\n",
       "      <td>1.000000</td>\n",
       "      <td>-0.594728</td>\n",
       "      <td>0.143642</td>\n",
       "    </tr>\n",
       "    <tr>\n",
       "      <th>type_II</th>\n",
       "      <td>0.001719</td>\n",
       "      <td>0.604033</td>\n",
       "      <td>0.000646</td>\n",
       "      <td>-0.000704</td>\n",
       "      <td>0.005257</td>\n",
       "      <td>0.000476</td>\n",
       "      <td>-0.005664</td>\n",
       "      <td>0.160790</td>\n",
       "      <td>0.117154</td>\n",
       "      <td>0.283743</td>\n",
       "      <td>0.175847</td>\n",
       "      <td>0.441713</td>\n",
       "      <td>0.270845</td>\n",
       "      <td>0.080242</td>\n",
       "      <td>-0.594728</td>\n",
       "      <td>1.000000</td>\n",
       "      <td>0.441713</td>\n",
       "    </tr>\n",
       "    <tr>\n",
       "      <th>z_score</th>\n",
       "      <td>0.002968</td>\n",
       "      <td>0.110672</td>\n",
       "      <td>0.002292</td>\n",
       "      <td>0.000171</td>\n",
       "      <td>0.004121</td>\n",
       "      <td>-0.002684</td>\n",
       "      <td>-0.003905</td>\n",
       "      <td>0.084429</td>\n",
       "      <td>0.070066</td>\n",
       "      <td>0.091261</td>\n",
       "      <td>0.166733</td>\n",
       "      <td>1.000000</td>\n",
       "      <td>0.419558</td>\n",
       "      <td>0.024349</td>\n",
       "      <td>0.143642</td>\n",
       "      <td>0.441713</td>\n",
       "      <td>1.000000</td>\n",
       "    </tr>\n",
       "  </tbody>\n",
       "</table>\n",
       "</div>"
      ],
      "text/plain": [
       "                          year       age  race:AfricanAmerican  race:Asian  \\\n",
       "year                  1.000000 -0.003304             -0.004291   -0.007224   \n",
       "age                  -0.003304  1.000000             -0.002183    0.003787   \n",
       "race:AfricanAmerican -0.004291 -0.002183              1.000000   -0.251859   \n",
       "race:Asian           -0.007224  0.003787             -0.251859    1.000000   \n",
       "race:Caucasian        0.010587  0.003790             -0.250765   -0.249148   \n",
       "race:Hispanic         0.004153  0.001962             -0.250860   -0.249241   \n",
       "race:Other           -0.003172 -0.007336             -0.251725   -0.250102   \n",
       "hypertension         -0.003806  0.251171             -0.001201    0.003977   \n",
       "heart_disease         0.001820  0.233354             -0.000664    0.006166   \n",
       "bmi                  -0.001861  0.337396             -0.001249    0.005240   \n",
       "hbA1c_level          -0.000465  0.101354              0.001312   -0.000473   \n",
       "blood_glucose_level   0.002968  0.110672              0.002292    0.000171   \n",
       "diabetes             -0.003464  0.258008              0.004378    0.003739   \n",
       "smoking_binary        0.003807  0.135161             -0.003473   -0.003736   \n",
       "type_I                0.002701 -0.663144              0.003526   -0.001669   \n",
       "type_II               0.001719  0.604033              0.000646   -0.000704   \n",
       "z_score               0.002968  0.110672              0.002292    0.000171   \n",
       "\n",
       "                      race:Caucasian  race:Hispanic  race:Other  hypertension  \\\n",
       "year                        0.010587       0.004153   -0.003172     -0.003806   \n",
       "age                         0.003790       0.001962   -0.007336      0.251171   \n",
       "race:AfricanAmerican       -0.250765      -0.250860   -0.251725     -0.001201   \n",
       "race:Asian                 -0.249148      -0.249241   -0.250102      0.003977   \n",
       "race:Caucasian              1.000000      -0.248159   -0.249015      0.000503   \n",
       "race:Hispanic              -0.248159       1.000000   -0.249109      0.001369   \n",
       "race:Other                 -0.249015      -0.249109    1.000000     -0.004641   \n",
       "hypertension                0.000503       0.001369   -0.004641      1.000000   \n",
       "heart_disease              -0.001225      -0.000771   -0.003510      0.121262   \n",
       "bmi                        -0.002114       0.002363   -0.004236      0.147666   \n",
       "hbA1c_level                -0.004033       0.000446    0.002735      0.080939   \n",
       "blood_glucose_level         0.004121      -0.002684   -0.003905      0.084429   \n",
       "diabetes                   -0.001749      -0.001301   -0.005095      0.197823   \n",
       "smoking_binary              0.000830       0.006628   -0.000217      0.021965   \n",
       "type_I                     -0.002210      -0.001855    0.002185     -0.153537   \n",
       "type_II                     0.005257       0.000476   -0.005664      0.160790   \n",
       "z_score                     0.004121      -0.002684   -0.003905      0.084429   \n",
       "\n",
       "                      heart_disease       bmi  hbA1c_level  \\\n",
       "year                       0.001820 -0.001861    -0.000465   \n",
       "age                        0.233354  0.337396     0.101354   \n",
       "race:AfricanAmerican      -0.000664 -0.001249     0.001312   \n",
       "race:Asian                 0.006166  0.005240    -0.000473   \n",
       "race:Caucasian            -0.001225 -0.002114    -0.004033   \n",
       "race:Hispanic             -0.000771  0.002363     0.000446   \n",
       "race:Other                -0.003510 -0.004236     0.002735   \n",
       "hypertension               0.121262  0.147666     0.080939   \n",
       "heart_disease              1.000000  0.061198     0.067589   \n",
       "bmi                        0.061198  1.000000     0.082997   \n",
       "hbA1c_level                0.067589  0.082997     1.000000   \n",
       "blood_glucose_level        0.070066  0.091261     0.166733   \n",
       "diabetes                   0.171727  0.214357     0.400660   \n",
       "smoking_binary             0.064714  0.048321     0.020089   \n",
       "type_I                    -0.114119 -0.296383    -0.019177   \n",
       "type_II                    0.117154  0.283743     0.175847   \n",
       "z_score                    0.070066  0.091261     0.166733   \n",
       "\n",
       "                      blood_glucose_level  diabetes  smoking_binary    type_I  \\\n",
       "year                             0.002968 -0.003464        0.003807  0.002701   \n",
       "age                              0.110672  0.258008        0.135161 -0.663144   \n",
       "race:AfricanAmerican             0.002292  0.004378       -0.003473  0.003526   \n",
       "race:Asian                       0.000171  0.003739       -0.003736 -0.001669   \n",
       "race:Caucasian                   0.004121 -0.001749        0.000830 -0.002210   \n",
       "race:Hispanic                   -0.002684 -0.001301        0.006628 -0.001855   \n",
       "race:Other                      -0.003905 -0.005095       -0.000217  0.002185   \n",
       "hypertension                     0.084429  0.197823        0.021965 -0.153537   \n",
       "heart_disease                    0.070066  0.171727        0.064714 -0.114119   \n",
       "bmi                              0.091261  0.214357        0.048321 -0.296383   \n",
       "hbA1c_level                      0.166733  0.400660        0.020089 -0.019177   \n",
       "blood_glucose_level              1.000000  0.419558        0.024349  0.143642   \n",
       "diabetes                         0.419558  1.000000        0.048437 -0.149877   \n",
       "smoking_binary                   0.024349  0.048437        1.000000 -0.095233   \n",
       "type_I                           0.143642 -0.149877       -0.095233  1.000000   \n",
       "type_II                          0.441713  0.270845        0.080242 -0.594728   \n",
       "z_score                          1.000000  0.419558        0.024349  0.143642   \n",
       "\n",
       "                       type_II   z_score  \n",
       "year                  0.001719  0.002968  \n",
       "age                   0.604033  0.110672  \n",
       "race:AfricanAmerican  0.000646  0.002292  \n",
       "race:Asian           -0.000704  0.000171  \n",
       "race:Caucasian        0.005257  0.004121  \n",
       "race:Hispanic         0.000476 -0.002684  \n",
       "race:Other           -0.005664 -0.003905  \n",
       "hypertension          0.160790  0.084429  \n",
       "heart_disease         0.117154  0.070066  \n",
       "bmi                   0.283743  0.091261  \n",
       "hbA1c_level           0.175847  0.166733  \n",
       "blood_glucose_level   0.441713  1.000000  \n",
       "diabetes              0.270845  0.419558  \n",
       "smoking_binary        0.080242  0.024349  \n",
       "type_I               -0.594728  0.143642  \n",
       "type_II               1.000000  0.441713  \n",
       "z_score               0.441713  1.000000  "
      ]
     },
     "execution_count": 111,
     "metadata": {},
     "output_type": "execute_result"
    }
   ],
   "source": [
    "#Make correlation matrix\n",
    "df.corr()"
   ]
  },
  {
   "cell_type": "code",
   "execution_count": 112,
   "metadata": {},
   "outputs": [
    {
     "data": {
      "image/png": "[encoded data removed]",
      "text/plain": [
       "<Figure size 1080x720 with 2 Axes>"
      ]
     },
     "metadata": {
      "needs_background": "light"
     },
     "output_type": "display_data"
    }
   ],
   "source": [
    "#Making a correlation matrix more understandable with heatmap\n",
    "corr_matrix=df.corr()\n",
    "fig, ax = plt.subplots(figsize=(15,10))\n",
    "ax = sns.heatmap(corr_matrix,\n",
    "                annot=True,\n",
    "                linewidth = 0.5,\n",
    "                fmt=\".2f\",\n",
    "                cmap = \"YlGnBu\");\n",
    "bottom, top = ax.get_ylim()\n",
    "ax.set_ylim(bottom +0.5, top = -0.5);"
   ]
  },
  {
   "cell_type": "markdown",
   "metadata": {},
   "source": [
    "Taking into consideration that the values closer to one determine strong correlation, the ones that show stronger correlation to diabetes are **hbA1c_level**, which is a measure of average blood sugar levels over the past 2-3 months, expressed as a percentage and blood glucose levels. However, when taking a closer look by type of diabetes, age now comes into play. \n",
    "\n",
    "It is also important to note that we have some negative relationships in the matrix, which indicate inverse relationship between the variables that are being correlated. This indicates that as one factor increases, the other decreases. However, this is not referrencing causation, rather other factors not stated in the data may be at play when analysing those features. As for our present dataset, those features are demeed as weak.\n",
    "\n",
    "As a first approach, we could discard some features like smoking, hearat diseaase, and hypetension, but let's take it even further with the Filter Method to make sure we choose the best features for our model."
   ]
  },
  {
   "cell_type": "code",
   "execution_count": 113,
   "metadata": {},
   "outputs": [
    {
     "name": "stdout",
     "output_type": "stream",
     "text": [
      "Features related to diabetes: ['age', 'z_score', 'diabetes', 'hbA1c_level', 'blood_glucose_level']\n",
      "Features related to Type I diabetes: ['age']\n",
      "Features related to Type II diabetes: ['age', 'blood_glucose_level', 'z_score']\n"
     ]
    }
   ],
   "source": [
    "# Filter Method\n",
    "\n",
    "\n",
    "# Calculate the correlation matrix\n",
    "correlation_matrix = df.corr()\n",
    "\n",
    "# Set a correlation threshold\n",
    "threshold = 0.3  # Since it often helps to filter out less significant features while still capturing some important ones.\n",
    "\n",
    "# Select features based on the correlation with 'type_I' and 'type_II'\n",
    "features_type_I = correlation_matrix['type_I'][correlation_matrix['type_I'].abs() > threshold].index.tolist()\n",
    "features_type_II = correlation_matrix['type_II'][correlation_matrix['type_II'].abs() > threshold].index.tolist()\n",
    "features_diabetes = correlation_matrix['diabetes'][correlation_matrix['diabetes'].abs() > threshold].index.tolist()\n",
    "# Exclude the target columns themselves\n",
    "features_type_I = [feature for feature in features_type_I if feature not in ['type_I', 'type_II']]\n",
    "features_type_II = [feature for feature in features_type_II if feature not in ['type_I', 'type_II']]\n",
    "features_diabetes = list(set(features_diabetes) | set(features_type_I) | set(features_type_II))\n",
    "\n",
    "# Display selected features\n",
    "print(\"Features related to diabetes:\", features_diabetes)\n",
    "print(\"Features related to Type I diabetes:\", features_type_I)\n",
    "print(\"Features related to Type II diabetes:\", features_type_II)\n",
    "\n",
    "#ask suneeta more about type I diabetes features and if this is actually a good approach."
   ]
  },
  {
   "cell_type": "code",
   "execution_count": 114,
   "metadata": {},
   "outputs": [
    {
     "name": "stdout",
     "output_type": "stream",
     "text": [
      "Feature Importance from Lasso Regression:\n",
      "bmi                    0.000000\n",
      "age                    0.000000\n",
      "blood_glucose_level    0.015958\n",
      "hbA1c_level            0.009393\n",
      "dtype: float64\n",
      "Significant Features: ['blood_glucose_level', 'hbA1c_level']\n"
     ]
    }
   ],
   "source": [
    "#Embeded method for feature selection\n",
    "\n",
    "from sklearn.linear_model import Lasso\n",
    "from sklearn.preprocessing import StandardScaler\n",
    "from sklearn.model_selection import train_test_split\n",
    "\n",
    "\n",
    "# Define features and target\n",
    "X = df[['bmi', 'age', 'blood_glucose_level', 'hbA1c_level']]\n",
    "y = df['diabetes']\n",
    "\n",
    "# Standardize the features\n",
    "scaler = StandardScaler()\n",
    "X_scaled = scaler.fit_transform(X)\n",
    "\n",
    "# Split the dataset into training and test sets\n",
    "X_train, X_test, y_train, y_test = train_test_split(X_scaled, y, test_size=0.2, random_state=42)\n",
    "\n",
    "# Create and fit the Lasso model\n",
    "lasso = Lasso(alpha=0.1)  # You can adjust the alpha for regularization strength\n",
    "lasso.fit(X_train, y_train)\n",
    "\n",
    "# Get feature importance\n",
    "importance = pd.Series(lasso.coef_, index=X.columns)\n",
    "print(\"Feature Importance from Lasso Regression:\")\n",
    "print(importance)\n",
    "\n",
    "# Select significant features\n",
    "significant_features = importance[importance != 0].index.tolist()\n",
    "print(\"Significant Features:\", significant_features)\n"
   ]
  },
  {
   "cell_type": "code",
   "execution_count": 115,
   "metadata": {},
   "outputs": [
    {
     "name": "stdout",
     "output_type": "stream",
     "text": [
      "Feature Importance from Lasso Regression:\n",
      "bmi                   -0.00000\n",
      "age                   -0.18508\n",
      "blood_glucose_level    0.00000\n",
      "hbA1c_level            0.00000\n",
      "dtype: float64\n",
      "Significant Features: ['age']\n"
     ]
    }
   ],
   "source": [
    "# Define features and target\n",
    "X = df[['bmi', 'age', 'blood_glucose_level', 'hbA1c_level']]\n",
    "y = df['type_I']\n",
    "\n",
    "# Standardize the features\n",
    "scaler = StandardScaler()\n",
    "X_scaled = scaler.fit_transform(X)\n",
    "\n",
    "# Split the dataset into training and test sets\n",
    "X_train, X_test, y_train, y_test = train_test_split(X_scaled, y, test_size=0.2, random_state=42)\n",
    "\n",
    "# Create and fit the Lasso model\n",
    "lasso = Lasso(alpha=0.1)  # You can adjust the alpha for regularization strength\n",
    "lasso.fit(X_train, y_train)\n",
    "\n",
    "# Get feature importance\n",
    "importance = pd.Series(lasso.coef_, index=X.columns)\n",
    "print(\"Feature Importance from Lasso Regression:\")\n",
    "print(importance)\n",
    "\n",
    "# Select significant features\n",
    "significant_features = importance[importance != 0].index.tolist()\n",
    "print(\"Significant Features:\", significant_features)\n"
   ]
  },
  {
   "cell_type": "code",
   "execution_count": 116,
   "metadata": {},
   "outputs": [
    {
     "name": "stdout",
     "output_type": "stream",
     "text": [
      "Feature Importance from Lasso Regression:\n",
      "bmi                    0.000000\n",
      "age                    0.190577\n",
      "blood_glucose_level    0.099658\n",
      "hbA1c_level            0.000000\n",
      "dtype: float64\n",
      "Significant Features: ['age', 'blood_glucose_level']\n"
     ]
    }
   ],
   "source": [
    "# Define features and target\n",
    "X = df[['bmi', 'age', 'blood_glucose_level', 'hbA1c_level']]\n",
    "y = df['type_II']\n",
    "\n",
    "# Standardize the features\n",
    "scaler = StandardScaler()\n",
    "X_scaled = scaler.fit_transform(X)\n",
    "\n",
    "# Split the dataset into training and test sets\n",
    "X_train, X_test, y_train, y_test = train_test_split(X_scaled, y, test_size=0.2, random_state=42)\n",
    "\n",
    "# Create and fit the Lasso model\n",
    "lasso = Lasso(alpha=0.1)  # You can adjust the alpha for regularization strength\n",
    "lasso.fit(X_train, y_train)\n",
    "\n",
    "# Get feature importance\n",
    "importance = pd.Series(lasso.coef_, index=X.columns)\n",
    "print(\"Feature Importance from Lasso Regression:\")\n",
    "print(importance)\n",
    "\n",
    "# Select significant features\n",
    "significant_features = importance[importance != 0].index.tolist()\n",
    "print(\"Significant Features:\", significant_features)\n"
   ]
  },
  {
   "cell_type": "markdown",
   "metadata": {},
   "source": [
    "After all this Analysis, we can conclude that the most important features to classify diabetes, without going into the types, are age, hbA1c_level, and blood_glucose_level. Moving forward, these will be the features we'll use for the following steps. "
   ]
  },
  {
   "cell_type": "code",
   "execution_count": 117,
   "metadata": {},
   "outputs": [],
   "source": [
    "# Droping unnecessary features:\n",
    "\n",
    "df.drop(columns=['year', 'gender', 'location', 'hypertension', 'heart_disease', 'smoking_history', 'smoking_binary', 'type_I','type_II' ], inplace=True)"
   ]
  },
  {
   "cell_type": "markdown",
   "metadata": {},
   "source": [
    "7. Modelling"
   ]
  },
  {
   "cell_type": "code",
   "execution_count": 118,
   "metadata": {},
   "outputs": [
    {
     "data": {
      "text/html": [
       "<div>\n",
       "<style scoped>\n",
       "    .dataframe tbody tr th:only-of-type {\n",
       "        vertical-align: middle;\n",
       "    }\n",
       "\n",
       "    .dataframe tbody tr th {\n",
       "        vertical-align: top;\n",
       "    }\n",
       "\n",
       "    .dataframe thead th {\n",
       "        text-align: right;\n",
       "    }\n",
       "</style>\n",
       "<table border=\"1\" class=\"dataframe\">\n",
       "  <thead>\n",
       "    <tr style=\"text-align: right;\">\n",
       "      <th></th>\n",
       "      <th>age</th>\n",
       "      <th>race:AfricanAmerican</th>\n",
       "      <th>race:Asian</th>\n",
       "      <th>race:Caucasian</th>\n",
       "      <th>race:Hispanic</th>\n",
       "      <th>race:Other</th>\n",
       "      <th>bmi</th>\n",
       "      <th>hbA1c_level</th>\n",
       "      <th>blood_glucose_level</th>\n",
       "      <th>diabetes</th>\n",
       "      <th>z_score</th>\n",
       "    </tr>\n",
       "  </thead>\n",
       "  <tbody>\n",
       "    <tr>\n",
       "      <th>0</th>\n",
       "      <td>32.0</td>\n",
       "      <td>0</td>\n",
       "      <td>0</td>\n",
       "      <td>0</td>\n",
       "      <td>0</td>\n",
       "      <td>1</td>\n",
       "      <td>27.32</td>\n",
       "      <td>5.0</td>\n",
       "      <td>100</td>\n",
       "      <td>0</td>\n",
       "      <td>-0.934901</td>\n",
       "    </tr>\n",
       "    <tr>\n",
       "      <th>1</th>\n",
       "      <td>29.0</td>\n",
       "      <td>0</td>\n",
       "      <td>1</td>\n",
       "      <td>0</td>\n",
       "      <td>0</td>\n",
       "      <td>0</td>\n",
       "      <td>19.95</td>\n",
       "      <td>5.0</td>\n",
       "      <td>90</td>\n",
       "      <td>0</td>\n",
       "      <td>-1.180552</td>\n",
       "    </tr>\n",
       "    <tr>\n",
       "      <th>2</th>\n",
       "      <td>18.0</td>\n",
       "      <td>0</td>\n",
       "      <td>0</td>\n",
       "      <td>0</td>\n",
       "      <td>0</td>\n",
       "      <td>1</td>\n",
       "      <td>23.76</td>\n",
       "      <td>4.8</td>\n",
       "      <td>160</td>\n",
       "      <td>0</td>\n",
       "      <td>0.539006</td>\n",
       "    </tr>\n",
       "    <tr>\n",
       "      <th>3</th>\n",
       "      <td>41.0</td>\n",
       "      <td>0</td>\n",
       "      <td>0</td>\n",
       "      <td>1</td>\n",
       "      <td>0</td>\n",
       "      <td>0</td>\n",
       "      <td>27.32</td>\n",
       "      <td>4.0</td>\n",
       "      <td>159</td>\n",
       "      <td>0</td>\n",
       "      <td>0.514441</td>\n",
       "    </tr>\n",
       "    <tr>\n",
       "      <th>4</th>\n",
       "      <td>52.0</td>\n",
       "      <td>1</td>\n",
       "      <td>0</td>\n",
       "      <td>0</td>\n",
       "      <td>0</td>\n",
       "      <td>0</td>\n",
       "      <td>23.75</td>\n",
       "      <td>6.5</td>\n",
       "      <td>90</td>\n",
       "      <td>0</td>\n",
       "      <td>-1.180552</td>\n",
       "    </tr>\n",
       "  </tbody>\n",
       "</table>\n",
       "</div>"
      ],
      "text/plain": [
       "    age  race:AfricanAmerican  race:Asian  race:Caucasian  race:Hispanic  \\\n",
       "0  32.0                     0           0               0              0   \n",
       "1  29.0                     0           1               0              0   \n",
       "2  18.0                     0           0               0              0   \n",
       "3  41.0                     0           0               1              0   \n",
       "4  52.0                     1           0               0              0   \n",
       "\n",
       "   race:Other    bmi  hbA1c_level  blood_glucose_level  diabetes   z_score  \n",
       "0           1  27.32          5.0                  100         0 -0.934901  \n",
       "1           0  19.95          5.0                   90         0 -1.180552  \n",
       "2           1  23.76          4.8                  160         0  0.539006  \n",
       "3           0  27.32          4.0                  159         0  0.514441  \n",
       "4           0  23.75          6.5                   90         0 -1.180552  "
      ]
     },
     "execution_count": 118,
     "metadata": {},
     "output_type": "execute_result"
    }
   ],
   "source": [
    "df.head()"
   ]
  },
  {
   "cell_type": "code",
   "execution_count": 119,
   "metadata": {},
   "outputs": [],
   "source": [
    "# Split data into X and y\n",
    "X = df.drop(\"diabetes\", axis = 1) \n",
    "\n",
    "y = df[\"diabetes\"]"
   ]
  },
  {
   "cell_type": "code",
   "execution_count": 120,
   "metadata": {},
   "outputs": [
    {
     "data": {
      "text/plain": [
       "0        0\n",
       "1        0\n",
       "2        0\n",
       "3        0\n",
       "4        0\n",
       "        ..\n",
       "99995    0\n",
       "99996    0\n",
       "99997    0\n",
       "99998    0\n",
       "99999    0\n",
       "Name: diabetes, Length: 100000, dtype: int64"
      ]
     },
     "execution_count": 120,
     "metadata": {},
     "output_type": "execute_result"
    }
   ],
   "source": [
    "y"
   ]
  },
  {
   "cell_type": "code",
   "execution_count": 121,
   "metadata": {},
   "outputs": [],
   "source": [
    "# Splitting data into train and test sets\n",
    "np.random.seed(42)\n",
    "\n",
    "# Split into train & test set\n",
    "X_train, X_test, y_train, y_test = train_test_split(X,\n",
    "                                                   y,\n",
    "                                                   test_size = 0.2)"
   ]
  },
  {
   "cell_type": "code",
   "execution_count": 122,
   "metadata": {},
   "outputs": [
    {
     "data": {
      "text/html": [
       "<div>\n",
       "<style scoped>\n",
       "    .dataframe tbody tr th:only-of-type {\n",
       "        vertical-align: middle;\n",
       "    }\n",
       "\n",
       "    .dataframe tbody tr th {\n",
       "        vertical-align: top;\n",
       "    }\n",
       "\n",
       "    .dataframe thead th {\n",
       "        text-align: right;\n",
       "    }\n",
       "</style>\n",
       "<table border=\"1\" class=\"dataframe\">\n",
       "  <thead>\n",
       "    <tr style=\"text-align: right;\">\n",
       "      <th></th>\n",
       "      <th>age</th>\n",
       "      <th>race:AfricanAmerican</th>\n",
       "      <th>race:Asian</th>\n",
       "      <th>race:Caucasian</th>\n",
       "      <th>race:Hispanic</th>\n",
       "      <th>race:Other</th>\n",
       "      <th>bmi</th>\n",
       "      <th>hbA1c_level</th>\n",
       "      <th>blood_glucose_level</th>\n",
       "      <th>z_score</th>\n",
       "    </tr>\n",
       "  </thead>\n",
       "  <tbody>\n",
       "    <tr>\n",
       "      <th>75220</th>\n",
       "      <td>21.0</td>\n",
       "      <td>0</td>\n",
       "      <td>0</td>\n",
       "      <td>1</td>\n",
       "      <td>0</td>\n",
       "      <td>0</td>\n",
       "      <td>31.92</td>\n",
       "      <td>5.0</td>\n",
       "      <td>160</td>\n",
       "      <td>0.539006</td>\n",
       "    </tr>\n",
       "    <tr>\n",
       "      <th>48955</th>\n",
       "      <td>32.0</td>\n",
       "      <td>0</td>\n",
       "      <td>1</td>\n",
       "      <td>0</td>\n",
       "      <td>0</td>\n",
       "      <td>0</td>\n",
       "      <td>38.84</td>\n",
       "      <td>5.0</td>\n",
       "      <td>200</td>\n",
       "      <td>1.521611</td>\n",
       "    </tr>\n",
       "    <tr>\n",
       "      <th>44966</th>\n",
       "      <td>58.0</td>\n",
       "      <td>0</td>\n",
       "      <td>1</td>\n",
       "      <td>0</td>\n",
       "      <td>0</td>\n",
       "      <td>0</td>\n",
       "      <td>36.71</td>\n",
       "      <td>4.5</td>\n",
       "      <td>155</td>\n",
       "      <td>0.416181</td>\n",
       "    </tr>\n",
       "    <tr>\n",
       "      <th>13568</th>\n",
       "      <td>8.0</td>\n",
       "      <td>0</td>\n",
       "      <td>0</td>\n",
       "      <td>1</td>\n",
       "      <td>0</td>\n",
       "      <td>0</td>\n",
       "      <td>16.28</td>\n",
       "      <td>5.0</td>\n",
       "      <td>200</td>\n",
       "      <td>1.521611</td>\n",
       "    </tr>\n",
       "    <tr>\n",
       "      <th>92727</th>\n",
       "      <td>23.0</td>\n",
       "      <td>0</td>\n",
       "      <td>0</td>\n",
       "      <td>0</td>\n",
       "      <td>1</td>\n",
       "      <td>0</td>\n",
       "      <td>26.36</td>\n",
       "      <td>5.0</td>\n",
       "      <td>145</td>\n",
       "      <td>0.170530</td>\n",
       "    </tr>\n",
       "    <tr>\n",
       "      <th>...</th>\n",
       "      <td>...</td>\n",
       "      <td>...</td>\n",
       "      <td>...</td>\n",
       "      <td>...</td>\n",
       "      <td>...</td>\n",
       "      <td>...</td>\n",
       "      <td>...</td>\n",
       "      <td>...</td>\n",
       "      <td>...</td>\n",
       "      <td>...</td>\n",
       "    </tr>\n",
       "    <tr>\n",
       "      <th>6265</th>\n",
       "      <td>5.0</td>\n",
       "      <td>0</td>\n",
       "      <td>0</td>\n",
       "      <td>1</td>\n",
       "      <td>0</td>\n",
       "      <td>0</td>\n",
       "      <td>12.53</td>\n",
       "      <td>6.1</td>\n",
       "      <td>160</td>\n",
       "      <td>0.539006</td>\n",
       "    </tr>\n",
       "    <tr>\n",
       "      <th>54886</th>\n",
       "      <td>62.0</td>\n",
       "      <td>0</td>\n",
       "      <td>1</td>\n",
       "      <td>0</td>\n",
       "      <td>0</td>\n",
       "      <td>0</td>\n",
       "      <td>27.32</td>\n",
       "      <td>4.8</td>\n",
       "      <td>140</td>\n",
       "      <td>0.047704</td>\n",
       "    </tr>\n",
       "    <tr>\n",
       "      <th>76820</th>\n",
       "      <td>26.0</td>\n",
       "      <td>0</td>\n",
       "      <td>1</td>\n",
       "      <td>0</td>\n",
       "      <td>0</td>\n",
       "      <td>0</td>\n",
       "      <td>27.32</td>\n",
       "      <td>5.0</td>\n",
       "      <td>80</td>\n",
       "      <td>-1.426203</td>\n",
       "    </tr>\n",
       "    <tr>\n",
       "      <th>860</th>\n",
       "      <td>5.0</td>\n",
       "      <td>0</td>\n",
       "      <td>0</td>\n",
       "      <td>0</td>\n",
       "      <td>0</td>\n",
       "      <td>1</td>\n",
       "      <td>19.00</td>\n",
       "      <td>6.2</td>\n",
       "      <td>200</td>\n",
       "      <td>1.521611</td>\n",
       "    </tr>\n",
       "    <tr>\n",
       "      <th>15795</th>\n",
       "      <td>2.0</td>\n",
       "      <td>0</td>\n",
       "      <td>0</td>\n",
       "      <td>0</td>\n",
       "      <td>1</td>\n",
       "      <td>0</td>\n",
       "      <td>27.32</td>\n",
       "      <td>5.8</td>\n",
       "      <td>160</td>\n",
       "      <td>0.539006</td>\n",
       "    </tr>\n",
       "  </tbody>\n",
       "</table>\n",
       "<p>80000 rows × 10 columns</p>\n",
       "</div>"
      ],
      "text/plain": [
       "        age  race:AfricanAmerican  race:Asian  race:Caucasian  race:Hispanic  \\\n",
       "75220  21.0                     0           0               1              0   \n",
       "48955  32.0                     0           1               0              0   \n",
       "44966  58.0                     0           1               0              0   \n",
       "13568   8.0                     0           0               1              0   \n",
       "92727  23.0                     0           0               0              1   \n",
       "...     ...                   ...         ...             ...            ...   \n",
       "6265    5.0                     0           0               1              0   \n",
       "54886  62.0                     0           1               0              0   \n",
       "76820  26.0                     0           1               0              0   \n",
       "860     5.0                     0           0               0              0   \n",
       "15795   2.0                     0           0               0              1   \n",
       "\n",
       "       race:Other    bmi  hbA1c_level  blood_glucose_level   z_score  \n",
       "75220           0  31.92          5.0                  160  0.539006  \n",
       "48955           0  38.84          5.0                  200  1.521611  \n",
       "44966           0  36.71          4.5                  155  0.416181  \n",
       "13568           0  16.28          5.0                  200  1.521611  \n",
       "92727           0  26.36          5.0                  145  0.170530  \n",
       "...           ...    ...          ...                  ...       ...  \n",
       "6265            0  12.53          6.1                  160  0.539006  \n",
       "54886           0  27.32          4.8                  140  0.047704  \n",
       "76820           0  27.32          5.0                   80 -1.426203  \n",
       "860             1  19.00          6.2                  200  1.521611  \n",
       "15795           0  27.32          5.8                  160  0.539006  \n",
       "\n",
       "[80000 rows x 10 columns]"
      ]
     },
     "execution_count": 122,
     "metadata": {},
     "output_type": "execute_result"
    }
   ],
   "source": [
    "X_train"
   ]
  },
  {
   "cell_type": "code",
   "execution_count": 124,
   "metadata": {},
   "outputs": [
    {
     "data": {
      "text/plain": [
       "(75220    0\n",
       " 48955    0\n",
       " 44966    0\n",
       " 13568    0\n",
       " 92727    0\n",
       "         ..\n",
       " 6265     0\n",
       " 54886    0\n",
       " 76820    0\n",
       " 860      0\n",
       " 15795    0\n",
       " Name: diabetes, Length: 80000, dtype: int64,\n",
       " 80000)"
      ]
     },
     "execution_count": 124,
     "metadata": {},
     "output_type": "execute_result"
    }
   ],
   "source": [
    "y_train, len(y_train)"
   ]
  },
  {
   "cell_type": "markdown",
   "metadata": {},
   "source": [
    "Now we've got our data split into training and test sets. It's time to build our machine learning model.\n",
    "We'll train it (find the patterns) on the training set.\n",
    "And we'll test it (use the patterns) on the test set.\n",
    "\n",
    "We're going to try three models:\n",
    "1. Logistic regression\n",
    "2. K-Nearest Neighbours Classification\n",
    "3. Random Forest Classifier\n",
    "4. Decission Trees\n",
    "\n"
   ]
  },
  {
   "cell_type": "code",
   "execution_count": 125,
   "metadata": {},
   "outputs": [],
   "source": [
    "# Defining a dictionary to store the models\n",
    "models = {\n",
    "    \"Logistic Regression\": LogisticRegression(),\n",
    "    \"KNN\": KNeighborsClassifier(),\n",
    "    \"Random Forest\": RandomForestClassifier(),\n",
    "    \"Decision Tree\": DecisionTreeClassifier()  # Added Decision Tree Classifier\n",
    "}\n",
    "\n",
    "# Create a function to fit and score models\n",
    "def fit_and_score(models, X_train, X_test, y_train, y_test):\n",
    "    \"\"\"\n",
    "    Fits and evaluates given machine learning models.\n",
    "    models: a dict of different Scikit-Learn machine Learning models\n",
    "    X_train: training data (no labels)\n",
    "    X_test: test data (no labels)\n",
    "    y_train: training labels\n",
    "    y_test: test labels\n",
    "    \"\"\"\n",
    "    \n",
    "    # Set random seed\n",
    "    np.random.seed(42)\n",
    "    # Make a dictionary to keep model scores\n",
    "    model_scores = {}\n",
    "    \n",
    "    # Loop through models\n",
    "    for name, model in models.items():\n",
    "        # Fit the model to the data\n",
    "        model.fit(X_train, y_train)\n",
    "        # Evaluate the model and append its score to model_scores\n",
    "        model_scores[name] = model.score(X_test, y_test)\n",
    "    \n",
    "    return model_scores\n"
   ]
  },
  {
   "cell_type": "code",
   "execution_count": 126,
   "metadata": {},
   "outputs": [
    {
     "data": {
      "text/plain": [
       "{'Logistic Regression': 0.9594,\n",
       " 'KNN': 0.95515,\n",
       " 'Random Forest': 0.9684,\n",
       " 'Decision Tree': 0.9502}"
      ]
     },
     "execution_count": 126,
     "metadata": {},
     "output_type": "execute_result"
    }
   ],
   "source": [
    "model_scores = fit_and_score(models=models,\n",
    "                            X_train = X_train,\n",
    "                            X_test = X_test,\n",
    "                            y_train = y_train,\n",
    "                            y_test = y_test)\n",
    "model_scores"
   ]
  },
  {
   "cell_type": "markdown",
   "metadata": {},
   "source": [
    "As per this first running of the models, Random Forest seems to be the best models; the rest are pretty close to one another.\n"
   ]
  },
  {
   "cell_type": "markdown",
   "metadata": {},
   "source": [
    "### Model Comparison"
   ]
  },
  {
   "cell_type": "code",
   "execution_count": 47,
   "metadata": {},
   "outputs": [
    {
     "data": {
      "image/png": "[encoded data removed]",
      "text/plain": [
       "<Figure size 432x288 with 1 Axes>"
      ]
     },
     "metadata": {
      "needs_background": "light"
     },
     "output_type": "display_data"
    }
   ],
   "source": [
    "model_compare= pd.DataFrame(model_scores, index=[\"accuracy\"])\n",
    "model_compare.T.plot.bar(color='royalblue');"
   ]
  },
  {
   "cell_type": "markdown",
   "metadata": {},
   "source": [
    "Now Let's look at the following:\n",
    "\n",
    "* Hyperparameter tuning\n",
    "* Features importance\n",
    "* Confusion matrix\n",
    "* Cross-validation\n",
    "* Precision\n",
    "* Recall\n",
    "* F1 score\n",
    "* Classification repeort\n",
    "* ROC Curve\n",
    "* Area under the curve (AUC)"
   ]
  },
  {
   "cell_type": "code",
   "execution_count": 48,
   "metadata": {},
   "outputs": [],
   "source": [
    "#Tunning KNN\n",
    "train_scores = []\n",
    "test_scores=[]\n",
    "\n",
    "#Create a list of different values for n_neighbors\n",
    "neighbors = range(1,21)\n",
    "\n",
    "#Set up KNN instance\n",
    "knn = KNeighborsClassifier()\n",
    "\n",
    "#Loop through different n_neighbors\n",
    "for i in neighbors:\n",
    "    knn.set_params(n_neighbors=i)\n",
    "    \n",
    "    #Fit the algorithm\n",
    "    knn.fit(X_train, y_train)\n",
    "    \n",
    "    # Update the test scores list\n",
    "    train_scores.append(knn.score(X_train, y_train))\n",
    "    \n",
    "    #Update the test scores list\n",
    "    test_scores.append(knn.score(X_test, y_test))"
   ]
  },
  {
   "cell_type": "code",
   "execution_count": 49,
   "metadata": {},
   "outputs": [
    {
     "data": {
      "text/plain": [
       "[0.94265,\n",
       " 0.9543,\n",
       " 0.9527,\n",
       " 0.95525,\n",
       " 0.95515,\n",
       " 0.9549,\n",
       " 0.95585,\n",
       " 0.95455,\n",
       " 0.95495,\n",
       " 0.95385,\n",
       " 0.95435,\n",
       " 0.95295,\n",
       " 0.95345,\n",
       " 0.952,\n",
       " 0.9529,\n",
       " 0.9521,\n",
       " 0.9525,\n",
       " 0.95185,\n",
       " 0.9523,\n",
       " 0.9514]"
      ]
     },
     "execution_count": 49,
     "metadata": {},
     "output_type": "execute_result"
    }
   ],
   "source": [
    "test_scores"
   ]
  },
  {
   "cell_type": "code",
   "execution_count": 50,
   "metadata": {},
   "outputs": [
    {
     "name": "stdout",
     "output_type": "stream",
     "text": [
      "Maximum KNN score on the test data: 95.58%\n"
     ]
    },
    {
     "data": {
      "image/png": "[encoded data removed]",
      "text/plain": [
       "<Figure size 432x288 with 1 Axes>"
      ]
     },
     "metadata": {
      "needs_background": "light"
     },
     "output_type": "display_data"
    }
   ],
   "source": [
    "plt.plot(neighbors, train_scores, label=\"Train score\", color='chartreuse')\n",
    "plt.plot(neighbors, test_scores, label=\"Test score\", color='deepskyblue')\n",
    "plt.xticks(np.arange(1,21,1))\n",
    "plt.xlabel(\"Number of neighbors\")\n",
    "plt.ylabel(\"Model Score\")\n",
    "plt.legend()\n",
    "\n",
    "print(f\"Maximum KNN score on the test data: {max(test_scores)*100:.2f}%\")"
   ]
  },
  {
   "cell_type": "markdown",
   "metadata": {},
   "source": [
    "## Hyperparameter tuning with Randomized CV\n",
    "\n",
    "Tunning:\n",
    "* Logistic Regression()\n",
    "* RandomForestClassifier()\n",
    "* Decision Trees"
   ]
  },
  {
   "cell_type": "code",
   "execution_count": 51,
   "metadata": {},
   "outputs": [],
   "source": [
    "# Create a hyperparameter grid for LogisticRegression\n",
    "log_reg_grid =  {\"C\": np.logspace(-4, 4, 20),\n",
    "                \"solver\": [\"liblinear\"]}\n",
    "\n",
    "# Create a hyperparameter fro RandomForestClassifier\n",
    "rf_grid = {\"n_estimators\": np.arange(10, 1000, 50),\n",
    "          \"max_depth\": [None, 3, 5, 10],\n",
    "          \"min_samples_split\": np.arange(2,20,2),\n",
    "          \"min_samples_leaf\": np.arange(1,20,2)}\n",
    "# Create a hyperparameter grid for DecisionTreeClassifier\n",
    "dt_grid = {\n",
    "    \"max_depth\": [None, 3, 5, 10],\n",
    "    \"min_samples_split\": np.arange(2, 20, 2),\n",
    "    \"min_samples_leaf\": np.arange(1, 20, 2),\n",
    "    \"criterion\": [\"gini\", \"entropy\"]  # Adding criterion as an additional parameter\n",
    "}\n"
   ]
  },
  {
   "cell_type": "code",
   "execution_count": 52,
   "metadata": {},
   "outputs": [
    {
     "name": "stdout",
     "output_type": "stream",
     "text": [
      "Fitting 5 folds for each of 20 candidates, totalling 100 fits\n"
     ]
    },
    {
     "name": "stderr",
     "output_type": "stream",
     "text": [
      "[Parallel(n_jobs=1)]: Using backend SequentialBackend with 1 concurrent workers.\n"
     ]
    },
    {
     "ename": "KeyboardInterrupt",
     "evalue": "",
     "output_type": "error",
     "traceback": [
      "\u001b[1;31m---------------------------------------------------------------------------\u001b[0m",
      "\u001b[1;31mKeyboardInterrupt\u001b[0m                         Traceback (most recent call last)",
      "\u001b[1;32m<ipython-input-52-c5031c9416ba>\u001b[0m in \u001b[0;36m<module>\u001b[1;34m\u001b[0m\n\u001b[0;32m     10\u001b[0m \u001b[1;33m\u001b[0m\u001b[0m\n\u001b[0;32m     11\u001b[0m \u001b[1;31m# Fit random hyperparameter search model for LogisticRegression\u001b[0m\u001b[1;33m\u001b[0m\u001b[1;33m\u001b[0m\u001b[1;33m\u001b[0m\u001b[0m\n\u001b[1;32m---> 12\u001b[1;33m \u001b[0mrs_log_reg\u001b[0m\u001b[1;33m.\u001b[0m\u001b[0mfit\u001b[0m\u001b[1;33m(\u001b[0m\u001b[0mX_train\u001b[0m\u001b[1;33m,\u001b[0m \u001b[0my_train\u001b[0m\u001b[1;33m)\u001b[0m\u001b[1;33m\u001b[0m\u001b[1;33m\u001b[0m\u001b[0m\n\u001b[0m",
      "\u001b[1;32mc:\\Users\\Dell\\Anaconda3\\lib\\site-packages\\sklearn\\utils\\validation.py\u001b[0m in \u001b[0;36minner_f\u001b[1;34m(*args, **kwargs)\u001b[0m\n\u001b[0;32m     70\u001b[0m                           FutureWarning)\n\u001b[0;32m     71\u001b[0m         \u001b[0mkwargs\u001b[0m\u001b[1;33m.\u001b[0m\u001b[0mupdate\u001b[0m\u001b[1;33m(\u001b[0m\u001b[1;33m{\u001b[0m\u001b[0mk\u001b[0m\u001b[1;33m:\u001b[0m \u001b[0marg\u001b[0m \u001b[1;32mfor\u001b[0m \u001b[0mk\u001b[0m\u001b[1;33m,\u001b[0m \u001b[0marg\u001b[0m \u001b[1;32min\u001b[0m \u001b[0mzip\u001b[0m\u001b[1;33m(\u001b[0m\u001b[0msig\u001b[0m\u001b[1;33m.\u001b[0m\u001b[0mparameters\u001b[0m\u001b[1;33m,\u001b[0m \u001b[0margs\u001b[0m\u001b[1;33m)\u001b[0m\u001b[1;33m}\u001b[0m\u001b[1;33m)\u001b[0m\u001b[1;33m\u001b[0m\u001b[1;33m\u001b[0m\u001b[0m\n\u001b[1;32m---> 72\u001b[1;33m         \u001b[1;32mreturn\u001b[0m \u001b[0mf\u001b[0m\u001b[1;33m(\u001b[0m\u001b[1;33m**\u001b[0m\u001b[0mkwargs\u001b[0m\u001b[1;33m)\u001b[0m\u001b[1;33m\u001b[0m\u001b[1;33m\u001b[0m\u001b[0m\n\u001b[0m\u001b[0;32m     73\u001b[0m     \u001b[1;32mreturn\u001b[0m \u001b[0minner_f\u001b[0m\u001b[1;33m\u001b[0m\u001b[1;33m\u001b[0m\u001b[0m\n\u001b[0;32m     74\u001b[0m \u001b[1;33m\u001b[0m\u001b[0m\n",
      "\u001b[1;32mc:\\Users\\Dell\\Anaconda3\\lib\\site-packages\\sklearn\\model_selection\\_search.py\u001b[0m in \u001b[0;36mfit\u001b[1;34m(self, X, y, groups, **fit_params)\u001b[0m\n\u001b[0;32m    734\u001b[0m                 \u001b[1;32mreturn\u001b[0m \u001b[0mresults\u001b[0m\u001b[1;33m\u001b[0m\u001b[1;33m\u001b[0m\u001b[0m\n\u001b[0;32m    735\u001b[0m \u001b[1;33m\u001b[0m\u001b[0m\n\u001b[1;32m--> 736\u001b[1;33m             \u001b[0mself\u001b[0m\u001b[1;33m.\u001b[0m\u001b[0m_run_search\u001b[0m\u001b[1;33m(\u001b[0m\u001b[0mevaluate_candidates\u001b[0m\u001b[1;33m)\u001b[0m\u001b[1;33m\u001b[0m\u001b[1;33m\u001b[0m\u001b[0m\n\u001b[0m\u001b[0;32m    737\u001b[0m \u001b[1;33m\u001b[0m\u001b[0m\n\u001b[0;32m    738\u001b[0m         \u001b[1;31m# For multi-metric evaluation, store the best_index_, best_params_ and\u001b[0m\u001b[1;33m\u001b[0m\u001b[1;33m\u001b[0m\u001b[1;33m\u001b[0m\u001b[0m\n",
      "\u001b[1;32mc:\\Users\\Dell\\Anaconda3\\lib\\site-packages\\sklearn\\model_selection\\_search.py\u001b[0m in \u001b[0;36m_run_search\u001b[1;34m(self, evaluate_candidates)\u001b[0m\n\u001b[0;32m   1529\u001b[0m         evaluate_candidates(ParameterSampler(\n\u001b[0;32m   1530\u001b[0m             \u001b[0mself\u001b[0m\u001b[1;33m.\u001b[0m\u001b[0mparam_distributions\u001b[0m\u001b[1;33m,\u001b[0m \u001b[0mself\u001b[0m\u001b[1;33m.\u001b[0m\u001b[0mn_iter\u001b[0m\u001b[1;33m,\u001b[0m\u001b[1;33m\u001b[0m\u001b[1;33m\u001b[0m\u001b[0m\n\u001b[1;32m-> 1531\u001b[1;33m             random_state=self.random_state))\n\u001b[0m",
      "\u001b[1;32mc:\\Users\\Dell\\Anaconda3\\lib\\site-packages\\sklearn\\model_selection\\_search.py\u001b[0m in \u001b[0;36mevaluate_candidates\u001b[1;34m(candidate_params)\u001b[0m\n\u001b[0;32m    713\u001b[0m                                \u001b[1;32mfor\u001b[0m \u001b[0mparameters\u001b[0m\u001b[1;33m,\u001b[0m \u001b[1;33m(\u001b[0m\u001b[0mtrain\u001b[0m\u001b[1;33m,\u001b[0m \u001b[0mtest\u001b[0m\u001b[1;33m)\u001b[0m\u001b[1;33m\u001b[0m\u001b[1;33m\u001b[0m\u001b[0m\n\u001b[0;32m    714\u001b[0m                                in product(candidate_params,\n\u001b[1;32m--> 715\u001b[1;33m                                           cv.split(X, y, groups)))\n\u001b[0m\u001b[0;32m    716\u001b[0m \u001b[1;33m\u001b[0m\u001b[0m\n\u001b[0;32m    717\u001b[0m                 \u001b[1;32mif\u001b[0m \u001b[0mlen\u001b[0m\u001b[1;33m(\u001b[0m\u001b[0mout\u001b[0m\u001b[1;33m)\u001b[0m \u001b[1;33m<\u001b[0m \u001b[1;36m1\u001b[0m\u001b[1;33m:\u001b[0m\u001b[1;33m\u001b[0m\u001b[1;33m\u001b[0m\u001b[0m\n",
      "\u001b[1;32mc:\\Users\\Dell\\Anaconda3\\lib\\site-packages\\joblib\\parallel.py\u001b[0m in \u001b[0;36m__call__\u001b[1;34m(self, iterable)\u001b[0m\n\u001b[0;32m   1042\u001b[0m                 \u001b[0mself\u001b[0m\u001b[1;33m.\u001b[0m\u001b[0m_iterating\u001b[0m \u001b[1;33m=\u001b[0m \u001b[0mself\u001b[0m\u001b[1;33m.\u001b[0m\u001b[0m_original_iterator\u001b[0m \u001b[1;32mis\u001b[0m \u001b[1;32mnot\u001b[0m \u001b[1;32mNone\u001b[0m\u001b[1;33m\u001b[0m\u001b[1;33m\u001b[0m\u001b[0m\n\u001b[0;32m   1043\u001b[0m \u001b[1;33m\u001b[0m\u001b[0m\n\u001b[1;32m-> 1044\u001b[1;33m             \u001b[1;32mwhile\u001b[0m \u001b[0mself\u001b[0m\u001b[1;33m.\u001b[0m\u001b[0mdispatch_one_batch\u001b[0m\u001b[1;33m(\u001b[0m\u001b[0miterator\u001b[0m\u001b[1;33m)\u001b[0m\u001b[1;33m:\u001b[0m\u001b[1;33m\u001b[0m\u001b[1;33m\u001b[0m\u001b[0m\n\u001b[0m\u001b[0;32m   1045\u001b[0m                 \u001b[1;32mpass\u001b[0m\u001b[1;33m\u001b[0m\u001b[1;33m\u001b[0m\u001b[0m\n\u001b[0;32m   1046\u001b[0m \u001b[1;33m\u001b[0m\u001b[0m\n",
      "\u001b[1;32mc:\\Users\\Dell\\Anaconda3\\lib\\site-packages\\joblib\\parallel.py\u001b[0m in \u001b[0;36mdispatch_one_batch\u001b[1;34m(self, iterator)\u001b[0m\n\u001b[0;32m    857\u001b[0m                 \u001b[1;32mreturn\u001b[0m \u001b[1;32mFalse\u001b[0m\u001b[1;33m\u001b[0m\u001b[1;33m\u001b[0m\u001b[0m\n\u001b[0;32m    858\u001b[0m             \u001b[1;32melse\u001b[0m\u001b[1;33m:\u001b[0m\u001b[1;33m\u001b[0m\u001b[1;33m\u001b[0m\u001b[0m\n\u001b[1;32m--> 859\u001b[1;33m                 \u001b[0mself\u001b[0m\u001b[1;33m.\u001b[0m\u001b[0m_dispatch\u001b[0m\u001b[1;33m(\u001b[0m\u001b[0mtasks\u001b[0m\u001b[1;33m)\u001b[0m\u001b[1;33m\u001b[0m\u001b[1;33m\u001b[0m\u001b[0m\n\u001b[0m\u001b[0;32m    860\u001b[0m                 \u001b[1;32mreturn\u001b[0m \u001b[1;32mTrue\u001b[0m\u001b[1;33m\u001b[0m\u001b[1;33m\u001b[0m\u001b[0m\n\u001b[0;32m    861\u001b[0m \u001b[1;33m\u001b[0m\u001b[0m\n",
      "\u001b[1;32mc:\\Users\\Dell\\Anaconda3\\lib\\site-packages\\joblib\\parallel.py\u001b[0m in \u001b[0;36m_dispatch\u001b[1;34m(self, batch)\u001b[0m\n\u001b[0;32m    775\u001b[0m         \u001b[1;32mwith\u001b[0m \u001b[0mself\u001b[0m\u001b[1;33m.\u001b[0m\u001b[0m_lock\u001b[0m\u001b[1;33m:\u001b[0m\u001b[1;33m\u001b[0m\u001b[1;33m\u001b[0m\u001b[0m\n\u001b[0;32m    776\u001b[0m             \u001b[0mjob_idx\u001b[0m \u001b[1;33m=\u001b[0m \u001b[0mlen\u001b[0m\u001b[1;33m(\u001b[0m\u001b[0mself\u001b[0m\u001b[1;33m.\u001b[0m\u001b[0m_jobs\u001b[0m\u001b[1;33m)\u001b[0m\u001b[1;33m\u001b[0m\u001b[1;33m\u001b[0m\u001b[0m\n\u001b[1;32m--> 777\u001b[1;33m             \u001b[0mjob\u001b[0m \u001b[1;33m=\u001b[0m \u001b[0mself\u001b[0m\u001b[1;33m.\u001b[0m\u001b[0m_backend\u001b[0m\u001b[1;33m.\u001b[0m\u001b[0mapply_async\u001b[0m\u001b[1;33m(\u001b[0m\u001b[0mbatch\u001b[0m\u001b[1;33m,\u001b[0m \u001b[0mcallback\u001b[0m\u001b[1;33m=\u001b[0m\u001b[0mcb\u001b[0m\u001b[1;33m)\u001b[0m\u001b[1;33m\u001b[0m\u001b[1;33m\u001b[0m\u001b[0m\n\u001b[0m\u001b[0;32m    778\u001b[0m             \u001b[1;31m# A job can complete so quickly than its callback is\u001b[0m\u001b[1;33m\u001b[0m\u001b[1;33m\u001b[0m\u001b[1;33m\u001b[0m\u001b[0m\n\u001b[0;32m    779\u001b[0m             \u001b[1;31m# called before we get here, causing self._jobs to\u001b[0m\u001b[1;33m\u001b[0m\u001b[1;33m\u001b[0m\u001b[1;33m\u001b[0m\u001b[0m\n",
      "\u001b[1;32mc:\\Users\\Dell\\Anaconda3\\lib\\site-packages\\joblib\\_parallel_backends.py\u001b[0m in \u001b[0;36mapply_async\u001b[1;34m(self, func, callback)\u001b[0m\n\u001b[0;32m    206\u001b[0m     \u001b[1;32mdef\u001b[0m \u001b[0mapply_async\u001b[0m\u001b[1;33m(\u001b[0m\u001b[0mself\u001b[0m\u001b[1;33m,\u001b[0m \u001b[0mfunc\u001b[0m\u001b[1;33m,\u001b[0m \u001b[0mcallback\u001b[0m\u001b[1;33m=\u001b[0m\u001b[1;32mNone\u001b[0m\u001b[1;33m)\u001b[0m\u001b[1;33m:\u001b[0m\u001b[1;33m\u001b[0m\u001b[1;33m\u001b[0m\u001b[0m\n\u001b[0;32m    207\u001b[0m         \u001b[1;34m\"\"\"Schedule a func to be run\"\"\"\u001b[0m\u001b[1;33m\u001b[0m\u001b[1;33m\u001b[0m\u001b[0m\n\u001b[1;32m--> 208\u001b[1;33m         \u001b[0mresult\u001b[0m \u001b[1;33m=\u001b[0m \u001b[0mImmediateResult\u001b[0m\u001b[1;33m(\u001b[0m\u001b[0mfunc\u001b[0m\u001b[1;33m)\u001b[0m\u001b[1;33m\u001b[0m\u001b[1;33m\u001b[0m\u001b[0m\n\u001b[0m\u001b[0;32m    209\u001b[0m         \u001b[1;32mif\u001b[0m \u001b[0mcallback\u001b[0m\u001b[1;33m:\u001b[0m\u001b[1;33m\u001b[0m\u001b[1;33m\u001b[0m\u001b[0m\n\u001b[0;32m    210\u001b[0m             \u001b[0mcallback\u001b[0m\u001b[1;33m(\u001b[0m\u001b[0mresult\u001b[0m\u001b[1;33m)\u001b[0m\u001b[1;33m\u001b[0m\u001b[1;33m\u001b[0m\u001b[0m\n",
      "\u001b[1;32mc:\\Users\\Dell\\Anaconda3\\lib\\site-packages\\joblib\\_parallel_backends.py\u001b[0m in \u001b[0;36m__init__\u001b[1;34m(self, batch)\u001b[0m\n\u001b[0;32m    570\u001b[0m         \u001b[1;31m# Don't delay the application, to avoid keeping the input\u001b[0m\u001b[1;33m\u001b[0m\u001b[1;33m\u001b[0m\u001b[1;33m\u001b[0m\u001b[0m\n\u001b[0;32m    571\u001b[0m         \u001b[1;31m# arguments in memory\u001b[0m\u001b[1;33m\u001b[0m\u001b[1;33m\u001b[0m\u001b[1;33m\u001b[0m\u001b[0m\n\u001b[1;32m--> 572\u001b[1;33m         \u001b[0mself\u001b[0m\u001b[1;33m.\u001b[0m\u001b[0mresults\u001b[0m \u001b[1;33m=\u001b[0m \u001b[0mbatch\u001b[0m\u001b[1;33m(\u001b[0m\u001b[1;33m)\u001b[0m\u001b[1;33m\u001b[0m\u001b[1;33m\u001b[0m\u001b[0m\n\u001b[0m\u001b[0;32m    573\u001b[0m \u001b[1;33m\u001b[0m\u001b[0m\n\u001b[0;32m    574\u001b[0m     \u001b[1;32mdef\u001b[0m \u001b[0mget\u001b[0m\u001b[1;33m(\u001b[0m\u001b[0mself\u001b[0m\u001b[1;33m)\u001b[0m\u001b[1;33m:\u001b[0m\u001b[1;33m\u001b[0m\u001b[1;33m\u001b[0m\u001b[0m\n",
      "\u001b[1;32mc:\\Users\\Dell\\Anaconda3\\lib\\site-packages\\joblib\\parallel.py\u001b[0m in \u001b[0;36m__call__\u001b[1;34m(self)\u001b[0m\n\u001b[0;32m    261\u001b[0m         \u001b[1;32mwith\u001b[0m \u001b[0mparallel_backend\u001b[0m\u001b[1;33m(\u001b[0m\u001b[0mself\u001b[0m\u001b[1;33m.\u001b[0m\u001b[0m_backend\u001b[0m\u001b[1;33m,\u001b[0m \u001b[0mn_jobs\u001b[0m\u001b[1;33m=\u001b[0m\u001b[0mself\u001b[0m\u001b[1;33m.\u001b[0m\u001b[0m_n_jobs\u001b[0m\u001b[1;33m)\u001b[0m\u001b[1;33m:\u001b[0m\u001b[1;33m\u001b[0m\u001b[1;33m\u001b[0m\u001b[0m\n\u001b[0;32m    262\u001b[0m             return [func(*args, **kwargs)\n\u001b[1;32m--> 263\u001b[1;33m                     for func, args, kwargs in self.items]\n\u001b[0m\u001b[0;32m    264\u001b[0m \u001b[1;33m\u001b[0m\u001b[0m\n\u001b[0;32m    265\u001b[0m     \u001b[1;32mdef\u001b[0m \u001b[0m__reduce__\u001b[0m\u001b[1;33m(\u001b[0m\u001b[0mself\u001b[0m\u001b[1;33m)\u001b[0m\u001b[1;33m:\u001b[0m\u001b[1;33m\u001b[0m\u001b[1;33m\u001b[0m\u001b[0m\n",
      "\u001b[1;32mc:\\Users\\Dell\\Anaconda3\\lib\\site-packages\\joblib\\parallel.py\u001b[0m in \u001b[0;36m<listcomp>\u001b[1;34m(.0)\u001b[0m\n\u001b[0;32m    261\u001b[0m         \u001b[1;32mwith\u001b[0m \u001b[0mparallel_backend\u001b[0m\u001b[1;33m(\u001b[0m\u001b[0mself\u001b[0m\u001b[1;33m.\u001b[0m\u001b[0m_backend\u001b[0m\u001b[1;33m,\u001b[0m \u001b[0mn_jobs\u001b[0m\u001b[1;33m=\u001b[0m\u001b[0mself\u001b[0m\u001b[1;33m.\u001b[0m\u001b[0m_n_jobs\u001b[0m\u001b[1;33m)\u001b[0m\u001b[1;33m:\u001b[0m\u001b[1;33m\u001b[0m\u001b[1;33m\u001b[0m\u001b[0m\n\u001b[0;32m    262\u001b[0m             return [func(*args, **kwargs)\n\u001b[1;32m--> 263\u001b[1;33m                     for func, args, kwargs in self.items]\n\u001b[0m\u001b[0;32m    264\u001b[0m \u001b[1;33m\u001b[0m\u001b[0m\n\u001b[0;32m    265\u001b[0m     \u001b[1;32mdef\u001b[0m \u001b[0m__reduce__\u001b[0m\u001b[1;33m(\u001b[0m\u001b[0mself\u001b[0m\u001b[1;33m)\u001b[0m\u001b[1;33m:\u001b[0m\u001b[1;33m\u001b[0m\u001b[1;33m\u001b[0m\u001b[0m\n",
      "\u001b[1;32mc:\\Users\\Dell\\Anaconda3\\lib\\site-packages\\sklearn\\model_selection\\_validation.py\u001b[0m in \u001b[0;36m_fit_and_score\u001b[1;34m(estimator, X, y, scorer, train, test, verbose, parameters, fit_params, return_train_score, return_parameters, return_n_test_samples, return_times, return_estimator, error_score)\u001b[0m\n\u001b[0;32m    529\u001b[0m             \u001b[0mestimator\u001b[0m\u001b[1;33m.\u001b[0m\u001b[0mfit\u001b[0m\u001b[1;33m(\u001b[0m\u001b[0mX_train\u001b[0m\u001b[1;33m,\u001b[0m \u001b[1;33m**\u001b[0m\u001b[0mfit_params\u001b[0m\u001b[1;33m)\u001b[0m\u001b[1;33m\u001b[0m\u001b[1;33m\u001b[0m\u001b[0m\n\u001b[0;32m    530\u001b[0m         \u001b[1;32melse\u001b[0m\u001b[1;33m:\u001b[0m\u001b[1;33m\u001b[0m\u001b[1;33m\u001b[0m\u001b[0m\n\u001b[1;32m--> 531\u001b[1;33m             \u001b[0mestimator\u001b[0m\u001b[1;33m.\u001b[0m\u001b[0mfit\u001b[0m\u001b[1;33m(\u001b[0m\u001b[0mX_train\u001b[0m\u001b[1;33m,\u001b[0m \u001b[0my_train\u001b[0m\u001b[1;33m,\u001b[0m \u001b[1;33m**\u001b[0m\u001b[0mfit_params\u001b[0m\u001b[1;33m)\u001b[0m\u001b[1;33m\u001b[0m\u001b[1;33m\u001b[0m\u001b[0m\n\u001b[0m\u001b[0;32m    532\u001b[0m \u001b[1;33m\u001b[0m\u001b[0m\n\u001b[0;32m    533\u001b[0m     \u001b[1;32mexcept\u001b[0m \u001b[0mException\u001b[0m \u001b[1;32mas\u001b[0m \u001b[0me\u001b[0m\u001b[1;33m:\u001b[0m\u001b[1;33m\u001b[0m\u001b[1;33m\u001b[0m\u001b[0m\n",
      "\u001b[1;32mc:\\Users\\Dell\\Anaconda3\\lib\\site-packages\\sklearn\\linear_model\\_logistic.py\u001b[0m in \u001b[0;36mfit\u001b[1;34m(self, X, y, sample_weight)\u001b[0m\n\u001b[0;32m   1358\u001b[0m                 \u001b[0mself\u001b[0m\u001b[1;33m.\u001b[0m\u001b[0mclass_weight\u001b[0m\u001b[1;33m,\u001b[0m \u001b[0mself\u001b[0m\u001b[1;33m.\u001b[0m\u001b[0mpenalty\u001b[0m\u001b[1;33m,\u001b[0m \u001b[0mself\u001b[0m\u001b[1;33m.\u001b[0m\u001b[0mdual\u001b[0m\u001b[1;33m,\u001b[0m \u001b[0mself\u001b[0m\u001b[1;33m.\u001b[0m\u001b[0mverbose\u001b[0m\u001b[1;33m,\u001b[0m\u001b[1;33m\u001b[0m\u001b[1;33m\u001b[0m\u001b[0m\n\u001b[0;32m   1359\u001b[0m                 \u001b[0mself\u001b[0m\u001b[1;33m.\u001b[0m\u001b[0mmax_iter\u001b[0m\u001b[1;33m,\u001b[0m \u001b[0mself\u001b[0m\u001b[1;33m.\u001b[0m\u001b[0mtol\u001b[0m\u001b[1;33m,\u001b[0m \u001b[0mself\u001b[0m\u001b[1;33m.\u001b[0m\u001b[0mrandom_state\u001b[0m\u001b[1;33m,\u001b[0m\u001b[1;33m\u001b[0m\u001b[1;33m\u001b[0m\u001b[0m\n\u001b[1;32m-> 1360\u001b[1;33m                 sample_weight=sample_weight)\n\u001b[0m\u001b[0;32m   1361\u001b[0m             \u001b[0mself\u001b[0m\u001b[1;33m.\u001b[0m\u001b[0mn_iter_\u001b[0m \u001b[1;33m=\u001b[0m \u001b[0mnp\u001b[0m\u001b[1;33m.\u001b[0m\u001b[0marray\u001b[0m\u001b[1;33m(\u001b[0m\u001b[1;33m[\u001b[0m\u001b[0mn_iter_\u001b[0m\u001b[1;33m]\u001b[0m\u001b[1;33m)\u001b[0m\u001b[1;33m\u001b[0m\u001b[1;33m\u001b[0m\u001b[0m\n\u001b[0;32m   1362\u001b[0m             \u001b[1;32mreturn\u001b[0m \u001b[0mself\u001b[0m\u001b[1;33m\u001b[0m\u001b[1;33m\u001b[0m\u001b[0m\n",
      "\u001b[1;32mc:\\Users\\Dell\\Anaconda3\\lib\\site-packages\\sklearn\\svm\\_base.py\u001b[0m in \u001b[0;36m_fit_liblinear\u001b[1;34m(X, y, C, fit_intercept, intercept_scaling, class_weight, penalty, dual, verbose, max_iter, tol, random_state, multi_class, loss, epsilon, sample_weight)\u001b[0m\n\u001b[0;32m    967\u001b[0m         \u001b[0mX\u001b[0m\u001b[1;33m,\u001b[0m \u001b[0my_ind\u001b[0m\u001b[1;33m,\u001b[0m \u001b[0msp\u001b[0m\u001b[1;33m.\u001b[0m\u001b[0misspmatrix\u001b[0m\u001b[1;33m(\u001b[0m\u001b[0mX\u001b[0m\u001b[1;33m)\u001b[0m\u001b[1;33m,\u001b[0m \u001b[0msolver_type\u001b[0m\u001b[1;33m,\u001b[0m \u001b[0mtol\u001b[0m\u001b[1;33m,\u001b[0m \u001b[0mbias\u001b[0m\u001b[1;33m,\u001b[0m \u001b[0mC\u001b[0m\u001b[1;33m,\u001b[0m\u001b[1;33m\u001b[0m\u001b[1;33m\u001b[0m\u001b[0m\n\u001b[0;32m    968\u001b[0m         \u001b[0mclass_weight_\u001b[0m\u001b[1;33m,\u001b[0m \u001b[0mmax_iter\u001b[0m\u001b[1;33m,\u001b[0m \u001b[0mrnd\u001b[0m\u001b[1;33m.\u001b[0m\u001b[0mrandint\u001b[0m\u001b[1;33m(\u001b[0m\u001b[0mnp\u001b[0m\u001b[1;33m.\u001b[0m\u001b[0miinfo\u001b[0m\u001b[1;33m(\u001b[0m\u001b[1;34m'i'\u001b[0m\u001b[1;33m)\u001b[0m\u001b[1;33m.\u001b[0m\u001b[0mmax\u001b[0m\u001b[1;33m)\u001b[0m\u001b[1;33m,\u001b[0m\u001b[1;33m\u001b[0m\u001b[1;33m\u001b[0m\u001b[0m\n\u001b[1;32m--> 969\u001b[1;33m         epsilon, sample_weight)\n\u001b[0m\u001b[0;32m    970\u001b[0m     \u001b[1;31m# Regarding rnd.randint(..) in the above signature:\u001b[0m\u001b[1;33m\u001b[0m\u001b[1;33m\u001b[0m\u001b[1;33m\u001b[0m\u001b[0m\n\u001b[0;32m    971\u001b[0m     \u001b[1;31m# seed for srand in range [0..INT_MAX); due to limitations in Numpy\u001b[0m\u001b[1;33m\u001b[0m\u001b[1;33m\u001b[0m\u001b[1;33m\u001b[0m\u001b[0m\n",
      "\u001b[1;31mKeyboardInterrupt\u001b[0m: "
     ]
    }
   ],
   "source": [
    "# Tune LogisticRegression\n",
    "np.random.seed(42)\n",
    "\n",
    "#Setup random hyperparameter search for LogisticRegression\n",
    "rs_log_reg = RandomizedSearchCV(LogisticRegression(),\n",
    "                               param_distributions = log_reg_grid,\n",
    "                               cv =5,\n",
    "                               n_iter=20,\n",
    "                               verbose=True)\n",
    "\n",
    "# Fit random hyperparameter search model for LogisticRegression\n",
    "rs_log_reg.fit(X_train, y_train)"
   ]
  },
  {
   "cell_type": "code",
   "execution_count": 52,
   "metadata": {},
   "outputs": [
    {
     "data": {
      "text/plain": [
       "{'solver': 'liblinear', 'C': 0.615848211066026}"
      ]
     },
     "execution_count": 52,
     "metadata": {},
     "output_type": "execute_result"
    }
   ],
   "source": [
    "rs_log_reg.best_params_"
   ]
  },
  {
   "cell_type": "code",
   "execution_count": 53,
   "metadata": {},
   "outputs": [
    {
     "data": {
      "text/plain": [
       "0.9594"
      ]
     },
     "execution_count": 53,
     "metadata": {},
     "output_type": "execute_result"
    }
   ],
   "source": [
    "rs_log_reg.score(X_test, y_test)"
   ]
  },
  {
   "cell_type": "markdown",
   "metadata": {},
   "source": [
    "The tunning of LogisticRegression() has been made, now going forward with tunning of RandomClassifier()"
   ]
  },
  {
   "cell_type": "code",
   "execution_count": 54,
   "metadata": {},
   "outputs": [
    {
     "name": "stdout",
     "output_type": "stream",
     "text": [
      "Fitting 5 folds for each of 20 candidates, totalling 100 fits\n"
     ]
    },
    {
     "name": "stderr",
     "output_type": "stream",
     "text": [
      "[Parallel(n_jobs=1)]: Using backend SequentialBackend with 1 concurrent workers.\n",
      "[Parallel(n_jobs=1)]: Done 100 out of 100 | elapsed: 21.1min finished\n"
     ]
    },
    {
     "data": {
      "text/plain": [
       "RandomizedSearchCV(cv=5, estimator=RandomForestClassifier(), n_iter=20,\n",
       "                   param_distributions={'max_depth': [None, 3, 5, 10],\n",
       "                                        'min_samples_leaf': array([ 1,  3,  5,  7,  9, 11, 13, 15, 17, 19]),\n",
       "                                        'min_samples_split': array([ 2,  4,  6,  8, 10, 12, 14, 16, 18]),\n",
       "                                        'n_estimators': array([ 10,  60, 110, 160, 210, 260, 310, 360, 410, 460, 510, 560, 610,\n",
       "       660, 710, 760, 810, 860, 910, 960])},\n",
       "                   verbose=True)"
      ]
     },
     "execution_count": 54,
     "metadata": {},
     "output_type": "execute_result"
    }
   ],
   "source": [
    "# Setup random seed\n",
    "np.random.seed(42)\n",
    "\n",
    "#Setup random hyperparameter search for RandomForestClassifier\n",
    "rs_rf = RandomizedSearchCV(RandomForestClassifier(),\n",
    "                          param_distributions=rf_grid,\n",
    "                          cv=5,\n",
    "                          n_iter=20,\n",
    "                           verbose=True)\n",
    "\n",
    "#Fit random hyperparameter search model for RandomForestClassifier()\n",
    "rs_rf.fit(X_train, y_train)"
   ]
  },
  {
   "cell_type": "code",
   "execution_count": 55,
   "metadata": {},
   "outputs": [
    {
     "data": {
      "text/plain": [
       "0.9717"
      ]
     },
     "execution_count": 55,
     "metadata": {},
     "output_type": "execute_result"
    }
   ],
   "source": [
    "# Evaluate the randomized search RandomClassifier model\n",
    "rs_rf.score(X_test, y_test)\n"
   ]
  },
  {
   "cell_type": "markdown",
   "metadata": {},
   "source": [
    "Moving forward with Decision Tree Classifier"
   ]
  },
  {
   "cell_type": "code",
   "execution_count": 65,
   "metadata": {},
   "outputs": [
    {
     "name": "stdout",
     "output_type": "stream",
     "text": [
      "Fitting 5 folds for each of 20 candidates, totalling 100 fits\n"
     ]
    },
    {
     "name": "stderr",
     "output_type": "stream",
     "text": [
      "[Parallel(n_jobs=1)]: Using backend SequentialBackend with 1 concurrent workers.\n",
      "[Parallel(n_jobs=1)]: Done 100 out of 100 | elapsed:   13.3s finished\n"
     ]
    },
    {
     "data": {
      "text/plain": [
       "RandomizedSearchCV(cv=5, estimator=DecisionTreeClassifier(), n_iter=20,\n",
       "                   param_distributions={'criterion': ['gini', 'entropy'],\n",
       "                                        'max_depth': [None, 3, 5, 10],\n",
       "                                        'min_samples_leaf': array([ 1,  3,  5,  7,  9, 11, 13, 15, 17, 19]),\n",
       "                                        'min_samples_split': array([ 2,  4,  6,  8, 10, 12, 14, 16, 18])},\n",
       "                   verbose=True)"
      ]
     },
     "execution_count": 65,
     "metadata": {},
     "output_type": "execute_result"
    }
   ],
   "source": [
    "# Set random seed for reproducibility\n",
    "np.random.seed(42)\n",
    "\n",
    "# Setup random hyperparameter search for DecisionTreeClassifier\n",
    "rs_decision_tree = RandomizedSearchCV(\n",
    "    DecisionTreeClassifier(),\n",
    "    param_distributions=dt_grid,  # Use the dt_grid defined earlier\n",
    "    cv=5,\n",
    "    n_iter=20,\n",
    "    verbose=True\n",
    ")\n",
    "\n",
    "# Fit random hyperparameter search model for DecisionTreeClassifier\n",
    "rs_decision_tree.fit(X_train, y_train)"
   ]
  },
  {
   "cell_type": "code",
   "execution_count": 67,
   "metadata": {},
   "outputs": [
    {
     "data": {
      "text/plain": [
       "0.9717"
      ]
     },
     "execution_count": 67,
     "metadata": {},
     "output_type": "execute_result"
    }
   ],
   "source": [
    "# Evaluate the randomized search RandomClassifier model\n",
    "rs_decision_tree.score(X_test, y_test)\n"
   ]
  },
  {
   "cell_type": "code",
   "execution_count": 66,
   "metadata": {},
   "outputs": [
    {
     "data": {
      "text/plain": [
       "{'Logistic Regression': 0.9594,\n",
       " 'KNN': 0.95515,\n",
       " 'Random Forest': 0.9684,\n",
       " 'Decision Tree': 0.9502}"
      ]
     },
     "execution_count": 66,
     "metadata": {},
     "output_type": "execute_result"
    }
   ],
   "source": [
    "model_scores"
   ]
  },
  {
   "cell_type": "markdown",
   "metadata": {},
   "source": [
    "Random Forest Classifier and Decision Trees scored 0.97, makinng them the best parameters to be tuned. Next, tuning Logistic Regression and KNN with GridSeacrhCV to see if they improve."
   ]
  },
  {
   "cell_type": "markdown",
   "metadata": {},
   "source": [
    "### Hyperparameter tuning with GridSearchCV"
   ]
  },
  {
   "cell_type": "code",
   "execution_count": 68,
   "metadata": {},
   "outputs": [
    {
     "name": "stdout",
     "output_type": "stream",
     "text": [
      "Fitting 5 folds for each of 30 candidates, totalling 150 fits\n"
     ]
    },
    {
     "name": "stderr",
     "output_type": "stream",
     "text": [
      "[Parallel(n_jobs=1)]: Using backend SequentialBackend with 1 concurrent workers.\n",
      "[Parallel(n_jobs=1)]: Done 150 out of 150 | elapsed:   45.1s finished\n"
     ]
    },
    {
     "data": {
      "text/plain": [
       "GridSearchCV(cv=5, estimator=LogisticRegression(),\n",
       "             param_grid={'C': array([1.00000000e-04, 1.88739182e-04, 3.56224789e-04, 6.72335754e-04,\n",
       "       1.26896100e-03, 2.39502662e-03, 4.52035366e-03, 8.53167852e-03,\n",
       "       1.61026203e-02, 3.03919538e-02, 5.73615251e-02, 1.08263673e-01,\n",
       "       2.04335972e-01, 3.85662042e-01, 7.27895384e-01, 1.37382380e+00,\n",
       "       2.59294380e+00, 4.89390092e+00, 9.23670857e+00, 1.74332882e+01,\n",
       "       3.29034456e+01, 6.21016942e+01, 1.17210230e+02, 2.21221629e+02,\n",
       "       4.17531894e+02, 7.88046282e+02, 1.48735211e+03, 2.80721620e+03,\n",
       "       5.29831691e+03, 1.00000000e+04]),\n",
       "                         'solver': ['liblinear']},\n",
       "             verbose=True)"
      ]
     },
     "execution_count": 68,
     "metadata": {},
     "output_type": "execute_result"
    }
   ],
   "source": [
    "# Different hyperparameters for our LogisticRegression model\n",
    "log_reg_grid = {\"C\": np.logspace(-4,4,30),\n",
    "               \"solver\": [\"liblinear\"]}\n",
    "\n",
    "#Setup grid hyperparameter search for LogisticRegression\n",
    "gs_log_reg = GridSearchCV(LogisticRegression(),\n",
    "                        param_grid = log_reg_grid,\n",
    "                        cv=5,\n",
    "                        verbose =True)\n",
    "\n",
    "#Fit grid hyperparameter search model\n",
    "gs_log_reg.fit(X_train, y_train)"
   ]
  },
  {
   "cell_type": "code",
   "execution_count": 69,
   "metadata": {},
   "outputs": [
    {
     "data": {
      "text/plain": [
       "{'C': 0.7278953843983146, 'solver': 'liblinear'}"
      ]
     },
     "execution_count": 69,
     "metadata": {},
     "output_type": "execute_result"
    }
   ],
   "source": [
    "# Check the best hyperparameters\n",
    "gs_log_reg.best_params_"
   ]
  },
  {
   "cell_type": "code",
   "execution_count": 70,
   "metadata": {},
   "outputs": [
    {
     "data": {
      "text/plain": [
       "0.9594"
      ]
     },
     "execution_count": 70,
     "metadata": {},
     "output_type": "execute_result"
    }
   ],
   "source": [
    "#Evaluate the grid search on LogisticRegression model\n",
    "gs_log_reg.score(X_test, y_test)"
   ]
  },
  {
   "cell_type": "code",
   "execution_count": 71,
   "metadata": {},
   "outputs": [
    {
     "data": {
      "text/plain": [
       "{'Logistic Regression': 0.9594,\n",
       " 'KNN': 0.95515,\n",
       " 'Random Forest': 0.9684,\n",
       " 'Decision Tree': 0.9502}"
      ]
     },
     "execution_count": 71,
     "metadata": {},
     "output_type": "execute_result"
    }
   ],
   "source": [
    "model_scores"
   ]
  },
  {
   "cell_type": "code",
   "execution_count": 123,
   "metadata": {},
   "outputs": [
    {
     "name": "stdout",
     "output_type": "stream",
     "text": [
      "Fitting 5 folds for each of 240 candidates, totalling 1200 fits\n"
     ]
    },
    {
     "name": "stderr",
     "output_type": "stream",
     "text": [
      "[Parallel(n_jobs=1)]: Using backend SequentialBackend with 1 concurrent workers.\n",
      "[Parallel(n_jobs=1)]: Done 1200 out of 1200 | elapsed: 190.0min finished\n"
     ]
    },
    {
     "data": {
      "text/plain": [
       "GridSearchCV(cv=5, estimator=KNeighborsClassifier(),\n",
       "             param_grid={'algorithm': ['auto', 'ball_tree', 'kd_tree', 'brute'],\n",
       "                         'n_neighbors': array([ 1,  2,  3,  4,  5,  6,  7,  8,  9, 10, 11, 12, 13, 14, 15, 16, 17,\n",
       "       18, 19, 20, 21, 22, 23, 24, 25, 26, 27, 28, 29, 30]),\n",
       "                         'weights': ['uniform', 'distance']},\n",
       "             verbose=True)"
      ]
     },
     "execution_count": 123,
     "metadata": {},
     "output_type": "execute_result"
    }
   ],
   "source": [
    "# Different hyperparameters for KNN\n",
    "knn_grid = {\n",
    "    \"n_neighbors\": np.arange(1, 31),  # Number of neighbors\n",
    "    \"weights\": [\"uniform\", \"distance\"],  # Weight function\n",
    "    \"algorithm\": [\"auto\", \"ball_tree\", \"kd_tree\", \"brute\"]  # Algorithm to compute the nearest neighbors\n",
    "}\n",
    "\n",
    "# Setup grid hyperparameter search for KNN\n",
    "gs_knn = GridSearchCV(\n",
    "    KNeighborsClassifier(),\n",
    "    param_grid=knn_grid,\n",
    "    cv=5,\n",
    "    verbose=True\n",
    ")\n",
    "\n",
    "# Fit grid hyperparameter search model for KNN\n",
    "gs_knn.fit(X_train, y_train)\n"
   ]
  },
  {
   "cell_type": "code",
   "execution_count": 124,
   "metadata": {},
   "outputs": [
    {
     "data": {
      "text/plain": [
       "{'algorithm': 'brute', 'n_neighbors': 6, 'weights': 'uniform'}"
      ]
     },
     "execution_count": 124,
     "metadata": {},
     "output_type": "execute_result"
    }
   ],
   "source": [
    "# Check the best hyperparameters\n",
    "gs_knn.best_params_"
   ]
  },
  {
   "cell_type": "code",
   "execution_count": 125,
   "metadata": {},
   "outputs": [
    {
     "data": {
      "text/plain": [
       "0.9594"
      ]
     },
     "execution_count": 125,
     "metadata": {},
     "output_type": "execute_result"
    }
   ],
   "source": [
    "#Evaluate the grid search on KNN model\n",
    "gs_log_reg.score(X_test, y_test)"
   ]
  },
  {
   "cell_type": "code",
   "execution_count": null,
   "metadata": {},
   "outputs": [],
   "source": []
  },
  {
   "cell_type": "code",
   "execution_count": 126,
   "metadata": {},
   "outputs": [
    {
     "data": {
      "text/plain": [
       "{'Logistic Regression': 0.9594,\n",
       " 'KNN': 0.95515,\n",
       " 'Random Forest': 0.9684,\n",
       " 'Decision Tree': 0.9502}"
      ]
     },
     "execution_count": 126,
     "metadata": {},
     "output_type": "execute_result"
    }
   ],
   "source": [
    "model_scores"
   ]
  },
  {
   "cell_type": "markdown",
   "metadata": {},
   "source": [
    "After making all these evaluations and hyperparameter tuning, Random Forest Classifier keeps being the best model. Let's evaluate our model."
   ]
  },
  {
   "cell_type": "markdown",
   "metadata": {},
   "source": [
    "# Evaluating our tuned machine learning classifier, beyond accuracy\n",
    "* ROC curve and AUC score\n",
    "* Confusion matrix\n",
    "* Classification report\n",
    "* Precission\n",
    "* Recall\n",
    "* F1 score\n",
    "...and cross-validation used where possible.\n",
    "\n",
    "Toma make comparissons and evaluate our trained model, first we'll need to make predictions."
   ]
  },
  {
   "cell_type": "code",
   "execution_count": 127,
   "metadata": {},
   "outputs": [],
   "source": [
    "# Make predictions with tuned model\n",
    "y_preds = rs_rf.predict(X_test)"
   ]
  },
  {
   "cell_type": "code",
   "execution_count": 128,
   "metadata": {},
   "outputs": [
    {
     "data": {
      "text/plain": [
       "array([0, 0, 1, ..., 0, 0, 0], dtype=int64)"
      ]
     },
     "execution_count": 128,
     "metadata": {},
     "output_type": "execute_result"
    }
   ],
   "source": [
    "y_preds "
   ]
  },
  {
   "cell_type": "code",
   "execution_count": 129,
   "metadata": {},
   "outputs": [
    {
     "data": {
      "text/plain": [
       "75721    0\n",
       "80184    0\n",
       "19864    1\n",
       "76699    0\n",
       "92991    0\n",
       "        ..\n",
       "32595    0\n",
       "29313    0\n",
       "37862    0\n",
       "53421    0\n",
       "42410    0\n",
       "Name: diabetes, Length: 20000, dtype: int64"
      ]
     },
     "execution_count": 129,
     "metadata": {},
     "output_type": "execute_result"
    }
   ],
   "source": [
    "y_test"
   ]
  },
  {
   "cell_type": "code",
   "execution_count": 131,
   "metadata": {},
   "outputs": [
    {
     "data": {
      "text/plain": [
       "<sklearn.metrics._plot.roc_curve.RocCurveDisplay at 0x1a0a77259b0>"
      ]
     },
     "execution_count": 131,
     "metadata": {},
     "output_type": "execute_result"
    },
    {
     "data": {
      "image/png": "[encoded data removed]",
      "text/plain": [
       "<Figure size 432x288 with 1 Axes>"
      ]
     },
     "metadata": {
      "needs_background": "light"
     },
     "output_type": "display_data"
    }
   ],
   "source": [
    "# Plot ROC curve and calculate AUC metric\n",
    "plot_roc_curve(rs_rf, X_test, y_test, color='turquoise')"
   ]
  },
  {
   "cell_type": "code",
   "execution_count": 132,
   "metadata": {},
   "outputs": [
    {
     "name": "stdout",
     "output_type": "stream",
     "text": [
      "[[18297     0]\n",
      " [  566  1137]]\n"
     ]
    }
   ],
   "source": [
    "# Confusion matrix\n",
    "print(confusion_matrix(y_test, y_preds))"
   ]
  },
  {
   "cell_type": "code",
   "execution_count": 134,
   "metadata": {},
   "outputs": [
    {
     "data": {
      "image/png": "[encoded data removed]",
      "text/plain": [
       "<Figure size 216x216 with 1 Axes>"
      ]
     },
     "metadata": {},
     "output_type": "display_data"
    }
   ],
   "source": [
    "# Import Seaborn\n",
    "import seaborn as sns\n",
    "import matplotlib.pyplot as plt\n",
    "from sklearn.metrics import confusion_matrix\n",
    "\n",
    "sns.set(font_scale=1.5)  # Increase font size\n",
    "\n",
    "def plot_conf_mat(y_test, y_preds):\n",
    "    \"\"\"\n",
    "    Plots a confusion matrix using Seaborn's heatmap().\n",
    "    \"\"\"\n",
    "    fig, ax = plt.subplots(figsize=(3, 3))\n",
    "    ax = sns.heatmap(confusion_matrix(y_test, y_preds),\n",
    "                     annot=True,  # Annotate the boxes\n",
    "                     fmt='g',     # Format the annotations\n",
    "                     cbar=False,\n",
    "                     cmap=\"YlGnBu\")\n",
    "    plt.xlabel(\"Predicted label\")  # Predictions go on the x-axis\n",
    "    plt.ylabel(\"True label\")  # True labels go on the y-axis \n",
    "\n",
    "plot_conf_mat(y_test, y_preds)\n"
   ]
  },
  {
   "cell_type": "markdown",
   "metadata": {},
   "source": [
    "Now we've got a ROC curve, an AUC metric,and a confusion matrix. Let's now get a classification report as well as a cross-valudation precision, recall and f1 score."
   ]
  },
  {
   "cell_type": "code",
   "execution_count": 135,
   "metadata": {},
   "outputs": [
    {
     "name": "stdout",
     "output_type": "stream",
     "text": [
      "              precision    recall  f1-score   support\n",
      "\n",
      "           0       0.97      1.00      0.98     18297\n",
      "           1       1.00      0.67      0.80      1703\n",
      "\n",
      "    accuracy                           0.97     20000\n",
      "   macro avg       0.98      0.83      0.89     20000\n",
      "weighted avg       0.97      0.97      0.97     20000\n",
      "\n"
     ]
    }
   ],
   "source": [
    "print(classification_report(y_test, y_preds))"
   ]
  },
  {
   "cell_type": "markdown",
   "metadata": {},
   "source": [
    "## Calculate evaluation metrics using cross-validation\n",
    "We'll be using cross_val_score() to do so."
   ]
  },
  {
   "cell_type": "code",
   "execution_count": 136,
   "metadata": {},
   "outputs": [
    {
     "data": {
      "text/plain": [
       "{'n_estimators': 510,\n",
       " 'min_samples_split': 18,\n",
       " 'min_samples_leaf': 19,\n",
       " 'max_depth': 5}"
      ]
     },
     "execution_count": 136,
     "metadata": {},
     "output_type": "execute_result"
    }
   ],
   "source": [
    "#Check best hyperparameters\n",
    "rs_rf.best_params_"
   ]
  },
  {
   "cell_type": "code",
   "execution_count": 137,
   "metadata": {},
   "outputs": [],
   "source": [
    "# Create a new classifier with best parameters\n",
    "best_params = rs_rf.best_params_ \n",
    "clf = RandomForestClassifier(**best_params)"
   ]
  },
  {
   "cell_type": "code",
   "execution_count": 138,
   "metadata": {},
   "outputs": [
    {
     "data": {
      "text/plain": [
       "array([0.97245, 0.97105, 0.97245, 0.9715 , 0.9719 ])"
      ]
     },
     "execution_count": 138,
     "metadata": {},
     "output_type": "execute_result"
    }
   ],
   "source": [
    "#Corss-validated accuracy\n",
    "cv_acc = cross_val_score(clf,\n",
    "                        X,\n",
    "                        y,\n",
    "                        cv=5,\n",
    "                        scoring=\"accuracy\")\n",
    "cv_acc"
   ]
  },
  {
   "cell_type": "code",
   "execution_count": 139,
   "metadata": {},
   "outputs": [
    {
     "data": {
      "text/plain": [
       "0.97187"
      ]
     },
     "execution_count": 139,
     "metadata": {},
     "output_type": "execute_result"
    }
   ],
   "source": [
    "cv_acc = np.mean(cv_acc)\n",
    "cv_acc"
   ]
  },
  {
   "cell_type": "code",
   "execution_count": 140,
   "metadata": {},
   "outputs": [
    {
     "data": {
      "text/plain": [
       "1.0"
      ]
     },
     "execution_count": 140,
     "metadata": {},
     "output_type": "execute_result"
    }
   ],
   "source": [
    "#Corss-validated precision\n",
    "cv_precision = cross_val_score(clf,\n",
    "                        X,\n",
    "                        y,\n",
    "                        cv=5,\n",
    "                        scoring=\"precision\")\n",
    "cv_precision = np.mean(cv_precision)\n",
    "cv_precision"
   ]
  },
  {
   "cell_type": "code",
   "execution_count": 141,
   "metadata": {},
   "outputs": [
    {
     "data": {
      "text/plain": [
       "0.6690588235294117"
      ]
     },
     "execution_count": 141,
     "metadata": {},
     "output_type": "execute_result"
    }
   ],
   "source": [
    "#Corss-validated recall\n",
    "cv_recall = cross_val_score(clf,\n",
    "                        X,\n",
    "                        y,\n",
    "                        cv=5,\n",
    "                        scoring=\"recall\")\n",
    "cv_recall = np.mean(cv_recall)\n",
    "cv_recall"
   ]
  },
  {
   "cell_type": "code",
   "execution_count": 142,
   "metadata": {},
   "outputs": [
    {
     "data": {
      "text/plain": [
       "0.8017022079353918"
      ]
     },
     "execution_count": 142,
     "metadata": {},
     "output_type": "execute_result"
    }
   ],
   "source": [
    "#Corss-validated f1\n",
    "cv_f1 = cross_val_score(clf,\n",
    "                        X,\n",
    "                        y,\n",
    "                        cv=5,\n",
    "                        scoring=\"f1\")\n",
    "cv_f1 = np.mean(cv_f1)\n",
    "cv_f1"
   ]
  },
  {
   "cell_type": "code",
   "execution_count": 143,
   "metadata": {},
   "outputs": [
    {
     "data": {
      "image/png": "[encoded data removed]",
      "text/plain": [
       "<Figure size 432x288 with 1 Axes>"
      ]
     },
     "metadata": {},
     "output_type": "display_data"
    }
   ],
   "source": [
    "# Visualize cross-validated metrics\n",
    "cv_metrics = pd.DataFrame({\n",
    "    \"Accuracy\": cv_acc,\n",
    "    \"Precision\": cv_precision,\n",
    "    \"Recall\": cv_recall,\n",
    "    \"F1\": cv_f1\n",
    "}, index=[0])\n",
    "\n",
    "cv_metrics.T.plot.bar(\n",
    "    title=\"Cross-validated classification metrics\",\n",
    "    legend=False,\n",
    "    color='chartreuse'  \n",
    ");\n"
   ]
  },
  {
   "cell_type": "markdown",
   "metadata": {},
   "source": [
    "## Feature importance\n",
    "Which features contributed most to the outcomes of the model and how did they contribute?\n",
    "\n",
    "Finding feature importance is different for each machine learning model. One way to find feature importance is to search for \"(MODEL NAME) feature importance\"."
   ]
  },
  {
   "cell_type": "code",
   "execution_count": 144,
   "metadata": {},
   "outputs": [
    {
     "data": {
      "text/plain": [
       "RandomForestClassifier(n_jobs=-1, random_state=42)"
      ]
     },
     "execution_count": 144,
     "metadata": {},
     "output_type": "execute_result"
    }
   ],
   "source": [
    "# Fit an instance of RandomForestClassifier\n",
    "clf = RandomForestClassifier(n_jobs=-1, random_state=42)\n",
    "clf.fit(X_train, y_train)"
   ]
  },
  {
   "cell_type": "code",
   "execution_count": 147,
   "metadata": {},
   "outputs": [
    {
     "data": {
      "text/plain": [
       "array([0.10555544, 0.00485265, 0.00489839, 0.00459207, 0.00473555,\n",
       "       0.00425067, 0.13160615, 0.40586365, 0.15486447, 0.17878095])"
      ]
     },
     "execution_count": 147,
     "metadata": {},
     "output_type": "execute_result"
    }
   ],
   "source": [
    "# Check feature importances\n",
    "importances = clf.feature_importances_\n",
    "importances"
   ]
  },
  {
   "cell_type": "code",
   "execution_count": 154,
   "metadata": {},
   "outputs": [
    {
     "data": {
      "image/png": "[encoded data removed]",
      "text/plain": [
       "<Figure size 720x432 with 1 Axes>"
      ]
     },
     "metadata": {},
     "output_type": "display_data"
    }
   ],
   "source": [
    "# Plotting feature importances\n",
    "plt.figure(figsize=(10, 6))\n",
    "plt.barh(feature_importance_df['Feature'], feature_importance_df['Importance'], color='lightgreen')\n",
    "plt.xlabel('Importance')\n",
    "plt.title('Feature Importance from Random Forest Classifier')\n",
    "plt.gca().invert_yaxis()  # To display the most important feature at the top\n",
    "plt.show()"
   ]
  },
  {
   "cell_type": "code",
   "execution_count": 148,
   "metadata": {},
   "outputs": [
    {
     "name": "stdout",
     "output_type": "stream",
     "text": [
      "                Feature  Importance\n",
      "7           hbA1c_level    0.405864\n",
      "9               z_score    0.178781\n",
      "8   blood_glucose_level    0.154864\n",
      "6                   bmi    0.131606\n",
      "0                   age    0.105555\n",
      "2            race:Asian    0.004898\n",
      "1  race:AfricanAmerican    0.004853\n",
      "4         race:Hispanic    0.004736\n",
      "3        race:Caucasian    0.004592\n",
      "5            race:Other    0.004251\n"
     ]
    }
   ],
   "source": [
    "# Display feature importances with feature names\n",
    "feature_importance_df = pd.DataFrame({\n",
    "    'Feature': X_train.columns,\n",
    "    'Importance': importances\n",
    "}).sort_values(by='Importance', ascending=False)\n",
    "\n",
    "print(feature_importance_df)\n"
   ]
  },
  {
   "cell_type": "code",
   "execution_count": 156,
   "metadata": {},
   "outputs": [
    {
     "data": {
      "text/html": [
       "<div>\n",
       "<style scoped>\n",
       "    .dataframe tbody tr th:only-of-type {\n",
       "        vertical-align: middle;\n",
       "    }\n",
       "\n",
       "    .dataframe tbody tr th {\n",
       "        vertical-align: top;\n",
       "    }\n",
       "\n",
       "    .dataframe thead th {\n",
       "        text-align: right;\n",
       "    }\n",
       "</style>\n",
       "<table border=\"1\" class=\"dataframe\">\n",
       "  <thead>\n",
       "    <tr style=\"text-align: right;\">\n",
       "      <th>diabetes</th>\n",
       "      <th>0</th>\n",
       "      <th>1</th>\n",
       "    </tr>\n",
       "    <tr>\n",
       "      <th>hbA1c_level</th>\n",
       "      <th></th>\n",
       "      <th></th>\n",
       "    </tr>\n",
       "  </thead>\n",
       "  <tbody>\n",
       "    <tr>\n",
       "      <th>3.5</th>\n",
       "      <td>7662</td>\n",
       "      <td>0</td>\n",
       "    </tr>\n",
       "    <tr>\n",
       "      <th>4.0</th>\n",
       "      <td>7542</td>\n",
       "      <td>0</td>\n",
       "    </tr>\n",
       "    <tr>\n",
       "      <th>4.5</th>\n",
       "      <td>7585</td>\n",
       "      <td>0</td>\n",
       "    </tr>\n",
       "    <tr>\n",
       "      <th>4.8</th>\n",
       "      <td>7597</td>\n",
       "      <td>0</td>\n",
       "    </tr>\n",
       "    <tr>\n",
       "      <th>5.0</th>\n",
       "      <td>7471</td>\n",
       "      <td>0</td>\n",
       "    </tr>\n",
       "    <tr>\n",
       "      <th>5.7</th>\n",
       "      <td>7709</td>\n",
       "      <td>704</td>\n",
       "    </tr>\n",
       "    <tr>\n",
       "      <th>5.8</th>\n",
       "      <td>7662</td>\n",
       "      <td>659</td>\n",
       "    </tr>\n",
       "    <tr>\n",
       "      <th>6.0</th>\n",
       "      <td>7648</td>\n",
       "      <td>647</td>\n",
       "    </tr>\n",
       "    <tr>\n",
       "      <th>6.1</th>\n",
       "      <td>7397</td>\n",
       "      <td>651</td>\n",
       "    </tr>\n",
       "    <tr>\n",
       "      <th>6.2</th>\n",
       "      <td>7621</td>\n",
       "      <td>648</td>\n",
       "    </tr>\n",
       "    <tr>\n",
       "      <th>6.5</th>\n",
       "      <td>7749</td>\n",
       "      <td>613</td>\n",
       "    </tr>\n",
       "    <tr>\n",
       "      <th>6.6</th>\n",
       "      <td>7857</td>\n",
       "      <td>683</td>\n",
       "    </tr>\n",
       "    <tr>\n",
       "      <th>6.8</th>\n",
       "      <td>0</td>\n",
       "      <td>642</td>\n",
       "    </tr>\n",
       "    <tr>\n",
       "      <th>7.0</th>\n",
       "      <td>0</td>\n",
       "      <td>634</td>\n",
       "    </tr>\n",
       "    <tr>\n",
       "      <th>7.5</th>\n",
       "      <td>0</td>\n",
       "      <td>643</td>\n",
       "    </tr>\n",
       "    <tr>\n",
       "      <th>8.2</th>\n",
       "      <td>0</td>\n",
       "      <td>661</td>\n",
       "    </tr>\n",
       "    <tr>\n",
       "      <th>8.8</th>\n",
       "      <td>0</td>\n",
       "      <td>661</td>\n",
       "    </tr>\n",
       "    <tr>\n",
       "      <th>9.0</th>\n",
       "      <td>0</td>\n",
       "      <td>654</td>\n",
       "    </tr>\n",
       "  </tbody>\n",
       "</table>\n",
       "</div>"
      ],
      "text/plain": [
       "diabetes        0    1\n",
       "hbA1c_level           \n",
       "3.5          7662    0\n",
       "4.0          7542    0\n",
       "4.5          7585    0\n",
       "4.8          7597    0\n",
       "5.0          7471    0\n",
       "5.7          7709  704\n",
       "5.8          7662  659\n",
       "6.0          7648  647\n",
       "6.1          7397  651\n",
       "6.2          7621  648\n",
       "6.5          7749  613\n",
       "6.6          7857  683\n",
       "6.8             0  642\n",
       "7.0             0  634\n",
       "7.5             0  643\n",
       "8.2             0  661\n",
       "8.8             0  661\n",
       "9.0             0  654"
      ]
     },
     "execution_count": 156,
     "metadata": {},
     "output_type": "execute_result"
    }
   ],
   "source": [
    "pd.crosstab(df[\"hbA1c_level\"], df[\"diabetes\"])"
   ]
  },
  {
   "cell_type": "code",
   "execution_count": 157,
   "metadata": {},
   "outputs": [
    {
     "data": {
      "text/html": [
       "<div>\n",
       "<style scoped>\n",
       "    .dataframe tbody tr th:only-of-type {\n",
       "        vertical-align: middle;\n",
       "    }\n",
       "\n",
       "    .dataframe tbody tr th {\n",
       "        vertical-align: top;\n",
       "    }\n",
       "\n",
       "    .dataframe thead th {\n",
       "        text-align: right;\n",
       "    }\n",
       "</style>\n",
       "<table border=\"1\" class=\"dataframe\">\n",
       "  <thead>\n",
       "    <tr style=\"text-align: right;\">\n",
       "      <th>diabetes</th>\n",
       "      <th>0</th>\n",
       "      <th>1</th>\n",
       "    </tr>\n",
       "    <tr>\n",
       "      <th>blood_glucose_level</th>\n",
       "      <th></th>\n",
       "      <th></th>\n",
       "    </tr>\n",
       "  </thead>\n",
       "  <tbody>\n",
       "    <tr>\n",
       "      <th>80</th>\n",
       "      <td>7106</td>\n",
       "      <td>0</td>\n",
       "    </tr>\n",
       "    <tr>\n",
       "      <th>85</th>\n",
       "      <td>6901</td>\n",
       "      <td>0</td>\n",
       "    </tr>\n",
       "    <tr>\n",
       "      <th>90</th>\n",
       "      <td>7112</td>\n",
       "      <td>0</td>\n",
       "    </tr>\n",
       "    <tr>\n",
       "      <th>100</th>\n",
       "      <td>7025</td>\n",
       "      <td>0</td>\n",
       "    </tr>\n",
       "    <tr>\n",
       "      <th>126</th>\n",
       "      <td>7066</td>\n",
       "      <td>636</td>\n",
       "    </tr>\n",
       "    <tr>\n",
       "      <th>130</th>\n",
       "      <td>7102</td>\n",
       "      <td>692</td>\n",
       "    </tr>\n",
       "    <tr>\n",
       "      <th>140</th>\n",
       "      <td>7107</td>\n",
       "      <td>625</td>\n",
       "    </tr>\n",
       "    <tr>\n",
       "      <th>145</th>\n",
       "      <td>7017</td>\n",
       "      <td>662</td>\n",
       "    </tr>\n",
       "    <tr>\n",
       "      <th>155</th>\n",
       "      <td>6976</td>\n",
       "      <td>599</td>\n",
       "    </tr>\n",
       "    <tr>\n",
       "      <th>158</th>\n",
       "      <td>7026</td>\n",
       "      <td>0</td>\n",
       "    </tr>\n",
       "    <tr>\n",
       "      <th>159</th>\n",
       "      <td>7093</td>\n",
       "      <td>666</td>\n",
       "    </tr>\n",
       "    <tr>\n",
       "      <th>160</th>\n",
       "      <td>7016</td>\n",
       "      <td>696</td>\n",
       "    </tr>\n",
       "    <tr>\n",
       "      <th>200</th>\n",
       "      <td>6953</td>\n",
       "      <td>647</td>\n",
       "    </tr>\n",
       "    <tr>\n",
       "      <th>220</th>\n",
       "      <td>0</td>\n",
       "      <td>603</td>\n",
       "    </tr>\n",
       "    <tr>\n",
       "      <th>240</th>\n",
       "      <td>0</td>\n",
       "      <td>636</td>\n",
       "    </tr>\n",
       "    <tr>\n",
       "      <th>260</th>\n",
       "      <td>0</td>\n",
       "      <td>635</td>\n",
       "    </tr>\n",
       "    <tr>\n",
       "      <th>280</th>\n",
       "      <td>0</td>\n",
       "      <td>729</td>\n",
       "    </tr>\n",
       "    <tr>\n",
       "      <th>300</th>\n",
       "      <td>0</td>\n",
       "      <td>674</td>\n",
       "    </tr>\n",
       "  </tbody>\n",
       "</table>\n",
       "</div>"
      ],
      "text/plain": [
       "diabetes                0    1\n",
       "blood_glucose_level           \n",
       "80                   7106    0\n",
       "85                   6901    0\n",
       "90                   7112    0\n",
       "100                  7025    0\n",
       "126                  7066  636\n",
       "130                  7102  692\n",
       "140                  7107  625\n",
       "145                  7017  662\n",
       "155                  6976  599\n",
       "158                  7026    0\n",
       "159                  7093  666\n",
       "160                  7016  696\n",
       "200                  6953  647\n",
       "220                     0  603\n",
       "240                     0  636\n",
       "260                     0  635\n",
       "280                     0  729\n",
       "300                     0  674"
      ]
     },
     "execution_count": 157,
     "metadata": {},
     "output_type": "execute_result"
    }
   ],
   "source": [
    "pd.crosstab(df[\"blood_glucose_level\"], df[\"diabetes\"])"
   ]
  },
  {
   "cell_type": "markdown",
   "metadata": {},
   "source": [
    "After all this work we can assume that the best model for this problem is RandomForest Classifier. So far we can say that our model works, and that it is safe to use this model for a diabetes predicton. But can we? Is there a model that could do better? Is our model maybe a bit overfit? Let's find out."
   ]
  },
  {
   "cell_type": "markdown",
   "metadata": {},
   "source": [
    "# 6. Experimentation\n",
    "\n",
    "Let's try in this part the following:\n",
    "* Support Vector Machines: svm.SVC()\n",
    "* Gradient Boosting Machines: GradientBoostingClassifier()\n",
    "* Removing Z-Score\n",
    "* Verify for overfitting"
   ]
  },
  {
   "cell_type": "code",
   "execution_count": 132,
   "metadata": {},
   "outputs": [],
   "source": [
    "# Defin# Import necessary libraries (make sure to include these at the top of your script)\n",
    "from sklearn import svm\n",
    "from sklearn.ensemble import GradientBoostingClassifier\n",
    "import numpy as np\n",
    "\n",
    "# Defining a dictionary to store the models\n",
    "models_2 = {\n",
    "    \"Support Vector Machines\": svm.SVC(),\n",
    "    \"Gradient Boosting Machines\": GradientBoostingClassifier()\n",
    "}\n",
    "\n",
    "# Create a function to fit and score models\n",
    "def fit_and_score(models_2, X_train, X_test, y_train, y_test):\n",
    "    \"\"\"\n",
    "    Fits and evaluates given machine learning models.\n",
    "    models: a dict of different Scikit-Learn machine learning models\n",
    "    X_train: training data (no labels)\n",
    "    X_test: test data (no labels)\n",
    "    y_train: training labels\n",
    "    y_test: test labels\n",
    "    \"\"\"\n",
    "    \n",
    "    # Set random seed\n",
    "    np.random.seed(42)\n",
    "    # Make a dictionary to keep model scores\n",
    "    model2_scores = {}\n",
    "    \n",
    "    # Loop through models\n",
    "    for name, model in models_2.items():\n",
    "        # Fit the model to the data\n",
    "        model.fit(X_train, y_train)  \n",
    "        # Evaluate the model and append its score to model_scores\n",
    "        model2_scores[name] = model.score(X_test, y_test)\n",
    "    \n",
    "    return model2_scores\n"
   ]
  },
  {
   "cell_type": "code",
   "execution_count": 128,
   "metadata": {},
   "outputs": [
    {
     "name": "stdout",
     "output_type": "stream",
     "text": [
      "{'Support Vector Machines': 0.94715, 'Gradient Boosting Machines': 0.97175}\n"
     ]
    }
   ],
   "source": [
    "# Fit models and get scores\n",
    "model2_scores = fit_and_score(models_2, X_train, X_test, y_train, y_test)\n",
    "\n",
    "# Print the model scores\n",
    "print(model2_scores)"
   ]
  },
  {
   "cell_type": "markdown",
   "metadata": {},
   "source": [
    "Gradient Boosting Machine defently did so much better than the other models."
   ]
  },
  {
   "cell_type": "code",
   "execution_count": 129,
   "metadata": {},
   "outputs": [
    {
     "data": {
      "text/html": [
       "<div>\n",
       "<style scoped>\n",
       "    .dataframe tbody tr th:only-of-type {\n",
       "        vertical-align: middle;\n",
       "    }\n",
       "\n",
       "    .dataframe tbody tr th {\n",
       "        vertical-align: top;\n",
       "    }\n",
       "\n",
       "    .dataframe thead th {\n",
       "        text-align: right;\n",
       "    }\n",
       "</style>\n",
       "<table border=\"1\" class=\"dataframe\">\n",
       "  <thead>\n",
       "    <tr style=\"text-align: right;\">\n",
       "      <th></th>\n",
       "      <th>age</th>\n",
       "      <th>race:AfricanAmerican</th>\n",
       "      <th>race:Asian</th>\n",
       "      <th>race:Caucasian</th>\n",
       "      <th>race:Hispanic</th>\n",
       "      <th>race:Other</th>\n",
       "      <th>bmi</th>\n",
       "      <th>hbA1c_level</th>\n",
       "      <th>blood_glucose_level</th>\n",
       "      <th>diabetes</th>\n",
       "      <th>z_score</th>\n",
       "    </tr>\n",
       "  </thead>\n",
       "  <tbody>\n",
       "    <tr>\n",
       "      <th>0</th>\n",
       "      <td>32.0</td>\n",
       "      <td>0</td>\n",
       "      <td>0</td>\n",
       "      <td>0</td>\n",
       "      <td>0</td>\n",
       "      <td>1</td>\n",
       "      <td>27.32</td>\n",
       "      <td>5.0</td>\n",
       "      <td>100</td>\n",
       "      <td>0</td>\n",
       "      <td>-0.934901</td>\n",
       "    </tr>\n",
       "    <tr>\n",
       "      <th>1</th>\n",
       "      <td>29.0</td>\n",
       "      <td>0</td>\n",
       "      <td>1</td>\n",
       "      <td>0</td>\n",
       "      <td>0</td>\n",
       "      <td>0</td>\n",
       "      <td>19.95</td>\n",
       "      <td>5.0</td>\n",
       "      <td>90</td>\n",
       "      <td>0</td>\n",
       "      <td>-1.180552</td>\n",
       "    </tr>\n",
       "    <tr>\n",
       "      <th>2</th>\n",
       "      <td>18.0</td>\n",
       "      <td>0</td>\n",
       "      <td>0</td>\n",
       "      <td>0</td>\n",
       "      <td>0</td>\n",
       "      <td>1</td>\n",
       "      <td>23.76</td>\n",
       "      <td>4.8</td>\n",
       "      <td>160</td>\n",
       "      <td>0</td>\n",
       "      <td>0.539006</td>\n",
       "    </tr>\n",
       "    <tr>\n",
       "      <th>3</th>\n",
       "      <td>41.0</td>\n",
       "      <td>0</td>\n",
       "      <td>0</td>\n",
       "      <td>1</td>\n",
       "      <td>0</td>\n",
       "      <td>0</td>\n",
       "      <td>27.32</td>\n",
       "      <td>4.0</td>\n",
       "      <td>159</td>\n",
       "      <td>0</td>\n",
       "      <td>0.514441</td>\n",
       "    </tr>\n",
       "    <tr>\n",
       "      <th>4</th>\n",
       "      <td>52.0</td>\n",
       "      <td>1</td>\n",
       "      <td>0</td>\n",
       "      <td>0</td>\n",
       "      <td>0</td>\n",
       "      <td>0</td>\n",
       "      <td>23.75</td>\n",
       "      <td>6.5</td>\n",
       "      <td>90</td>\n",
       "      <td>0</td>\n",
       "      <td>-1.180552</td>\n",
       "    </tr>\n",
       "  </tbody>\n",
       "</table>\n",
       "</div>"
      ],
      "text/plain": [
       "    age  race:AfricanAmerican  race:Asian  race:Caucasian  race:Hispanic  \\\n",
       "0  32.0                     0           0               0              0   \n",
       "1  29.0                     0           1               0              0   \n",
       "2  18.0                     0           0               0              0   \n",
       "3  41.0                     0           0               1              0   \n",
       "4  52.0                     1           0               0              0   \n",
       "\n",
       "   race:Other    bmi  hbA1c_level  blood_glucose_level  diabetes   z_score  \n",
       "0           1  27.32          5.0                  100         0 -0.934901  \n",
       "1           0  19.95          5.0                   90         0 -1.180552  \n",
       "2           1  23.76          4.8                  160         0  0.539006  \n",
       "3           0  27.32          4.0                  159         0  0.514441  \n",
       "4           0  23.75          6.5                   90         0 -1.180552  "
      ]
     },
     "execution_count": 129,
     "metadata": {},
     "output_type": "execute_result"
    }
   ],
   "source": [
    "df.head()"
   ]
  },
  {
   "cell_type": "markdown",
   "metadata": {},
   "source": [
    "No let's drop z_score to see how everything works."
   ]
  },
  {
   "cell_type": "code",
   "execution_count": 130,
   "metadata": {},
   "outputs": [],
   "source": [
    "df.drop(columns=['z_score'], inplace=True)"
   ]
  },
  {
   "cell_type": "code",
   "execution_count": 131,
   "metadata": {},
   "outputs": [
    {
     "data": {
      "text/html": [
       "<div>\n",
       "<style scoped>\n",
       "    .dataframe tbody tr th:only-of-type {\n",
       "        vertical-align: middle;\n",
       "    }\n",
       "\n",
       "    .dataframe tbody tr th {\n",
       "        vertical-align: top;\n",
       "    }\n",
       "\n",
       "    .dataframe thead th {\n",
       "        text-align: right;\n",
       "    }\n",
       "</style>\n",
       "<table border=\"1\" class=\"dataframe\">\n",
       "  <thead>\n",
       "    <tr style=\"text-align: right;\">\n",
       "      <th></th>\n",
       "      <th>age</th>\n",
       "      <th>race:AfricanAmerican</th>\n",
       "      <th>race:Asian</th>\n",
       "      <th>race:Caucasian</th>\n",
       "      <th>race:Hispanic</th>\n",
       "      <th>race:Other</th>\n",
       "      <th>bmi</th>\n",
       "      <th>hbA1c_level</th>\n",
       "      <th>blood_glucose_level</th>\n",
       "      <th>diabetes</th>\n",
       "    </tr>\n",
       "  </thead>\n",
       "  <tbody>\n",
       "    <tr>\n",
       "      <th>0</th>\n",
       "      <td>32.0</td>\n",
       "      <td>0</td>\n",
       "      <td>0</td>\n",
       "      <td>0</td>\n",
       "      <td>0</td>\n",
       "      <td>1</td>\n",
       "      <td>27.32</td>\n",
       "      <td>5.0</td>\n",
       "      <td>100</td>\n",
       "      <td>0</td>\n",
       "    </tr>\n",
       "    <tr>\n",
       "      <th>1</th>\n",
       "      <td>29.0</td>\n",
       "      <td>0</td>\n",
       "      <td>1</td>\n",
       "      <td>0</td>\n",
       "      <td>0</td>\n",
       "      <td>0</td>\n",
       "      <td>19.95</td>\n",
       "      <td>5.0</td>\n",
       "      <td>90</td>\n",
       "      <td>0</td>\n",
       "    </tr>\n",
       "    <tr>\n",
       "      <th>2</th>\n",
       "      <td>18.0</td>\n",
       "      <td>0</td>\n",
       "      <td>0</td>\n",
       "      <td>0</td>\n",
       "      <td>0</td>\n",
       "      <td>1</td>\n",
       "      <td>23.76</td>\n",
       "      <td>4.8</td>\n",
       "      <td>160</td>\n",
       "      <td>0</td>\n",
       "    </tr>\n",
       "    <tr>\n",
       "      <th>3</th>\n",
       "      <td>41.0</td>\n",
       "      <td>0</td>\n",
       "      <td>0</td>\n",
       "      <td>1</td>\n",
       "      <td>0</td>\n",
       "      <td>0</td>\n",
       "      <td>27.32</td>\n",
       "      <td>4.0</td>\n",
       "      <td>159</td>\n",
       "      <td>0</td>\n",
       "    </tr>\n",
       "    <tr>\n",
       "      <th>4</th>\n",
       "      <td>52.0</td>\n",
       "      <td>1</td>\n",
       "      <td>0</td>\n",
       "      <td>0</td>\n",
       "      <td>0</td>\n",
       "      <td>0</td>\n",
       "      <td>23.75</td>\n",
       "      <td>6.5</td>\n",
       "      <td>90</td>\n",
       "      <td>0</td>\n",
       "    </tr>\n",
       "  </tbody>\n",
       "</table>\n",
       "</div>"
      ],
      "text/plain": [
       "    age  race:AfricanAmerican  race:Asian  race:Caucasian  race:Hispanic  \\\n",
       "0  32.0                     0           0               0              0   \n",
       "1  29.0                     0           1               0              0   \n",
       "2  18.0                     0           0               0              0   \n",
       "3  41.0                     0           0               1              0   \n",
       "4  52.0                     1           0               0              0   \n",
       "\n",
       "   race:Other    bmi  hbA1c_level  blood_glucose_level  diabetes  \n",
       "0           1  27.32          5.0                  100         0  \n",
       "1           0  19.95          5.0                   90         0  \n",
       "2           1  23.76          4.8                  160         0  \n",
       "3           0  27.32          4.0                  159         0  \n",
       "4           0  23.75          6.5                   90         0  "
      ]
     },
     "execution_count": 131,
     "metadata": {},
     "output_type": "execute_result"
    }
   ],
   "source": [
    "df.head()"
   ]
  },
  {
   "cell_type": "code",
   "execution_count": 140,
   "metadata": {},
   "outputs": [],
   "source": [
    "import numpy as np\n",
    "from sklearn.linear_model import LogisticRegression\n",
    "from sklearn.neighbors import KNeighborsClassifier\n",
    "from sklearn.ensemble import RandomForestClassifier, GradientBoostingClassifier\n",
    "from sklearn.tree import DecisionTreeClassifier\n",
    "from sklearn import svm\n",
    "\n",
    "# Defining a dictionary to store the models\n",
    "models_3 = {\n",
    "    \"Logistic Regression\": LogisticRegression(),\n",
    "    \"KNN\": KNeighborsClassifier(),\n",
    "    \"Random Forest\": RandomForestClassifier(),\n",
    "    \"Decision Tree\": DecisionTreeClassifier(),\n",
    "    \"Support Vector Machines\": svm.SVC(),\n",
    "    \"Gradient Boosting Machines\": GradientBoostingClassifier()\n",
    "}\n",
    "\n",
    "# Create a function to fit and score models\n",
    "def fit_and_score(models, X_train, X_test, y_train, y_test):\n",
    "    \"\"\"\n",
    "    Fits and evaluates given machine learning models.\n",
    "    \n",
    "    Parameters:\n",
    "    models (dict): A dict of different Scikit-Learn machine learning models\n",
    "    X_train (array-like): Training data (no labels)\n",
    "    X_test (array-like): Test data (no labels)\n",
    "    y_train (array-like): Training labels\n",
    "    y_test (array-like): Test labels\n",
    "    \n",
    "    Returns:\n",
    "    dict: Model scores for each fitted model\n",
    "    \"\"\"\n",
    "    \n",
    "    # Set random seed\n",
    "    np.random.seed(42)\n",
    "    \n",
    "    # Make a dictionary to keep model scores\n",
    "    model3_scores = {}\n",
    "    \n",
    "    # Loop through models\n",
    "    for name, model in models.items():\n",
    "        # Fit the model to the data\n",
    "        model.fit(X_train, y_train)\n",
    "        # Evaluate the model and append its score to model_scores_3\n",
    "        model3_scores[name] = model.score(X_test, y_test)\n",
    "    \n",
    "    return model3_scores\n",
    "\n",
    "\n",
    " \n",
    "    \n"
   ]
  },
  {
   "cell_type": "code",
   "execution_count": 141,
   "metadata": {},
   "outputs": [
    {
     "name": "stdout",
     "output_type": "stream",
     "text": [
      "{'Logistic Regression': 0.9594, 'KNN': 0.95515, 'Random Forest': 0.9684, 'Decision Tree': 0.9502, 'Support Vector Machines': 0.94715, 'Gradient Boosting Machines': 0.97175}\n"
     ]
    }
   ],
   "source": [
    "model3_scores = fit_and_score(models_3, X_train, X_test, y_train, y_test)\n",
    "\n",
    "# Print the model scores\n",
    "print(model3_scores)"
   ]
  },
  {
   "cell_type": "code",
   "execution_count": 138,
   "metadata": {},
   "outputs": [
    {
     "data": {
      "text/plain": [
       "{'Logistic Regression': 0.9594,\n",
       " 'KNN': 0.95515,\n",
       " 'Random Forest': 0.9684,\n",
       " 'Decision Tree': 0.9502}"
      ]
     },
     "execution_count": 138,
     "metadata": {},
     "output_type": "execute_result"
    }
   ],
   "source": [
    "model_scores"
   ]
  },
  {
   "cell_type": "code",
   "execution_count": 139,
   "metadata": {},
   "outputs": [
    {
     "data": {
      "text/plain": [
       "{'Support Vector Machines': 0.94715, 'Gradient Boosting Machines': 0.97175}"
      ]
     },
     "execution_count": 139,
     "metadata": {},
     "output_type": "execute_result"
    }
   ],
   "source": [
    "model2_scores"
   ]
  },
  {
   "cell_type": "markdown",
   "metadata": {},
   "source": [
    "Removing our z_score column didn't make of a difference, so we're on the clear. However we still need need to verify if the model is overfit. We'll check GBM and Random Forest because those were the models that scored the highest."
   ]
  },
  {
   "cell_type": "code",
   "execution_count": 142,
   "metadata": {},
   "outputs": [
    {
     "name": "stdout",
     "output_type": "stream",
     "text": [
      "{'Train Score': 0.9982125, 'Test Score': 0.9684, 'Overfitting': False}\n"
     ]
    }
   ],
   "source": [
    "# Checking overfitting in Random Forest Classifer\n",
    "\n",
    "X_train, X_test, y_train, y_test = train_test_split(X, y, test_size=0.2, random_state=42)\n",
    "\n",
    "# Define the function to check for overfitting\n",
    "def check_overfitting(model, X_train, X_test, y_train, y_test):\n",
    "    \"\"\"\n",
    "    Fits a model and checks for overfitting by comparing training and test scores.\n",
    "    \n",
    "    Parameters:\n",
    "    model: The machine learning model to be evaluated\n",
    "    X_train (array-like): Training data\n",
    "    X_test (array-like): Test data\n",
    "    y_train (array-like): Training labels\n",
    "    y_test (array-like): Test labels\n",
    "    \n",
    "    Returns:\n",
    "    dict: A dictionary with training and test scores and an overfitting status\n",
    "    \"\"\"\n",
    "    \n",
    "    # Fit the model to the training data\n",
    "    model.fit(X_train, y_train)\n",
    "    \n",
    "    # Evaluate the model on both training and test data\n",
    "    train_score = model.score(X_train, y_train)\n",
    "    test_score = model.score(X_test, y_test)\n",
    "    \n",
    "    # Determine overfitting status\n",
    "    overfitting = train_score - test_score > 0.1  # Adjust the threshold as needed\n",
    "\n",
    "    return {\n",
    "        \"Train Score\": train_score,\n",
    "        \"Test Score\": test_score,\n",
    "        \"Overfitting\": overfitting\n",
    "    }\n",
    "\n",
    "# Create a Random Forest model\n",
    "random_forest_model = RandomForestClassifier(random_state=42)\n",
    "\n",
    "# Check for overfitting with the Random Forest model\n",
    "overfitting_report = check_overfitting(random_forest_model, X_train, X_test, y_train, y_test)\n",
    "\n",
    "# Print the overfitting report\n",
    "print(overfitting_report)\n"
   ]
  },
  {
   "cell_type": "code",
   "execution_count": 143,
   "metadata": {},
   "outputs": [
    {
     "name": "stdout",
     "output_type": "stream",
     "text": [
      "{'Train Score': 0.9722, 'Test Score': 0.97175, 'Overfitting': False}\n"
     ]
    }
   ],
   "source": [
    "#Now let's review overfitting for GBM\n",
    "\n",
    "# Split the dataset into training and test sets\n",
    "X_train, X_test, y_train, y_test = train_test_split(X, y, test_size=0.2, random_state=42)\n",
    "\n",
    "# Define the function to check for overfitting\n",
    "def check_overfitting(model, X_train, X_test, y_train, y_test):\n",
    "    \"\"\"\n",
    "    Fits a model and checks for overfitting by comparing training and test scores.\n",
    "\n",
    "    Parameters:\n",
    "    model: The machine learning model to be evaluated\n",
    "    X_train (array-like): Training data\n",
    "    X_test (array-like): Test data\n",
    "    y_train (array-like): Training labels\n",
    "    y_test (array-like): Test labels\n",
    "\n",
    "    Returns:\n",
    "    dict: A dictionary with training and test scores and an overfitting status\n",
    "    \"\"\"\n",
    "    \n",
    "    # Fit the model to the training data\n",
    "    model.fit(X_train, y_train)\n",
    "    \n",
    "    # Evaluate the model on both training and test data\n",
    "    train_score = model.score(X_train, y_train)\n",
    "    test_score = model.score(X_test, y_test)\n",
    "    \n",
    "    # Determine overfitting status\n",
    "    overfitting = train_score - test_score > 0.1  # Adjust the threshold as needed\n",
    "\n",
    "    return {\n",
    "        \"Train Score\": train_score,\n",
    "        \"Test Score\": test_score,\n",
    "        \"Overfitting\": overfitting\n",
    "    }\n",
    "\n",
    "# Create a Gradient Boosting model\n",
    "gradient_boosting_model = GradientBoostingClassifier(random_state=42)\n",
    "\n",
    "# Check for overfitting with the Gradient Boosting model\n",
    "overfitting_report = check_overfitting(gradient_boosting_model, X_train, X_test, y_train, y_test)\n",
    "\n",
    "# Print the overfitting report\n",
    "print(overfitting_report)\n"
   ]
  },
  {
   "cell_type": "markdown",
   "metadata": {},
   "source": [
    "After the analysis we can conclude that these models are not overfit since both metrics returned 'False' for overfitting.\n",
    "In other words, the training and test scores are reasonably close to each other, indicating that the model generalizes well to unseen data. If it were True, that would suggest a significant gap between the training score and the test score, indicating potential overfitting."
   ]
  },
  {
   "cell_type": "code",
   "execution_count": null,
   "metadata": {},
   "outputs": [],
   "source": [
    "#Creating Streamlit app\n"
   ]
  },
  {
   "cell_type": "code",
   "execution_count": null,
   "metadata": {},
   "outputs": [],
   "source": []
  }
 ],
 "metadata": {
  "kernelspec": {
   "display_name": "base",
   "language": "python",
   "name": "python3"
  },
  "language_info": {
   "codemirror_mode": {
    "name": "ipython",
    "version": 3
   },
   "file_extension": ".py",
   "mimetype": "text/x-python",
   "name": "python",
   "nbconvert_exporter": "python",
   "pygments_lexer": "ipython3",
   "version": "3.7.3"
  }
 },
 "nbformat": 4,
 "nbformat_minor": 2
}
