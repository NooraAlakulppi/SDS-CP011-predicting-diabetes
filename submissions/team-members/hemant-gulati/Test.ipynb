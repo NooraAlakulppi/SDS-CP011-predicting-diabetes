{
 "cells": [
  {
   "cell_type": "code",
   "execution_count": 7,
   "id": "0a990d78-a52d-4335-a58f-30cf498b21bb",
   "metadata": {},
   "outputs": [
    {
     "name": "stdin",
     "output_type": "stream",
     "text": [
      "Enter HbA1c Level (e.g., 5.5):  6.9\n",
      "Enter Blood Glucose Level (e.g., 100):  102\n",
      "Enter BMI (e.g., 24.5):  24.5\n",
      "Enter Age (e.g., 45):  45\n",
      "Enter Hypertension (0 for No, 1 for Yes):  1\n",
      "Enter Smoking History (0 for No, 1 for Yes):  1\n",
      "Enter Heart Disease (0 for No, 1 for Yes):  1\n"
     ]
    },
    {
     "name": "stdout",
     "output_type": "stream",
     "text": [
      "Classification Counts: Counter({'Diabetic': 1})\n",
      "   Probability Prediction\n",
      "0     0.789774   Diabetic\n"
     ]
    }
   ],
   "source": [
    "        import numpy as np\n",
    "        import pandas as pd\n",
    "        import joblib\n",
    "        from utils import preprocess_and_predict_with_clinical_thresholds\n",
    "        \n",
    "        # Load the pipeline\n",
    "        pipeline_path = \"../../web-app/hemant-gulati/pipeline.pkl\"\n",
    "        pipeline = joblib.load(pipeline_path)\n",
    "        \n",
    "        # Collect user inputs\n",
    "        user_data = {\n",
    "            'hbA1c_level': [float(input(\"Enter HbA1c Level (e.g., 5.5): \"))],\n",
    "            'blood_glucose_level': [int(input(\"Enter Blood Glucose Level (e.g., 100): \"))],\n",
    "            'bmi': [float(input(\"Enter BMI (e.g., 24.5): \"))],\n",
    "            'age': [int(input(\"Enter Age (e.g., 45): \"))],\n",
    "            'hypertension': [int(input(\"Enter Hypertension (0 for No, 1 for Yes): \"))],\n",
    "            'smoking_history': [int(input(\"Enter Smoking History (0 for No, 1 for Yes): \"))],\n",
    "            'heart_disease': [int(input(\"Enter Heart Disease (0 for No, 1 for Yes): \"))]\n",
    "        }\n",
    "        \n",
    "        # Convert user input to DataFrame\n",
    "        user_df = pd.DataFrame(user_data)\n",
    "        \n",
    "        # Make predictions\n",
    "        results = preprocess_and_predict_with_clinical_thresholds(pipeline, user_df)\n",
    "        print(results)\n"
   ]
  },
  {
   "cell_type": "code",
   "execution_count": null,
   "id": "e218f294-cb7e-4867-88cd-5d4f3cb52141",
   "metadata": {},
   "outputs": [],
   "source": []
  },
  {
   "cell_type": "code",
   "execution_count": null,
   "id": "dc0b0402-ebbb-45b9-a4ac-31abc59b3fee",
   "metadata": {},
   "outputs": [],
   "source": []
  }
 ],
 "metadata": {
  "kernelspec": {
   "display_name": "Python 3 (ipykernel)",
   "language": "python",
   "name": "python3"
  },
  "language_info": {
   "codemirror_mode": {
    "name": "ipython",
    "version": 3
   },
   "file_extension": ".py",
   "mimetype": "text/x-python",
   "name": "python",
   "nbconvert_exporter": "python",
   "pygments_lexer": "ipython3",
   "version": "3.11.7"
  }
 },
 "nbformat": 4,
 "nbformat_minor": 5
}
